{
 "cells": [
  {
   "cell_type": "code",
   "execution_count": 67,
   "metadata": {},
   "outputs": [],
   "source": [
    "import datetime, time\n",
    "import itertools\n",
    "import numpy as np\n",
    "import pandas as pd\n",
    "import networkx as nx\n",
    "from functools import reduce\n",
    "from pyspark.sql import Window\n",
    "from pyspark.sql import SparkSession\n",
    "from pyspark.sql.types import (StructField, StringType,FloatType, \n",
    "                               DoubleType, IntegerType, StructType,\n",
    "                              DateType)\n",
    "from pyspark.sql import functions as F\n",
    "from pyspark.sql import DataFrame as spDataFrame\n",
    "\n",
    "\n",
    "from pyspark.ml import Pipeline, PipelineModel\n",
    "from pyspark.ml.feature import (Binarizer, OneHotEncoder, StringIndexer, HashingTF, \n",
    "                                Tokenizer, StandardScaler, VectorAssembler,\n",
    "                               OneHotEncoder, StringIndexer, VectorIndexer)\n",
    "from pyspark.ml.classification import LogisticRegression, LinearSVC, LinearSVCModel\n",
    "from pyspark.ml.evaluation import HasFeaturesCol\n",
    "from pyspark.ml.tuning import CrossValidator, ParamGridBuilder\n",
    "import os\n",
    "import matplotlib.pyplot as plt\n",
    "\n",
    "\n",
    "#from sklearn.pipeline import Pipeline, make_pipeline, make_union\n",
    "from sklearn.multiclass import OneVsOneClassifier\n",
    "from sklearn.feature_selection import chi2, RFECV, SelectKBest\n",
    "from sklearn.decomposition import PCA, NMF\n",
    "from sklearn.svm import SVC\n",
    "from sklearn.ensemble import RandomForestClassifier\n",
    "from sklearn.metrics import confusion_matrix\n",
    "from sklearn.model_selection import train_test_split, GridSearchCV, cross_val_score, StratifiedKFold\n",
    "from sklearn.linear_model import SGDClassifier, LogisticRegression\n",
    "from sklearn.preprocessing import StandardScaler\n",
    "\n",
    "import xgboost as xgb\n",
    "import plotly\n",
    "#import luminol\n",
    "import plotly.plotly as py\n",
    "import plotly.graph_objs as go\n",
    "\n",
    "from fbprophet import Prophet\n",
    "\n",
    "from keras.models import Sequential\n",
    "from keras.layers import LSTM\n",
    "from keras.layers import Dense\n",
    "\n",
    "from imblearn.over_sampling import SMOTE\n",
    "from imblearn.pipeline import Pipeline\n"
   ]
  },
  {
   "cell_type": "code",
   "execution_count": 2,
   "metadata": {},
   "outputs": [],
   "source": [
    "plotly.tools.set_credentials_file(username='smillett', api_key='MXYpm8AMvEte7SSw6dKu')"
   ]
  },
  {
   "cell_type": "markdown",
   "metadata": {},
   "source": [
    "This is to setup the sparksession. If additional resources need to be allocated it is done with this command"
   ]
  },
  {
   "cell_type": "markdown",
   "metadata": {},
   "source": [
    "# Import CSV Data"
   ]
  },
  {
   "cell_type": "code",
   "execution_count": 3,
   "metadata": {},
   "outputs": [],
   "source": [
    "# proc_sample.columns"
   ]
  },
  {
   "cell_type": "code",
   "execution_count": 18,
   "metadata": {
    "scrolled": true
   },
   "outputs": [
    {
     "name": "stdout",
     "output_type": "stream",
     "text": [
      "--- 175.439759016037 seconds ---\n"
     ]
    }
   ],
   "source": [
    "start_time = time.time()\n",
    "master_df = pd.read_csv('../Dataset/Output/complete_5m_df.csv')\n",
    "print(\"--- %s seconds ---\" % (time.time() - start_time))"
   ]
  },
  {
   "cell_type": "code",
   "execution_count": 19,
   "metadata": {},
   "outputs": [],
   "source": [
    "master_df = master_df.replace(-999, 0)\n",
    "#master_df['redteam_event'] = master_df.redteam_event.map(lambda x: 1 if x > 0 else x)"
   ]
  },
  {
   "cell_type": "code",
   "execution_count": 44,
   "metadata": {},
   "outputs": [],
   "source": [
    "resampled_df = master_df.groupby('time').agg({'redteam_event':'sum',\n",
    "                                               'dns_count':'mean',\n",
    "                                               'newresolved_count':'mean',\n",
    "                                               'fail_count':'mean',\n",
    "                                               'LoggedOn':'mean',\n",
    "                                               'dur':'mean',\n",
    "                                               'pkt_cnt':'mean',\n",
    "                                               'byte_cnt':'mean',\n",
    "                                               'avg_pkt_size':'mean',\n",
    "                                               'proc_total':'mean',\n",
    "                                               'proc_exec_total':'mean',\n",
    "                                               'newexecute_count':'mean',\n",
    "                                               'Proc_run':'mean'} )\n",
    "resampled_df['redteam_event'] = resampled_df.redteam_event.map(lambda x: 1 if x > 0 else x)"
   ]
  },
  {
   "cell_type": "code",
   "execution_count": 39,
   "metadata": {},
   "outputs": [
    {
     "data": {
      "text/plain": [
       "(129295890, 15)"
      ]
     },
     "execution_count": 39,
     "metadata": {},
     "output_type": "execute_result"
    }
   ],
   "source": [
    "master_df.shape"
   ]
  },
  {
   "cell_type": "code",
   "execution_count": 40,
   "metadata": {},
   "outputs": [
    {
     "data": {
      "text/plain": [
       "(10081, 13)"
      ]
     },
     "execution_count": 40,
     "metadata": {},
     "output_type": "execute_result"
    }
   ],
   "source": [
    "resampled_df.shape"
   ]
  },
  {
   "cell_type": "code",
   "execution_count": 41,
   "metadata": {},
   "outputs": [
    {
     "name": "stderr",
     "output_type": "stream",
     "text": [
      "INFO:fbprophet:Disabling yearly seasonality. Run prophet with yearly_seasonality=True to override this.\n",
      "INFO:fbprophet:Disabling yearly seasonality. Run prophet with yearly_seasonality=True to override this.\n",
      "INFO:fbprophet:Disabling yearly seasonality. Run prophet with yearly_seasonality=True to override this.\n",
      "INFO:fbprophet:Disabling yearly seasonality. Run prophet with yearly_seasonality=True to override this.\n",
      "INFO:fbprophet:Disabling yearly seasonality. Run prophet with yearly_seasonality=True to override this.\n",
      "INFO:fbprophet:Disabling yearly seasonality. Run prophet with yearly_seasonality=True to override this.\n",
      "INFO:fbprophet:Disabling yearly seasonality. Run prophet with yearly_seasonality=True to override this.\n",
      "INFO:fbprophet:Disabling yearly seasonality. Run prophet with yearly_seasonality=True to override this.\n",
      "INFO:fbprophet:Disabling yearly seasonality. Run prophet with yearly_seasonality=True to override this.\n",
      "INFO:fbprophet:Disabling yearly seasonality. Run prophet with yearly_seasonality=True to override this.\n",
      "INFO:fbprophet:Disabling yearly seasonality. Run prophet with yearly_seasonality=True to override this.\n",
      "INFO:fbprophet:Disabling yearly seasonality. Run prophet with yearly_seasonality=True to override this.\n"
     ]
    }
   ],
   "source": [
    "#Final Dataset with normalized data across all features\n",
    "normalized_df = pd.DataFrame(index=resampled_df.index)\n",
    "\n",
    "#Dataset with which shows the  data across all features\n",
    "timeseries_df = pd.DataFrame(index=resampled_df.index)\n",
    "for columns in resampled_df[resampled_df.columns.difference(['redteam_event','src_comp'])]:\n",
    "    m=Prophet()\n",
    "    prophet_test = pd.DataFrame({'ds':resampled_df.index,'y':resampled_df[columns]})\n",
    "    m.fit(prophet_test)\n",
    "    future=m.make_future_dataframe(periods=0)\n",
    "    forecast=m.predict(future)\n",
    "    timeseries_df[columns] = forecast['yhat'].values\n",
    "    normalized_df[columns] = resampled_df[columns] - forecast['yhat'].values"
   ]
  },
  {
   "cell_type": "code",
   "execution_count": 42,
   "metadata": {
    "scrolled": true
   },
   "outputs": [
    {
     "data": {
      "text/html": [
       "<div>\n",
       "<style scoped>\n",
       "    .dataframe tbody tr th:only-of-type {\n",
       "        vertical-align: middle;\n",
       "    }\n",
       "\n",
       "    .dataframe tbody tr th {\n",
       "        vertical-align: top;\n",
       "    }\n",
       "\n",
       "    .dataframe thead th {\n",
       "        text-align: right;\n",
       "    }\n",
       "</style>\n",
       "<table border=\"1\" class=\"dataframe\">\n",
       "  <thead>\n",
       "    <tr style=\"text-align: right;\">\n",
       "      <th></th>\n",
       "      <th>LoggedOn</th>\n",
       "      <th>Proc_run</th>\n",
       "      <th>avg_pkt_size</th>\n",
       "      <th>byte_cnt</th>\n",
       "      <th>dns_count</th>\n",
       "      <th>dur</th>\n",
       "      <th>fail_count</th>\n",
       "      <th>newexecute_count</th>\n",
       "      <th>newresolved_count</th>\n",
       "      <th>pkt_cnt</th>\n",
       "      <th>proc_exec_total</th>\n",
       "      <th>proc_total</th>\n",
       "    </tr>\n",
       "    <tr>\n",
       "      <th>time</th>\n",
       "      <th></th>\n",
       "      <th></th>\n",
       "      <th></th>\n",
       "      <th></th>\n",
       "      <th></th>\n",
       "      <th></th>\n",
       "      <th></th>\n",
       "      <th></th>\n",
       "      <th></th>\n",
       "      <th></th>\n",
       "      <th></th>\n",
       "      <th></th>\n",
       "    </tr>\n",
       "  </thead>\n",
       "  <tbody>\n",
       "    <tr>\n",
       "      <th>2017-01-01 00:00:00</th>\n",
       "      <td>0.913137</td>\n",
       "      <td>1.335985</td>\n",
       "      <td>3.373103</td>\n",
       "      <td>-7115.624888</td>\n",
       "      <td>0.025316</td>\n",
       "      <td>-6.080176</td>\n",
       "      <td>0.022276</td>\n",
       "      <td>2.321454</td>\n",
       "      <td>0.022183</td>\n",
       "      <td>-133.231825</td>\n",
       "      <td>1.618704</td>\n",
       "      <td>2.027763</td>\n",
       "    </tr>\n",
       "    <tr>\n",
       "      <th>2017-01-01 00:05:00</th>\n",
       "      <td>0.209978</td>\n",
       "      <td>-0.190086</td>\n",
       "      <td>-9.669390</td>\n",
       "      <td>-137718.012672</td>\n",
       "      <td>0.014486</td>\n",
       "      <td>-10.735224</td>\n",
       "      <td>0.020597</td>\n",
       "      <td>0.179098</td>\n",
       "      <td>0.011984</td>\n",
       "      <td>-277.480413</td>\n",
       "      <td>-0.095496</td>\n",
       "      <td>0.025029</td>\n",
       "    </tr>\n",
       "    <tr>\n",
       "      <th>2017-01-01 00:10:00</th>\n",
       "      <td>0.069941</td>\n",
       "      <td>-0.278272</td>\n",
       "      <td>-7.918636</td>\n",
       "      <td>-119028.830569</td>\n",
       "      <td>0.013233</td>\n",
       "      <td>-10.439069</td>\n",
       "      <td>0.004263</td>\n",
       "      <td>0.095575</td>\n",
       "      <td>0.010141</td>\n",
       "      <td>-263.260863</td>\n",
       "      <td>-0.209260</td>\n",
       "      <td>-0.149414</td>\n",
       "    </tr>\n",
       "    <tr>\n",
       "      <th>2017-01-01 00:15:00</th>\n",
       "      <td>-0.266092</td>\n",
       "      <td>-0.461024</td>\n",
       "      <td>-12.584954</td>\n",
       "      <td>-99373.561851</td>\n",
       "      <td>0.027207</td>\n",
       "      <td>-10.452807</td>\n",
       "      <td>-0.001399</td>\n",
       "      <td>-0.112882</td>\n",
       "      <td>0.012189</td>\n",
       "      <td>-239.928555</td>\n",
       "      <td>-0.410915</td>\n",
       "      <td>-0.395525</td>\n",
       "    </tr>\n",
       "    <tr>\n",
       "      <th>2017-01-01 00:20:00</th>\n",
       "      <td>-0.217041</td>\n",
       "      <td>-0.381126</td>\n",
       "      <td>-12.257914</td>\n",
       "      <td>-105317.025054</td>\n",
       "      <td>0.009241</td>\n",
       "      <td>-12.006434</td>\n",
       "      <td>0.003985</td>\n",
       "      <td>-0.040716</td>\n",
       "      <td>0.006932</td>\n",
       "      <td>-238.182820</td>\n",
       "      <td>-0.320702</td>\n",
       "      <td>-0.307842</td>\n",
       "    </tr>\n",
       "  </tbody>\n",
       "</table>\n",
       "</div>"
      ],
      "text/plain": [
       "                     LoggedOn  Proc_run  avg_pkt_size       byte_cnt  \\\n",
       "time                                                                   \n",
       "2017-01-01 00:00:00  0.913137  1.335985      3.373103   -7115.624888   \n",
       "2017-01-01 00:05:00  0.209978 -0.190086     -9.669390 -137718.012672   \n",
       "2017-01-01 00:10:00  0.069941 -0.278272     -7.918636 -119028.830569   \n",
       "2017-01-01 00:15:00 -0.266092 -0.461024    -12.584954  -99373.561851   \n",
       "2017-01-01 00:20:00 -0.217041 -0.381126    -12.257914 -105317.025054   \n",
       "\n",
       "                     dns_count        dur  fail_count  newexecute_count  \\\n",
       "time                                                                      \n",
       "2017-01-01 00:00:00   0.025316  -6.080176    0.022276          2.321454   \n",
       "2017-01-01 00:05:00   0.014486 -10.735224    0.020597          0.179098   \n",
       "2017-01-01 00:10:00   0.013233 -10.439069    0.004263          0.095575   \n",
       "2017-01-01 00:15:00   0.027207 -10.452807   -0.001399         -0.112882   \n",
       "2017-01-01 00:20:00   0.009241 -12.006434    0.003985         -0.040716   \n",
       "\n",
       "                     newresolved_count     pkt_cnt  proc_exec_total  \\\n",
       "time                                                                  \n",
       "2017-01-01 00:00:00           0.022183 -133.231825         1.618704   \n",
       "2017-01-01 00:05:00           0.011984 -277.480413        -0.095496   \n",
       "2017-01-01 00:10:00           0.010141 -263.260863        -0.209260   \n",
       "2017-01-01 00:15:00           0.012189 -239.928555        -0.410915   \n",
       "2017-01-01 00:20:00           0.006932 -238.182820        -0.320702   \n",
       "\n",
       "                     proc_total  \n",
       "time                             \n",
       "2017-01-01 00:00:00    2.027763  \n",
       "2017-01-01 00:05:00    0.025029  \n",
       "2017-01-01 00:10:00   -0.149414  \n",
       "2017-01-01 00:15:00   -0.395525  \n",
       "2017-01-01 00:20:00   -0.307842  "
      ]
     },
     "execution_count": 42,
     "metadata": {},
     "output_type": "execute_result"
    }
   ],
   "source": [
    "normalized_df.head()"
   ]
  },
  {
   "cell_type": "code",
   "execution_count": 45,
   "metadata": {},
   "outputs": [],
   "source": [
    "normalized_df.reset_index(inplace=True)\n",
    "ds = resampled_df['redteam_event']\n",
    "ds = ds.map({0:False, 1:True})\n",
    "def get_delay(ds):\n",
    "    x1 = (~ds).cumsum()\n",
    "    x2 = x1.where(ds, np.nan).ffill()\n",
    "    return x1 - x2\n",
    "\n",
    "ds = get_delay(ds).replace(np.nan,0)\n",
    "#ds = ds.map({False:0, True:1})\n",
    "resampled_df['last_redteam_event'] = ds\n",
    "normalized_df = normalized_df.merge(resampled_df['last_redteam_event'].reset_index(), on='time',how='left')"
   ]
  },
  {
   "cell_type": "markdown",
   "metadata": {},
   "source": [
    "# Basic stats on dataset"
   ]
  },
  {
   "cell_type": "code",
   "execution_count": 46,
   "metadata": {
    "scrolled": true
   },
   "outputs": [
    {
     "data": {
      "text/html": [
       "<div>\n",
       "<style scoped>\n",
       "    .dataframe tbody tr th:only-of-type {\n",
       "        vertical-align: middle;\n",
       "    }\n",
       "\n",
       "    .dataframe tbody tr th {\n",
       "        vertical-align: top;\n",
       "    }\n",
       "\n",
       "    .dataframe thead th {\n",
       "        text-align: right;\n",
       "    }\n",
       "</style>\n",
       "<table border=\"1\" class=\"dataframe\">\n",
       "  <thead>\n",
       "    <tr style=\"text-align: right;\">\n",
       "      <th></th>\n",
       "      <th>redteam_event</th>\n",
       "      <th>dns_count</th>\n",
       "      <th>newresolved_count</th>\n",
       "      <th>fail_count</th>\n",
       "      <th>LoggedOn</th>\n",
       "      <th>dur</th>\n",
       "      <th>pkt_cnt</th>\n",
       "      <th>byte_cnt</th>\n",
       "      <th>avg_pkt_size</th>\n",
       "      <th>proc_total</th>\n",
       "      <th>proc_exec_total</th>\n",
       "      <th>newexecute_count</th>\n",
       "      <th>Proc_run</th>\n",
       "      <th>last_redteam_event</th>\n",
       "    </tr>\n",
       "    <tr>\n",
       "      <th>time</th>\n",
       "      <th></th>\n",
       "      <th></th>\n",
       "      <th></th>\n",
       "      <th></th>\n",
       "      <th></th>\n",
       "      <th></th>\n",
       "      <th></th>\n",
       "      <th></th>\n",
       "      <th></th>\n",
       "      <th></th>\n",
       "      <th></th>\n",
       "      <th></th>\n",
       "      <th></th>\n",
       "      <th></th>\n",
       "    </tr>\n",
       "  </thead>\n",
       "  <tbody>\n",
       "    <tr>\n",
       "      <th>2017-01-01 00:00:00</th>\n",
       "      <td>0.0</td>\n",
       "      <td>0.033681</td>\n",
       "      <td>0.026528</td>\n",
       "      <td>0.067362</td>\n",
       "      <td>3.529657</td>\n",
       "      <td>22.837556</td>\n",
       "      <td>520.047988</td>\n",
       "      <td>497002.288525</td>\n",
       "      <td>55.782690</td>\n",
       "      <td>4.544858</td>\n",
       "      <td>3.469747</td>\n",
       "      <td>2.667064</td>\n",
       "      <td>2.816393</td>\n",
       "      <td>0.0</td>\n",
       "    </tr>\n",
       "    <tr>\n",
       "      <th>2017-01-01 00:05:00</th>\n",
       "      <td>0.0</td>\n",
       "      <td>0.023250</td>\n",
       "      <td>0.016352</td>\n",
       "      <td>0.065662</td>\n",
       "      <td>2.824221</td>\n",
       "      <td>18.157895</td>\n",
       "      <td>374.563618</td>\n",
       "      <td>365614.214103</td>\n",
       "      <td>42.708237</td>\n",
       "      <td>2.544200</td>\n",
       "      <td>1.758048</td>\n",
       "      <td>0.523761</td>\n",
       "      <td>1.292795</td>\n",
       "      <td>0.0</td>\n",
       "    </tr>\n",
       "    <tr>\n",
       "      <th>2017-01-01 00:10:00</th>\n",
       "      <td>0.0</td>\n",
       "      <td>0.022392</td>\n",
       "      <td>0.014531</td>\n",
       "      <td>0.049309</td>\n",
       "      <td>2.681991</td>\n",
       "      <td>18.431872</td>\n",
       "      <td>387.640067</td>\n",
       "      <td>383592.880896</td>\n",
       "      <td>44.429815</td>\n",
       "      <td>2.371844</td>\n",
       "      <td>1.646737</td>\n",
       "      <td>0.439257</td>\n",
       "      <td>1.207003</td>\n",
       "      <td>0.0</td>\n",
       "    </tr>\n",
       "    <tr>\n",
       "      <th>2017-01-01 00:15:00</th>\n",
       "      <td>0.0</td>\n",
       "      <td>0.036756</td>\n",
       "      <td>0.016599</td>\n",
       "      <td>0.043633</td>\n",
       "      <td>2.343846</td>\n",
       "      <td>18.398387</td>\n",
       "      <td>409.925777</td>\n",
       "      <td>402614.909414</td>\n",
       "      <td>39.737081</td>\n",
       "      <td>2.127816</td>\n",
       "      <td>1.447475</td>\n",
       "      <td>0.229784</td>\n",
       "      <td>1.026559</td>\n",
       "      <td>0.0</td>\n",
       "    </tr>\n",
       "    <tr>\n",
       "      <th>2017-01-01 00:20:00</th>\n",
       "      <td>0.0</td>\n",
       "      <td>0.019176</td>\n",
       "      <td>0.011364</td>\n",
       "      <td>0.049006</td>\n",
       "      <td>2.390862</td>\n",
       "      <td>16.827415</td>\n",
       "      <td>410.724195</td>\n",
       "      <td>396116.731771</td>\n",
       "      <td>40.040411</td>\n",
       "      <td>2.217566</td>\n",
       "      <td>1.540009</td>\n",
       "      <td>0.300900</td>\n",
       "      <td>1.108665</td>\n",
       "      <td>0.0</td>\n",
       "    </tr>\n",
       "  </tbody>\n",
       "</table>\n",
       "</div>"
      ],
      "text/plain": [
       "                     redteam_event  dns_count  newresolved_count  fail_count  \\\n",
       "time                                                                           \n",
       "2017-01-01 00:00:00            0.0   0.033681           0.026528    0.067362   \n",
       "2017-01-01 00:05:00            0.0   0.023250           0.016352    0.065662   \n",
       "2017-01-01 00:10:00            0.0   0.022392           0.014531    0.049309   \n",
       "2017-01-01 00:15:00            0.0   0.036756           0.016599    0.043633   \n",
       "2017-01-01 00:20:00            0.0   0.019176           0.011364    0.049006   \n",
       "\n",
       "                     LoggedOn        dur     pkt_cnt       byte_cnt  \\\n",
       "time                                                                  \n",
       "2017-01-01 00:00:00  3.529657  22.837556  520.047988  497002.288525   \n",
       "2017-01-01 00:05:00  2.824221  18.157895  374.563618  365614.214103   \n",
       "2017-01-01 00:10:00  2.681991  18.431872  387.640067  383592.880896   \n",
       "2017-01-01 00:15:00  2.343846  18.398387  409.925777  402614.909414   \n",
       "2017-01-01 00:20:00  2.390862  16.827415  410.724195  396116.731771   \n",
       "\n",
       "                     avg_pkt_size  proc_total  proc_exec_total  \\\n",
       "time                                                             \n",
       "2017-01-01 00:00:00     55.782690    4.544858         3.469747   \n",
       "2017-01-01 00:05:00     42.708237    2.544200         1.758048   \n",
       "2017-01-01 00:10:00     44.429815    2.371844         1.646737   \n",
       "2017-01-01 00:15:00     39.737081    2.127816         1.447475   \n",
       "2017-01-01 00:20:00     40.040411    2.217566         1.540009   \n",
       "\n",
       "                     newexecute_count  Proc_run  last_redteam_event  \n",
       "time                                                                 \n",
       "2017-01-01 00:00:00          2.667064  2.816393                 0.0  \n",
       "2017-01-01 00:05:00          0.523761  1.292795                 0.0  \n",
       "2017-01-01 00:10:00          0.439257  1.207003                 0.0  \n",
       "2017-01-01 00:15:00          0.229784  1.026559                 0.0  \n",
       "2017-01-01 00:20:00          0.300900  1.108665                 0.0  "
      ]
     },
     "execution_count": 46,
     "metadata": {},
     "output_type": "execute_result"
    }
   ],
   "source": [
    "resampled_df.head()"
   ]
  },
  {
   "cell_type": "code",
   "execution_count": 48,
   "metadata": {
    "scrolled": true
   },
   "outputs": [
    {
     "data": {
      "text/html": [
       "<div>\n",
       "<style scoped>\n",
       "    .dataframe tbody tr th:only-of-type {\n",
       "        vertical-align: middle;\n",
       "    }\n",
       "\n",
       "    .dataframe tbody tr th {\n",
       "        vertical-align: top;\n",
       "    }\n",
       "\n",
       "    .dataframe thead th {\n",
       "        text-align: right;\n",
       "    }\n",
       "</style>\n",
       "<table border=\"1\" class=\"dataframe\">\n",
       "  <thead>\n",
       "    <tr style=\"text-align: right;\">\n",
       "      <th></th>\n",
       "      <th>dns_count</th>\n",
       "    </tr>\n",
       "    <tr>\n",
       "      <th>redteam_event</th>\n",
       "      <th></th>\n",
       "    </tr>\n",
       "  </thead>\n",
       "  <tbody>\n",
       "    <tr>\n",
       "      <th>0.0</th>\n",
       "      <td>9754</td>\n",
       "    </tr>\n",
       "    <tr>\n",
       "      <th>1.0</th>\n",
       "      <td>327</td>\n",
       "    </tr>\n",
       "  </tbody>\n",
       "</table>\n",
       "</div>"
      ],
      "text/plain": [
       "               dns_count\n",
       "redteam_event           \n",
       "0.0                 9754\n",
       "1.0                  327"
      ]
     },
     "execution_count": 48,
     "metadata": {},
     "output_type": "execute_result"
    }
   ],
   "source": [
    "resampled_df[['dns_count','redteam_event']].groupby('redteam_event').count()"
   ]
  },
  {
   "cell_type": "code",
   "execution_count": null,
   "metadata": {},
   "outputs": [],
   "source": []
  },
  {
   "cell_type": "code",
   "execution_count": null,
   "metadata": {},
   "outputs": [],
   "source": []
  },
  {
   "cell_type": "code",
   "execution_count": null,
   "metadata": {},
   "outputs": [],
   "source": []
  },
  {
   "cell_type": "code",
   "execution_count": null,
   "metadata": {},
   "outputs": [],
   "source": []
  },
  {
   "cell_type": "code",
   "execution_count": null,
   "metadata": {},
   "outputs": [],
   "source": []
  },
  {
   "cell_type": "code",
   "execution_count": null,
   "metadata": {},
   "outputs": [],
   "source": []
  },
  {
   "cell_type": "markdown",
   "metadata": {},
   "source": [
    "# Visual data exploration"
   ]
  },
  {
   "cell_type": "code",
   "execution_count": 54,
   "metadata": {},
   "outputs": [],
   "source": [
    "#remove daily variance\n",
    "\n",
    "y_logged_test = resampled_df['dur']\n",
    "logged_diff = list()\n",
    "min_5_block = 288\n",
    "for i in range(min_5_block, len(y_logged_test)):\n",
    "    value = y_logged_test[i] - y_logged_test[i - min_5_block]\n",
    "    logged_diff.append(value)"
   ]
  },
  {
   "cell_type": "code",
   "execution_count": 56,
   "metadata": {},
   "outputs": [
    {
     "data": {
      "text/html": [
       "<iframe id=\"igraph\" scrolling=\"no\" style=\"border:none;\" seamless=\"seamless\" src=\"https://plot.ly/~smillett/78.embed\" height=\"525px\" width=\"100%\"></iframe>"
      ],
      "text/plain": [
       "<plotly.tools.PlotlyDisplay object>"
      ]
     },
     "execution_count": 56,
     "metadata": {},
     "output_type": "execute_result"
    }
   ],
   "source": [
    "redteam_events = resampled_df[resampled_df['redteam_event']>0].index\n",
    "LoggedOn = go.Scatter(x=resampled_df.index,y=logged_diff)\n",
    "data = [LoggedOn]\n",
    "vertlines = []\n",
    "\n",
    "for dates in redteam_events:\n",
    "    vertlines.append(dict(\n",
    "        type = 'line',\n",
    "        x0=dates,\n",
    "        y0= -3,\n",
    "        x1=dates,\n",
    "        y1=3,\n",
    "        layer='below',\n",
    "        line= dict(\n",
    "        color= 'rgb(255, 0, 0)',\n",
    "        width= 3))\n",
    "    )\n",
    "layout = dict(shapes=vertlines)\n",
    "fig = dict(data=data, layout=layout)\n",
    "py.iplot(fig)"
   ]
  },
  {
   "cell_type": "code",
   "execution_count": 57,
   "metadata": {},
   "outputs": [
    {
     "data": {
      "text/html": [
       "<iframe id=\"igraph\" scrolling=\"no\" style=\"border:none;\" seamless=\"seamless\" src=\"https://plot.ly/~smillett/80.embed\" height=\"525px\" width=\"100%\"></iframe>"
      ],
      "text/plain": [
       "<plotly.tools.PlotlyDisplay object>"
      ]
     },
     "execution_count": 57,
     "metadata": {},
     "output_type": "execute_result"
    }
   ],
   "source": [
    "redteam_events = resampled_df[resampled_df['redteam_event']>0].index\n",
    "LoggedOn = go.Scatter(x=resampled_df.index,y=normalized_df['dur'].values)\n",
    "data = [LoggedOn]\n",
    "vertlines = []\n",
    "\n",
    "for dates in redteam_events:\n",
    "    vertlines.append(dict(\n",
    "        type = 'line',\n",
    "        x0=dates,\n",
    "        y0= -3,\n",
    "        x1=dates,\n",
    "        y1=3,\n",
    "        layer='below',\n",
    "        line= dict(\n",
    "        color= 'rgb(255, 0, 0)',\n",
    "        width= 3))\n",
    "    )\n",
    "layout = dict(shapes=vertlines)\n",
    "fig = dict(data=data, layout=layout)\n",
    "py.iplot(fig)"
   ]
  },
  {
   "cell_type": "markdown",
   "metadata": {},
   "source": [
    "# Model Creation"
   ]
  },
  {
   "cell_type": "code",
   "execution_count": 98,
   "metadata": {},
   "outputs": [],
   "source": [
    "y = resampled_df.redteam_event\n",
    "X = normalized_df[normalized_df.columns.difference(['redteam_event','time','index'])]"
   ]
  },
  {
   "cell_type": "code",
   "execution_count": 99,
   "metadata": {},
   "outputs": [],
   "source": [
    "X_train, X_test, y_train, y_test = train_test_split(X, y, test_size=.33,stratify=y )"
   ]
  },
  {
   "cell_type": "code",
   "execution_count": 100,
   "metadata": {},
   "outputs": [],
   "source": [
    "strtCV = StratifiedKFold(n_splits=10)\n",
    "\n",
    "pipe = Pipeline([\n",
    "                  ('scale', SMOTE()), \n",
    "                  ('clf', LogisticRegression())])"
   ]
  },
  {
   "cell_type": "code",
   "execution_count": 101,
   "metadata": {},
   "outputs": [],
   "source": [
    "N_FEATURES_OPTIONS = [ 2, 5, 10]\n",
    "\n",
    "#RandomForestClassifier()\n",
    "C_OPTIONS = [1e-2, 1e-1, 1e0, 1e1]"
   ]
  },
  {
   "cell_type": "code",
   "execution_count": 102,
   "metadata": {},
   "outputs": [],
   "source": [
    "rfc = RandomForestClassifier( random_state=0)\n",
    "param_grid = [\n",
    "    {\n",
    "\n",
    "        'scale':[None,SMOTE()],\n",
    "        'clf':[SVC(),LogisticRegression()],\n",
    "        'clf__C': C_OPTIONS\n",
    "    },\n",
    "    {\n",
    "\n",
    "        'scale':[None,SMOTE()],\n",
    "        'clf':[SGDClassifier(tol=1e-3,max_iter=1000)],\n",
    "        'clf__alpha': C_OPTIONS\n",
    "    },\n",
    "    {\n",
    "\n",
    "        'scale':[None,SMOTE()],\n",
    "        'clf':[RandomForestClassifier()],\n",
    "        'clf__n_estimators': [200, 700],\n",
    "        'clf__max_features': ['auto', 'sqrt', 'log2']\n",
    "    }\n",
    "]\n",
    "grid = GridSearchCV(pipe, param_grid, cv=strtCV, scoring='accuracy',verbose=3,n_jobs=30)"
   ]
  },
  {
   "cell_type": "code",
   "execution_count": 103,
   "metadata": {
    "scrolled": false
   },
   "outputs": [
    {
     "name": "stdout",
     "output_type": "stream",
     "text": [
      "Fitting 10 folds for each of 36 candidates, totalling 360 fits\n"
     ]
    },
    {
     "name": "stderr",
     "output_type": "stream",
     "text": [
      "[Parallel(n_jobs=30)]: Using backend LokyBackend with 30 concurrent workers.\n",
      "[Parallel(n_jobs=30)]: Done  68 tasks      | elapsed:   18.7s\n",
      "[Parallel(n_jobs=30)]: Done 228 tasks      | elapsed:   27.1s\n",
      "[Parallel(n_jobs=30)]: Done 360 out of 360 | elapsed:  1.1min finished\n"
     ]
    },
    {
     "data": {
      "text/plain": [
       "GridSearchCV(cv=StratifiedKFold(n_splits=10, random_state=None, shuffle=False),\n",
       "       error_score='raise-deprecating',\n",
       "       estimator=Pipeline(memory=None,\n",
       "     steps=[('scale', SMOTE(k_neighbors=5, kind='deprecated', m_neighbors='deprecated', n_jobs=1,\n",
       "   out_step='deprecated', random_state=None, ratio=None,\n",
       "   sampling_strategy='auto', svm_estimator='deprecated')), ('clf', LogisticRegression(C=1.0, class_weight=None, d...enalty='l2', random_state=None, solver='warn',\n",
       "          tol=0.0001, verbose=0, warm_start=False))]),\n",
       "       fit_params=None, iid='warn', n_jobs=30,\n",
       "       param_grid=[{'scale': [None, SMOTE(k_neighbors=5, kind='deprecated', m_neighbors='deprecated', n_jobs=1,\n",
       "   out_step='deprecated', random_state=None, ratio=None,\n",
       "   sampling_strategy='auto', svm_estimator='deprecated')], 'clf': [SVC(C=1.0, cache_size=200, class_weight=None, coef0=0.0,\n",
       "  decision_fun...warm_start=False)], 'clf__n_estimators': [200, 700], 'clf__max_features': ['auto', 'sqrt', 'log2']}],\n",
       "       pre_dispatch='2*n_jobs', refit=True, return_train_score='warn',\n",
       "       scoring='accuracy', verbose=3)"
      ]
     },
     "execution_count": 103,
     "metadata": {},
     "output_type": "execute_result"
    }
   ],
   "source": [
    "grid.fit(X_train, y_train)\n"
   ]
  },
  {
   "cell_type": "code",
   "execution_count": 104,
   "metadata": {
    "scrolled": true
   },
   "outputs": [
    {
     "name": "stdout",
     "output_type": "stream",
     "text": [
      "-grid.best_score_ 0.996150429375185\n",
      "grid.best_params_ {'clf': RandomForestClassifier(bootstrap=True, class_weight=None, criterion='gini',\n",
      "            max_depth=None, max_features='log2', max_leaf_nodes=None,\n",
      "            min_impurity_decrease=0.0, min_impurity_split=None,\n",
      "            min_samples_leaf=1, min_samples_split=2,\n",
      "            min_weight_fraction_leaf=0.0, n_estimators=700, n_jobs=None,\n",
      "            oob_score=False, random_state=None, verbose=0,\n",
      "            warm_start=False), 'clf__max_features': 'log2', 'clf__n_estimators': 700, 'scale': None}\n",
      "grid.best_estimator_ Pipeline(memory=None,\n",
      "     steps=[('scale', None), ('clf', RandomForestClassifier(bootstrap=True, class_weight=None, criterion='gini',\n",
      "            max_depth=None, max_features='log2', max_leaf_nodes=None,\n",
      "            min_impurity_decrease=0.0, min_impurity_split=None,\n",
      "            min_samples_leaf=1, min_samples_split=2,\n",
      "            min_weight_fraction_leaf=0.0, n_estimators=700, n_jobs=None,\n",
      "            oob_score=False, random_state=None, verbose=0,\n",
      "            warm_start=False))])\n"
     ]
    }
   ],
   "source": [
    "print(\"-grid.best_score_ {}\".format(grid.best_score_))\n",
    "print(\"grid.best_params_ {}\".format(grid.best_params_))\n",
    "print(\"grid.best_estimator_ {}\".format(grid.best_estimator_))"
   ]
  },
  {
   "cell_type": "code",
   "execution_count": 105,
   "metadata": {},
   "outputs": [
    {
     "data": {
      "image/png": "[encoded data removed]",
      "text/plain": [
       "<Figure size 432x288 with 1 Axes>"
      ]
     },
     "metadata": {},
     "output_type": "display_data"
    }
   ],
   "source": [
    "importances = grid.best_estimator_.named_steps['clf'].feature_importances_\n",
    "features = X.columns\n",
    "indices = np.argsort(importances)\n",
    "\n",
    "plt.title('Feature Importances')\n",
    "plt.barh(range(len(indices)), importances[indices], color='b', align='center')\n",
    "plt.yticks(range(len(indices)), [features[i] for i in indices])\n",
    "plt.xlabel('Relative Importance')\n",
    "plt.show()"
   ]
  },
  {
   "cell_type": "code",
   "execution_count": null,
   "metadata": {},
   "outputs": [
    {
     "name": "stdout",
     "output_type": "stream",
     "text": [
      "Fitting 10 folds for each of 36 candidates, totalling 360 fits\n"
     ]
    },
    {
     "name": "stderr",
     "output_type": "stream",
     "text": [
      "[Parallel(n_jobs=30)]: Using backend LokyBackend with 30 concurrent workers.\n",
      "[Parallel(n_jobs=30)]: Done  82 tasks      | elapsed:    8.6s\n"
     ]
    }
   ],
   "source": [
    "xgb_model = xgb.XGBClassifier()\n",
    "\n",
    "#brute force scan for all parameters, here are the tricks\n",
    "#usually max_depth is 6,7,8\n",
    "#learning rate is around 0.05, but small changes may make big diff\n",
    "#tuning min_child_weight subsample colsample_bytree can have \n",
    "#much fun of fighting against overfit \n",
    "#n_estimators is how many round of boosting\n",
    "#finally, ensemble xgboost with multiple seeds may reduce variance\n",
    "parameters = {'nthread':[4], #when use hyperthread, xgboost may become slower\n",
    "              'objective':['binary:hinge','binary:logistic'],\n",
    "              'learning_rate': [0.5,0.05,0.005], #so called `eta` value\n",
    "              'max_depth': [6,7,8],\n",
    "              'min_child_weight': [11],\n",
    "              'silent': [1],\n",
    "              'subsample': [0.8],\n",
    "              'colsample_bytree': [0.7],\n",
    "              'n_estimators': [5,1000], #number of trees, change it to 1000 for better results\n",
    "              'seed': [1337]}\n",
    "\n",
    "\n",
    "grid = GridSearchCV(xgb_model, parameters, n_jobs=30, \n",
    "                   cv=strtCV, \n",
    "                   scoring='accuracy',\n",
    "                   verbose=3, refit=True)\n",
    "\n",
    "grid.fit(X_train, y_train)"
   ]
  },
  {
   "cell_type": "code",
   "execution_count": null,
   "metadata": {
    "scrolled": true
   },
   "outputs": [],
   "source": [
    "print(\"grid.best_score_ {}\".format(grid.best_score_))\n",
    "print(\"grid.best_params_ {}\".format(grid.best_params_))\n",
    "print(\"grid.best_estimator_ {}\".format(grid.best_estimator_))"
   ]
  },
  {
   "cell_type": "code",
   "execution_count": null,
   "metadata": {},
   "outputs": [],
   "source": [
    "#print(grid.best_estimator_.feature_importances_)"
   ]
  },
  {
   "cell_type": "code",
   "execution_count": null,
   "metadata": {},
   "outputs": [],
   "source": [
    "# plt.bar(range(len(grid.best_estimator_.feature_importances_)), grid.best_estimator_.feature_importances_)\n",
    "# plt.show()"
   ]
  },
  {
   "cell_type": "code",
   "execution_count": null,
   "metadata": {
    "scrolled": true
   },
   "outputs": [],
   "source": [
    "xgb.plot_importance(grid.best_estimator_)\n",
    "plt.show()"
   ]
  },
  {
   "cell_type": "code",
   "execution_count": null,
   "metadata": {},
   "outputs": [],
   "source": [
    "y_pred = grid.predict(X_test)"
   ]
  },
  {
   "cell_type": "code",
   "execution_count": null,
   "metadata": {},
   "outputs": [],
   "source": [
    "confusion_matrix(y_test,y_pred)"
   ]
  },
  {
   "cell_type": "code",
   "execution_count": 81,
   "metadata": {},
   "outputs": [],
   "source": [
    "def plot_confusion_matrix(cm, classes,\n",
    "                          normalize=False,\n",
    "                          title='Confusion matrix',\n",
    "                          cmap=plt.cm.Blues):\n",
    "    \"\"\"\n",
    "    This function prints and plots the confusion matrix.\n",
    "    Normalization can be applied by setting `normalize=True`.\n",
    "    \"\"\"\n",
    "    if normalize:\n",
    "        cm = cm.astype('float') / cm.sum(axis=1)[:, np.newaxis]\n",
    "        print(\"Normalized confusion matrix\")\n",
    "    else:\n",
    "        print('Confusion matrix, without normalization')\n",
    "\n",
    "    print(cm)\n",
    "\n",
    "    plt.imshow(cm, interpolation='nearest', cmap=cmap)\n",
    "    plt.title(title)\n",
    "    plt.colorbar()\n",
    "    tick_marks = np.arange(len(classes))\n",
    "    plt.xticks(tick_marks, classes, rotation=45)\n",
    "    plt.yticks(tick_marks, classes)\n",
    "\n",
    "    fmt = '.2f' if normalize else 'd'\n",
    "    thresh = cm.max() / 2.\n",
    "    for i, j in itertools.product(range(cm.shape[0]), range(cm.shape[1])):\n",
    "        plt.text(j, i, format(cm[i, j], fmt),\n",
    "                 horizontalalignment=\"center\",\n",
    "                 color=\"white\" if cm[i, j] > thresh else \"black\")\n",
    "\n",
    "    plt.ylabel('True label')\n",
    "    plt.xlabel('Predicted label')\n",
    "    plt.tight_layout()"
   ]
  },
  {
   "cell_type": "code",
   "execution_count": 82,
   "metadata": {},
   "outputs": [
    {
     "name": "stdout",
     "output_type": "stream",
     "text": [
      "Confusion matrix, without normalization\n",
      "[[3219    0]\n",
      " [   0  108]]\n",
      "Normalized confusion matrix\n",
      "[[1. 0.]\n",
      " [0. 1.]]\n"
     ]
    },
    {
     "data": {
      "image/png": "[encoded data removed]",
      "text/plain": [
       "<Figure size 432x288 with 2 Axes>"
      ]
     },
     "metadata": {},
     "output_type": "display_data"
    },
    {
     "data": {
      "image/png": "[encoded data removed]",
      "text/plain": [
       "<Figure size 432x288 with 2 Axes>"
      ]
     },
     "metadata": {},
     "output_type": "display_data"
    }
   ],
   "source": [
    "cnf_matrix = confusion_matrix(y_test, y_pred)\n",
    "np.set_printoptions(precision=2)\n",
    "\n",
    "class_names = ['0','1']\n",
    "\n",
    "# Plot non-normalized confusion matrix\n",
    "plt.figure()\n",
    "plot_confusion_matrix(cnf_matrix, classes=class_names, title='Confusion matrix, without normalization')\n",
    "\n",
    "# Plot normalized confusion matrix\n",
    "plt.figure()\n",
    "plot_confusion_matrix(cnf_matrix, classes=class_names, normalize=True,title='Normalized confusion matrix')\n",
    "\n",
    "plt.show()"
   ]
  },
  {
   "cell_type": "markdown",
   "metadata": {},
   "source": [
    "# Combine Data"
   ]
  },
  {
   "cell_type": "markdown",
   "metadata": {},
   "source": [
    "This section I tried transforming the dataframes into pandas dataframes. This works, sort of, but it is very slow."
   ]
  },
  {
   "cell_type": "markdown",
   "metadata": {},
   "source": [
    "# Create Classification model"
   ]
  },
  {
   "cell_type": "code",
   "execution_count": null,
   "metadata": {},
   "outputs": [],
   "source": [
    "cv = StratifiedKFold(n_splits=6)\n",
    "classifier = xgb.XGBClassifier()\n",
    "\n",
    "# X_train, X_test, y_train, y_test = train_test_split(X, y, test_size=0.33, random_state=42)\n",
    "\n",
    "\n",
    "tprs = []\n",
    "aucs = []\n",
    "mean_fpr = np.linspace(0, 1, 100)\n",
    "\n",
    "i = 0\n",
    "for train, test in cv.split(X, y):\n",
    "    print('round ',i+1)\n",
    "    probas_ = classifier.fit(X[train], y[train]).predict_proba(X[test])\n",
    "    # Compute ROC curve and area the curve\n",
    "    fpr, tpr, thresholds = roc_curve(y[test], probas_[:, 1])\n",
    "    tprs.append(interp(mean_fpr, fpr, tpr))\n",
    "    tprs[-1][0] = 0.0\n",
    "    roc_auc = auc(fpr, tpr)\n",
    "    aucs.append(roc_auc)\n",
    "    plt.plot(fpr, tpr, lw=1, alpha=0.3,\n",
    "             label='ROC fold %d (AUC = %0.2f)' % (i, roc_auc))\n",
    "\n",
    "    i += 1\n",
    "plt.plot([0, 1], [0, 1], linestyle='--', lw=2, color='r',\n",
    "         label='Chance', alpha=.8)\n",
    "\n",
    "mean_tpr = np.mean(tprs, axis=0)\n",
    "mean_tpr[-1] = 1.0\n",
    "mean_auc = auc(mean_fpr, mean_tpr)\n",
    "std_auc = np.std(aucs)\n",
    "plt.plot(mean_fpr, mean_tpr, color='b',\n",
    "         label=r'Mean ROC (AUC = %0.2f $\\pm$ %0.2f)' % (mean_auc, std_auc),\n",
    "         lw=2, alpha=.8)\n",
    "\n",
    "std_tpr = np.std(tprs, axis=0)\n",
    "tprs_upper = np.minimum(mean_tpr + std_tpr, 1)\n",
    "tprs_lower = np.maximum(mean_tpr - std_tpr, 0)\n",
    "plt.fill_between(mean_fpr, tprs_lower, tprs_upper, color='grey', alpha=.2,\n",
    "                 label=r'$\\pm$ 1 std. dev.')\n",
    "\n",
    "plt.xlim([-0.05, 1.05])\n",
    "plt.ylim([-0.05, 1.05])\n",
    "plt.xlabel('False Positive Rate')\n",
    "plt.ylabel('True Positive Rate')\n",
    "plt.title('Receiver operating characteristic example')\n",
    "plt.legend(loc=\"lower right\")\n",
    "plt.show()"
   ]
  }
 ],
 "metadata": {
  "kernelspec": {
   "display_name": "Python 3",
   "language": "python",
   "name": "python3"
  },
  "language_info": {
   "codemirror_mode": {
    "name": "ipython",
    "version": 3
   },
   "file_extension": ".py",
   "mimetype": "text/x-python",
   "name": "python",
   "nbconvert_exporter": "python",
   "pygments_lexer": "ipython3",
   "version": "3.6.5"
  }
 },
 "nbformat": 4,
 "nbformat_minor": 2
}
