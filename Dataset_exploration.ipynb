{
 "cells": [
  {
   "cell_type": "code",
   "execution_count": 5,
   "metadata": {},
   "outputs": [],
   "source": [
    "import datetime, time\n",
    "import itertools\n",
    "import numpy as np\n",
    "import pandas as pd\n",
    "import networkx as nx\n",
    "from functools import reduce\n",
    "#from pyspark.sql import Window\n",
    "#from pyspark.sql import SparkSession\n",
    "#from pyspark.sql.types import (StructField, StringType,FloatType, \n",
    "#                               DoubleType, IntegerType, StructType,\n",
    "#                              DateType)\n",
    "#from pyspark.sql import functions as F\n",
    "#from pyspark.sql import DataFrame as spDataFrame\n",
    "\n",
    "\n",
    "#from pyspark.ml import Pipeline, PipelineModel\n",
    "#from pyspark.ml.feature import (Binarizer, OneHotEncoder, StringIndexer, HashingTF, \n",
    "#                                Tokenizer, StandardScaler, VectorAssembler,\n",
    "#                               OneHotEncoder, StringIndexer, VectorIndexer)\n",
    "#from pyspark.ml.classification import LogisticRegression, LinearSVC, LinearSVCModel\n",
    "#from pyspark.ml.evaluation import HasFeaturesCol\n",
    "#from pyspark.ml.tuning import CrossValidator, ParamGridBuilder\n",
    "import os\n",
    "import matplotlib.pyplot as plt\n",
    "import seaborn as sns\n",
    "\n",
    "#from sklearn.pipeline import Pipeline, make_pipeline, make_union\n",
    "#from sklearn.multiclass import OneVsOneClassifier\n",
    "#from sklearn.feature_selection import chi2, RFECV, SelectKBest\n",
    "#from sklearn.decomposition import PCA, NMF\n",
    "#from sklearn.svm import SVC\n",
    "#from sklearn.ensemble import RandomForestClassifier\n",
    "#from sklearn.metrics import confusion_matrix\n",
    "#from sklearn.model_selection import train_test_split, GridSearchCV, cross_val_score, StratifiedKFold\n",
    "#from sklearn.linear_model import SGDClassifier, LogisticRegression\n",
    "#from sklearn.preprocessing import StandardScaler\n",
    "#from sklearn.externals.joblib import parallel_backend\n",
    "\n",
    "#from imblearn.over_sampling import SMOTE\n",
    "#from imblearn.pipeline import Pipeline\n",
    "\n",
    "#import xgboost as xgb\n",
    "import plotly\n",
    "#import luminol\n",
    "import plotly.plotly as py\n",
    "import plotly.graph_objs as go"
   ]
  },
  {
   "cell_type": "code",
   "execution_count": 3,
   "metadata": {},
   "outputs": [],
   "source": [
    "plotly.tools.set_credentials_file(username='smillett', api_key='MXYpm8AMvEte7SSw6dKu')"
   ]
  },
  {
   "cell_type": "markdown",
   "metadata": {},
   "source": [
    "# Import CSV Data"
   ]
  },
  {
   "cell_type": "code",
   "execution_count": 6,
   "metadata": {},
   "outputs": [
    {
     "name": "stdout",
     "output_type": "stream",
     "text": [
      "--- 185.89728355407715 seconds ---\n"
     ]
    }
   ],
   "source": [
    "# Import dataset\n",
    "start_time = time.time()\n",
    "master_df = pd.read_csv('../Dataset/Output/complete_5m_df.csv')\n",
    "print(\"--- %s seconds ---\" % (time.time() - start_time))"
   ]
  },
  {
   "cell_type": "markdown",
   "metadata": {},
   "source": [
    "# Data cleaning"
   ]
  },
  {
   "cell_type": "code",
   "execution_count": 7,
   "metadata": {},
   "outputs": [],
   "source": [
    "#replace all missing values with 0\n",
    "master_df = master_df.replace(-999, 0)\n",
    "master_df['time']=pd.to_datetime(master_df['time'])"
   ]
  },
  {
   "cell_type": "code",
   "execution_count": 8,
   "metadata": {},
   "outputs": [
    {
     "name": "stdout",
     "output_type": "stream",
     "text": [
      "(129295890, 15)\n"
     ]
    },
    {
     "data": {
      "text/html": [
       "<div>\n",
       "<style scoped>\n",
       "    .dataframe tbody tr th:only-of-type {\n",
       "        vertical-align: middle;\n",
       "    }\n",
       "\n",
       "    .dataframe tbody tr th {\n",
       "        vertical-align: top;\n",
       "    }\n",
       "\n",
       "    .dataframe thead th {\n",
       "        text-align: right;\n",
       "    }\n",
       "</style>\n",
       "<table border=\"1\" class=\"dataframe\">\n",
       "  <thead>\n",
       "    <tr style=\"text-align: right;\">\n",
       "      <th></th>\n",
       "      <th>src_comp</th>\n",
       "      <th>time</th>\n",
       "      <th>fail_count</th>\n",
       "      <th>LoggedOn</th>\n",
       "      <th>dns_count</th>\n",
       "      <th>newresolved_count</th>\n",
       "      <th>dur</th>\n",
       "      <th>pkt_cnt</th>\n",
       "      <th>byte_cnt</th>\n",
       "      <th>avg_pkt_size</th>\n",
       "      <th>redteam_event</th>\n",
       "      <th>proc_total</th>\n",
       "      <th>proc_exec_total</th>\n",
       "      <th>newexecute_count</th>\n",
       "      <th>Proc_run</th>\n",
       "    </tr>\n",
       "  </thead>\n",
       "  <tbody>\n",
       "    <tr>\n",
       "      <th>0</th>\n",
       "      <td>C1</td>\n",
       "      <td>2017-01-01 00:00:00</td>\n",
       "      <td>0.0</td>\n",
       "      <td>7.0</td>\n",
       "      <td>0.0</td>\n",
       "      <td>0.0</td>\n",
       "      <td>0.0</td>\n",
       "      <td>0.0</td>\n",
       "      <td>0.0</td>\n",
       "      <td>0.0</td>\n",
       "      <td>0.0</td>\n",
       "      <td>2.0</td>\n",
       "      <td>1.0</td>\n",
       "      <td>1.0</td>\n",
       "      <td>1.0</td>\n",
       "    </tr>\n",
       "    <tr>\n",
       "      <th>1</th>\n",
       "      <td>C1</td>\n",
       "      <td>2017-01-01 00:05:00</td>\n",
       "      <td>0.0</td>\n",
       "      <td>0.0</td>\n",
       "      <td>0.0</td>\n",
       "      <td>0.0</td>\n",
       "      <td>0.0</td>\n",
       "      <td>0.0</td>\n",
       "      <td>0.0</td>\n",
       "      <td>0.0</td>\n",
       "      <td>0.0</td>\n",
       "      <td>2.0</td>\n",
       "      <td>1.0</td>\n",
       "      <td>0.0</td>\n",
       "      <td>1.0</td>\n",
       "    </tr>\n",
       "    <tr>\n",
       "      <th>2</th>\n",
       "      <td>C1</td>\n",
       "      <td>2017-01-01 00:10:00</td>\n",
       "      <td>0.0</td>\n",
       "      <td>0.0</td>\n",
       "      <td>0.0</td>\n",
       "      <td>0.0</td>\n",
       "      <td>0.0</td>\n",
       "      <td>0.0</td>\n",
       "      <td>0.0</td>\n",
       "      <td>0.0</td>\n",
       "      <td>0.0</td>\n",
       "      <td>2.0</td>\n",
       "      <td>1.0</td>\n",
       "      <td>0.0</td>\n",
       "      <td>1.0</td>\n",
       "    </tr>\n",
       "    <tr>\n",
       "      <th>3</th>\n",
       "      <td>C1</td>\n",
       "      <td>2017-01-01 00:15:00</td>\n",
       "      <td>0.0</td>\n",
       "      <td>2.0</td>\n",
       "      <td>0.0</td>\n",
       "      <td>0.0</td>\n",
       "      <td>0.0</td>\n",
       "      <td>0.0</td>\n",
       "      <td>0.0</td>\n",
       "      <td>0.0</td>\n",
       "      <td>0.0</td>\n",
       "      <td>2.0</td>\n",
       "      <td>1.0</td>\n",
       "      <td>0.0</td>\n",
       "      <td>1.0</td>\n",
       "    </tr>\n",
       "    <tr>\n",
       "      <th>4</th>\n",
       "      <td>C1</td>\n",
       "      <td>2017-01-01 00:20:00</td>\n",
       "      <td>0.0</td>\n",
       "      <td>0.0</td>\n",
       "      <td>0.0</td>\n",
       "      <td>0.0</td>\n",
       "      <td>0.0</td>\n",
       "      <td>0.0</td>\n",
       "      <td>0.0</td>\n",
       "      <td>0.0</td>\n",
       "      <td>0.0</td>\n",
       "      <td>2.0</td>\n",
       "      <td>1.0</td>\n",
       "      <td>0.0</td>\n",
       "      <td>1.0</td>\n",
       "    </tr>\n",
       "  </tbody>\n",
       "</table>\n",
       "</div>"
      ],
      "text/plain": [
       "  src_comp                time  fail_count  LoggedOn  dns_count  \\\n",
       "0       C1 2017-01-01 00:00:00         0.0       7.0        0.0   \n",
       "1       C1 2017-01-01 00:05:00         0.0       0.0        0.0   \n",
       "2       C1 2017-01-01 00:10:00         0.0       0.0        0.0   \n",
       "3       C1 2017-01-01 00:15:00         0.0       2.0        0.0   \n",
       "4       C1 2017-01-01 00:20:00         0.0       0.0        0.0   \n",
       "\n",
       "   newresolved_count  dur  pkt_cnt  byte_cnt  avg_pkt_size  redteam_event  \\\n",
       "0                0.0  0.0      0.0       0.0           0.0            0.0   \n",
       "1                0.0  0.0      0.0       0.0           0.0            0.0   \n",
       "2                0.0  0.0      0.0       0.0           0.0            0.0   \n",
       "3                0.0  0.0      0.0       0.0           0.0            0.0   \n",
       "4                0.0  0.0      0.0       0.0           0.0            0.0   \n",
       "\n",
       "   proc_total  proc_exec_total  newexecute_count  Proc_run  \n",
       "0         2.0              1.0               1.0       1.0  \n",
       "1         2.0              1.0               0.0       1.0  \n",
       "2         2.0              1.0               0.0       1.0  \n",
       "3         2.0              1.0               0.0       1.0  \n",
       "4         2.0              1.0               0.0       1.0  "
      ]
     },
     "execution_count": 8,
     "metadata": {},
     "output_type": "execute_result"
    }
   ],
   "source": [
    "print(master_df.shape)\n",
    "master_df.head()"
   ]
  },
  {
   "cell_type": "code",
   "execution_count": 9,
   "metadata": {},
   "outputs": [],
   "source": [
    "resampled_df = master_df.groupby('time').agg({'redteam_event':'sum',\n",
    "                                               'dns_count':'mean',\n",
    "                                               'newresolved_count':'mean',\n",
    "                                               'fail_count':'mean',\n",
    "                                               'LoggedOn':'mean',\n",
    "                                               'dur':'mean',\n",
    "                                               'pkt_cnt':'mean',\n",
    "                                               'byte_cnt':'mean',\n",
    "                                               'avg_pkt_size':'mean',\n",
    "                                               'proc_total':'mean',\n",
    "                                               'proc_exec_total':'mean',\n",
    "                                               'newexecute_count':'mean',\n",
    "                                               'Proc_run':'mean'} )\n",
    "resampled_df.index = pd.to_datetime(resampled_df.index)\n",
    "resampled_df['redteam_event'] = resampled_df.redteam_event.map(lambda x: 1 if x > 0 else x)\n",
    "#redteam_events = resampled_df[resampled_df['redteam_event']>0].index"
   ]
  },
  {
   "cell_type": "markdown",
   "metadata": {},
   "source": [
    "# Look at Size, Shape and Examples of Data"
   ]
  },
  {
   "cell_type": "code",
   "execution_count": 11,
   "metadata": {},
   "outputs": [],
   "source": [
    "reduced_df = master_df[master_df['time']<=('2017-01-03')]"
   ]
  },
  {
   "cell_type": "code",
   "execution_count": 12,
   "metadata": {},
   "outputs": [
    {
     "name": "stdout",
     "output_type": "stream",
     "text": [
      "(5394014, 15)\n"
     ]
    },
    {
     "data": {
      "text/html": [
       "<div>\n",
       "<style scoped>\n",
       "    .dataframe tbody tr th:only-of-type {\n",
       "        vertical-align: middle;\n",
       "    }\n",
       "\n",
       "    .dataframe tbody tr th {\n",
       "        vertical-align: top;\n",
       "    }\n",
       "\n",
       "    .dataframe thead th {\n",
       "        text-align: right;\n",
       "    }\n",
       "</style>\n",
       "<table border=\"1\" class=\"dataframe\">\n",
       "  <thead>\n",
       "    <tr style=\"text-align: right;\">\n",
       "      <th></th>\n",
       "      <th>src_comp</th>\n",
       "      <th>time</th>\n",
       "      <th>fail_count</th>\n",
       "      <th>LoggedOn</th>\n",
       "      <th>dns_count</th>\n",
       "      <th>newresolved_count</th>\n",
       "      <th>dur</th>\n",
       "      <th>pkt_cnt</th>\n",
       "      <th>byte_cnt</th>\n",
       "      <th>avg_pkt_size</th>\n",
       "      <th>redteam_event</th>\n",
       "      <th>proc_total</th>\n",
       "      <th>proc_exec_total</th>\n",
       "      <th>newexecute_count</th>\n",
       "      <th>Proc_run</th>\n",
       "    </tr>\n",
       "  </thead>\n",
       "  <tbody>\n",
       "    <tr>\n",
       "      <th>0</th>\n",
       "      <td>C1</td>\n",
       "      <td>2017-01-01 00:00:00</td>\n",
       "      <td>0.0</td>\n",
       "      <td>7.0</td>\n",
       "      <td>0.0</td>\n",
       "      <td>0.0</td>\n",
       "      <td>0.0</td>\n",
       "      <td>0.0</td>\n",
       "      <td>0.0</td>\n",
       "      <td>0.0</td>\n",
       "      <td>0.0</td>\n",
       "      <td>2.0</td>\n",
       "      <td>1.0</td>\n",
       "      <td>1.0</td>\n",
       "      <td>1.0</td>\n",
       "    </tr>\n",
       "    <tr>\n",
       "      <th>1</th>\n",
       "      <td>C1</td>\n",
       "      <td>2017-01-01 00:05:00</td>\n",
       "      <td>0.0</td>\n",
       "      <td>0.0</td>\n",
       "      <td>0.0</td>\n",
       "      <td>0.0</td>\n",
       "      <td>0.0</td>\n",
       "      <td>0.0</td>\n",
       "      <td>0.0</td>\n",
       "      <td>0.0</td>\n",
       "      <td>0.0</td>\n",
       "      <td>2.0</td>\n",
       "      <td>1.0</td>\n",
       "      <td>0.0</td>\n",
       "      <td>1.0</td>\n",
       "    </tr>\n",
       "    <tr>\n",
       "      <th>2</th>\n",
       "      <td>C1</td>\n",
       "      <td>2017-01-01 00:10:00</td>\n",
       "      <td>0.0</td>\n",
       "      <td>0.0</td>\n",
       "      <td>0.0</td>\n",
       "      <td>0.0</td>\n",
       "      <td>0.0</td>\n",
       "      <td>0.0</td>\n",
       "      <td>0.0</td>\n",
       "      <td>0.0</td>\n",
       "      <td>0.0</td>\n",
       "      <td>2.0</td>\n",
       "      <td>1.0</td>\n",
       "      <td>0.0</td>\n",
       "      <td>1.0</td>\n",
       "    </tr>\n",
       "    <tr>\n",
       "      <th>3</th>\n",
       "      <td>C1</td>\n",
       "      <td>2017-01-01 00:15:00</td>\n",
       "      <td>0.0</td>\n",
       "      <td>2.0</td>\n",
       "      <td>0.0</td>\n",
       "      <td>0.0</td>\n",
       "      <td>0.0</td>\n",
       "      <td>0.0</td>\n",
       "      <td>0.0</td>\n",
       "      <td>0.0</td>\n",
       "      <td>0.0</td>\n",
       "      <td>2.0</td>\n",
       "      <td>1.0</td>\n",
       "      <td>0.0</td>\n",
       "      <td>1.0</td>\n",
       "    </tr>\n",
       "    <tr>\n",
       "      <th>4</th>\n",
       "      <td>C1</td>\n",
       "      <td>2017-01-01 00:20:00</td>\n",
       "      <td>0.0</td>\n",
       "      <td>0.0</td>\n",
       "      <td>0.0</td>\n",
       "      <td>0.0</td>\n",
       "      <td>0.0</td>\n",
       "      <td>0.0</td>\n",
       "      <td>0.0</td>\n",
       "      <td>0.0</td>\n",
       "      <td>0.0</td>\n",
       "      <td>2.0</td>\n",
       "      <td>1.0</td>\n",
       "      <td>0.0</td>\n",
       "      <td>1.0</td>\n",
       "    </tr>\n",
       "  </tbody>\n",
       "</table>\n",
       "</div>"
      ],
      "text/plain": [
       "  src_comp                time  fail_count  LoggedOn  dns_count  \\\n",
       "0       C1 2017-01-01 00:00:00         0.0       7.0        0.0   \n",
       "1       C1 2017-01-01 00:05:00         0.0       0.0        0.0   \n",
       "2       C1 2017-01-01 00:10:00         0.0       0.0        0.0   \n",
       "3       C1 2017-01-01 00:15:00         0.0       2.0        0.0   \n",
       "4       C1 2017-01-01 00:20:00         0.0       0.0        0.0   \n",
       "\n",
       "   newresolved_count  dur  pkt_cnt  byte_cnt  avg_pkt_size  redteam_event  \\\n",
       "0                0.0  0.0      0.0       0.0           0.0            0.0   \n",
       "1                0.0  0.0      0.0       0.0           0.0            0.0   \n",
       "2                0.0  0.0      0.0       0.0           0.0            0.0   \n",
       "3                0.0  0.0      0.0       0.0           0.0            0.0   \n",
       "4                0.0  0.0      0.0       0.0           0.0            0.0   \n",
       "\n",
       "   proc_total  proc_exec_total  newexecute_count  Proc_run  \n",
       "0         2.0              1.0               1.0       1.0  \n",
       "1         2.0              1.0               0.0       1.0  \n",
       "2         2.0              1.0               0.0       1.0  \n",
       "3         2.0              1.0               0.0       1.0  \n",
       "4         2.0              1.0               0.0       1.0  "
      ]
     },
     "execution_count": 12,
     "metadata": {},
     "output_type": "execute_result"
    }
   ],
   "source": [
    "print (reduced_df.shape)\n",
    "reduced_df.head()"
   ]
  },
  {
   "cell_type": "markdown",
   "metadata": {},
   "source": [
    "# Build charts looking for outliers\n",
    "### Noise is removed by only looking at samples above a certain count\n",
    "### We assume a feature with zero events in a time frame is not an IOC"
   ]
  },
  {
   "cell_type": "code",
   "execution_count": 13,
   "metadata": {},
   "outputs": [
    {
     "data": {
      "image/png": "[encoded data removed]",
      "text/plain": [
       "<Figure size 432x288 with 1 Axes>"
      ]
     },
     "metadata": {},
     "output_type": "display_data"
    }
   ],
   "source": [
    "# First look at boxplots of sample features showing how noise prevents seeing outliers\n",
    "plt.figure()\n",
    "plt.boxplot([reduced_df['LoggedOn'],reduced_df['dns_count']]);"
   ]
  },
  {
   "cell_type": "code",
   "execution_count": 20,
   "metadata": {},
   "outputs": [
    {
     "data": {
      "image/png": "[encoded data removed]",
      "text/plain": [
       "<Figure size 864x720 with 1 Axes>"
      ]
     },
     "metadata": {},
     "output_type": "display_data"
    },
    {
     "data": {
      "image/png": "[encoded data removed]",
      "text/plain": [
       "<Figure size 864x720 with 1 Axes>"
      ]
     },
     "metadata": {},
     "output_type": "display_data"
    },
    {
     "data": {
      "text/plain": [
       "src_comp             388\n",
       "time                 388\n",
       "fail_count           388\n",
       "LoggedOn             388\n",
       "dns_count            388\n",
       "newresolved_count    388\n",
       "dur                  388\n",
       "pkt_cnt              388\n",
       "byte_cnt             388\n",
       "avg_pkt_size         388\n",
       "redteam_event        388\n",
       "proc_total           388\n",
       "proc_exec_total      388\n",
       "newexecute_count     388\n",
       "Proc_run             388\n",
       "dtype: int64"
      ]
     },
     "execution_count": 20,
     "metadata": {},
     "output_type": "execute_result"
    }
   ],
   "source": [
    "# Examine dns_count feature\n",
    "dns_remove_noise = reduced_df[(reduced_df[['dns_count']] >15).all(axis=1)]\n",
    "#print(\"We removed {:02.3f}\".format(1-(dns_remove_noise.count()/reduced_df.count())))\n",
    "plt.figure(figsize=(12,10))\n",
    "plt.boxplot(dns_remove_noise['dns_count'])\n",
    "plt.figure(figsize=(12,10))\n",
    "plt.hist(dns_remove_noise['dns_count'],bins=int(388))\n",
    "plt.show()\n",
    "dns_remove_noise.count()"
   ]
  },
  {
   "cell_type": "code",
   "execution_count": 49,
   "metadata": {},
   "outputs": [
    {
     "data": {
      "image/png": "[encoded data removed]",
      "text/plain": [
       "<Figure size 864x720 with 1 Axes>"
      ]
     },
     "metadata": {},
     "output_type": "display_data"
    },
    {
     "data": {
      "image/png": "[encoded data removed]",
      "text/plain": [
       "<Figure size 864x720 with 1 Axes>"
      ]
     },
     "metadata": {},
     "output_type": "display_data"
    },
    {
     "data": {
      "text/plain": [
       "src_comp             102\n",
       "time                 102\n",
       "fail_count           102\n",
       "LoggedOn             102\n",
       "dns_count            102\n",
       "newresolved_count    102\n",
       "dur                  102\n",
       "pkt_cnt              102\n",
       "byte_cnt             102\n",
       "avg_pkt_size         102\n",
       "redteam_event        102\n",
       "proc_total           102\n",
       "proc_exec_total      102\n",
       "newexecute_count     102\n",
       "Proc_run             102\n",
       "dtype: int64"
      ]
     },
     "execution_count": 49,
     "metadata": {},
     "output_type": "execute_result"
    }
   ],
   "source": [
    "# Examine Processes Run feature\n",
    "proc_remove_noise = reduced_df[(reduced_df[['Proc_run']] >400).all(axis=1)]\n",
    "plt.figure(figsize=(12,10))\n",
    "plt.boxplot(proc_remove_noise['Proc_run'])\n",
    "plt.figure(figsize=(12,10))\n",
    "plt.hist(proc_remove_noise['Proc_run'],bins=int(102))\n",
    "plt.show()\n",
    "proc_remove_noise.count()"
   ]
  },
  {
   "cell_type": "code",
   "execution_count": 27,
   "metadata": {},
   "outputs": [
    {
     "data": {
      "image/png": "[encoded data removed]",
      "text/plain": [
       "<Figure size 864x720 with 1 Axes>"
      ]
     },
     "metadata": {},
     "output_type": "display_data"
    },
    {
     "data": {
      "image/png": "[encoded data removed]",
      "text/plain": [
       "<Figure size 864x720 with 1 Axes>"
      ]
     },
     "metadata": {},
     "output_type": "display_data"
    },
    {
     "data": {
      "text/plain": [
       "src_comp             233\n",
       "time                 233\n",
       "fail_count           233\n",
       "LoggedOn             233\n",
       "dns_count            233\n",
       "newresolved_count    233\n",
       "dur                  233\n",
       "pkt_cnt              233\n",
       "byte_cnt             233\n",
       "avg_pkt_size         233\n",
       "redteam_event        233\n",
       "proc_total           233\n",
       "proc_exec_total      233\n",
       "newexecute_count     233\n",
       "Proc_run             233\n",
       "dtype: int64"
      ]
     },
     "execution_count": 27,
     "metadata": {},
     "output_type": "execute_result"
    }
   ],
   "source": [
    "# Examine fail_count feature\n",
    "failCnt_remove_noise = reduced_df[(reduced_df[['fail_count']] >30).all(axis=1)]\n",
    "plt.figure(figsize=(12,10))\n",
    "plt.boxplot(failCnt_remove_noise['fail_count'])\n",
    "plt.figure(figsize=(12,10))\n",
    "plt.hist(failCnt_remove_noise['fail_count'],bins=int(233))\n",
    "plt.show()\n",
    "failCnt_remove_noise.count()"
   ]
  },
  {
   "cell_type": "code",
   "execution_count": 36,
   "metadata": {},
   "outputs": [
    {
     "data": {
      "image/png": "[encoded data removed]",
      "text/plain": [
       "<Figure size 864x720 with 1 Axes>"
      ]
     },
     "metadata": {},
     "output_type": "display_data"
    },
    {
     "data": {
      "image/png": "[encoded data removed]",
      "text/plain": [
       "<Figure size 864x720 with 1 Axes>"
      ]
     },
     "metadata": {},
     "output_type": "display_data"
    },
    {
     "data": {
      "text/plain": [
       "src_comp             1939\n",
       "time                 1939\n",
       "fail_count           1939\n",
       "LoggedOn             1939\n",
       "dns_count            1939\n",
       "newresolved_count    1939\n",
       "dur                  1939\n",
       "pkt_cnt              1939\n",
       "byte_cnt             1939\n",
       "avg_pkt_size         1939\n",
       "redteam_event        1939\n",
       "proc_total           1939\n",
       "proc_exec_total      1939\n",
       "newexecute_count     1939\n",
       "Proc_run             1939\n",
       "dtype: int64"
      ]
     },
     "execution_count": 36,
     "metadata": {},
     "output_type": "execute_result"
    }
   ],
   "source": [
    "# Examine pkt_cnt feature\n",
    "pkt_remove_noise = reduced_df[(reduced_df[['pkt_cnt']] >500000).all(axis=1)]\n",
    "plt.figure(figsize=(12,10))\n",
    "plt.boxplot(pkt_remove_noise['pkt_cnt'])\n",
    "plt.figure(figsize=(12,10))\n",
    "plt.hist(pkt_remove_noise['pkt_cnt'],bins=int(950))\n",
    "plt.show()\n",
    "pkt_remove_noise.count()"
   ]
  },
  {
   "cell_type": "code",
   "execution_count": 38,
   "metadata": {},
   "outputs": [
    {
     "data": {
      "image/png": "[encoded data removed]",
      "text/plain": [
       "<Figure size 864x720 with 1 Axes>"
      ]
     },
     "metadata": {},
     "output_type": "display_data"
    },
    {
     "data": {
      "image/png": "[encoded data removed]",
      "text/plain": [
       "<Figure size 864x720 with 1 Axes>"
      ]
     },
     "metadata": {},
     "output_type": "display_data"
    },
    {
     "data": {
      "text/plain": [
       "src_comp             398\n",
       "time                 398\n",
       "fail_count           398\n",
       "LoggedOn             398\n",
       "dns_count            398\n",
       "newresolved_count    398\n",
       "dur                  398\n",
       "pkt_cnt              398\n",
       "byte_cnt             398\n",
       "avg_pkt_size         398\n",
       "redteam_event        398\n",
       "proc_total           398\n",
       "proc_exec_total      398\n",
       "newexecute_count     398\n",
       "Proc_run             398\n",
       "dtype: int64"
      ]
     },
     "execution_count": 38,
     "metadata": {},
     "output_type": "execute_result"
    }
   ],
   "source": [
    "# Examine LoggedOn feature\n",
    "LoggedOn_remove_noise = reduced_df[(reduced_df[['LoggedOn']] >400).all(axis=1)]\n",
    "plt.figure(figsize=(12,10))\n",
    "plt.boxplot(LoggedOn_remove_noise['LoggedOn'])\n",
    "plt.figure(figsize=(12,10))\n",
    "plt.hist(LoggedOn_remove_noise['LoggedOn'],bins=int(398))\n",
    "plt.show()\n",
    "LoggedOn_remove_noise.count()"
   ]
  },
  {
   "cell_type": "code",
   "execution_count": 44,
   "metadata": {},
   "outputs": [
    {
     "data": {
      "image/png": "[encoded data removed]",
      "text/plain": [
       "<Figure size 864x720 with 1 Axes>"
      ]
     },
     "metadata": {},
     "output_type": "display_data"
    },
    {
     "data": {
      "image/png": "[encoded data removed]",
      "text/plain": [
       "<Figure size 864x720 with 1 Axes>"
      ]
     },
     "metadata": {},
     "output_type": "display_data"
    },
    {
     "data": {
      "text/plain": [
       "src_comp             3441\n",
       "time                 3441\n",
       "fail_count           3441\n",
       "LoggedOn             3441\n",
       "dns_count            3441\n",
       "newresolved_count    3441\n",
       "dur                  3441\n",
       "pkt_cnt              3441\n",
       "byte_cnt             3441\n",
       "avg_pkt_size         3441\n",
       "redteam_event        3441\n",
       "proc_total           3441\n",
       "proc_exec_total      3441\n",
       "newexecute_count     3441\n",
       "Proc_run             3441\n",
       "dtype: int64"
      ]
     },
     "execution_count": 44,
     "metadata": {},
     "output_type": "execute_result"
    }
   ],
   "source": [
    "# Examine byte_cnt feature\n",
    "byte_remove_noise = reduced_df[(reduced_df[['byte_cnt']] >100000000).all(axis=1)]\n",
    "plt.figure(figsize=(12,10))\n",
    "plt.boxplot(byte_remove_noise['byte_cnt'])\n",
    "plt.figure(figsize=(12,10))\n",
    "plt.hist(byte_remove_noise['byte_cnt'],bins=int(1500))\n",
    "plt.show()\n",
    "byte_remove_noise.count()"
   ]
  },
  {
   "cell_type": "code",
   "execution_count": null,
   "metadata": {},
   "outputs": [],
   "source": [
    "# Make chart time vs high number of IOC"
   ]
  }
 ],
 "metadata": {
  "kernelspec": {
   "display_name": "Python 3",
   "language": "python",
   "name": "python3"
  },
  "language_info": {
   "codemirror_mode": {
    "name": "ipython",
    "version": 3
   },
   "file_extension": ".py",
   "mimetype": "text/x-python",
   "name": "python",
   "nbconvert_exporter": "python",
   "pygments_lexer": "ipython3",
   "version": "3.6.5"
  }
 },
 "nbformat": 4,
 "nbformat_minor": 2
}
