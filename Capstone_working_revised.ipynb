{
 "cells": [
  {
   "cell_type": "code",
   "execution_count": 35,
   "metadata": {},
   "outputs": [],
   "source": [
    "import pyspark as spark\n",
    "import datetime, time\n",
    "import pandas as pd\n",
    "import networkx as nx\n",
    "from functools import reduce\n",
    "from pyspark.sql.types import (StructField, StringType,FloatType, \n",
    "                               DoubleType, IntegerType, StructType,\n",
    "                              DateType)\n",
    "from pyspark.sql import functions as F\n",
    "from pyspark.sql import DataFrame as spDataFrame\n",
    "from pyspark.ml.feature import Binarizer, OneHotEncoder, StringIndexer\n",
    "import os\n",
    "import matplotlib.pyplot as plt\n",
    "#from tokenizer import Tokenizer"
   ]
  },
  {
   "cell_type": "code",
   "execution_count": 36,
   "metadata": {},
   "outputs": [],
   "source": [
    "def unionAll(*dfs):\n",
    "    return reduce(spDataFrame.unionAll, dfs)"
   ]
  },
  {
   "cell_type": "code",
   "execution_count": 101,
   "metadata": {},
   "outputs": [],
   "source": [
    "from pyspark.sql import SparkSession\n",
    "spark = SparkSession \\\n",
    "        .builder \\\n",
    "        .appName('Capstone Analysis') \\\n",
    "        .config(\"spark.driver.memory\", \"45g\") \\\n",
    "        .config(\"spark.driver.cores\", \"10\") \\\n",
    "        .config(\"spark.dirver.maxResultSize\", \"8g\") \\\n",
    "        .config(\"spark.executor.memory\", \"6g\") \\\n",
    "        .getOrCreate()"
   ]
  },
  {
   "cell_type": "markdown",
   "metadata": {},
   "source": [
    "## Import DATA"
   ]
  },
  {
   "cell_type": "code",
   "execution_count": 38,
   "metadata": {},
   "outputs": [],
   "source": [
    "proc_data_schema = [StructField('time',IntegerType(),True),\n",
    "                   StructField('user@domain',StringType(),True),\n",
    "                   StructField('src_comp',StringType(),True),\n",
    "                   StructField('proc_name',StringType(),True),\n",
    "                   StructField('strt',StringType())]\n",
    "proc_final_struc = StructType(fields = proc_data_schema)\n",
    "proc = spark.read.csv('/users7/csegrad/smillett/capstone/Dataset/proc.txt',schema=proc_final_struc)\n",
    "\n",
    "auth_data_schema = [StructField('time',IntegerType(),True),\n",
    "                   StructField('src_user@domain',StringType(),True),\n",
    "                   StructField('dest_user@domain',StringType(),True),\n",
    "                   StructField('src_comp',StringType(),True),\n",
    "                   StructField('dest_comp',StringType(),True),\n",
    "                   StructField('auth_type',StringType(),True),\n",
    "                   StructField('logon_type',StringType(),True),\n",
    "                   StructField('auth_orient',StringType(),True),\n",
    "                   StructField('success',StringType(),True)]\n",
    "auth_final_struc = StructType(fields = auth_data_schema)\n",
    "auth = spark.read.csv('/users7/csegrad/smillett/capstone/Dataset/auth.txt',schema=auth_final_struc )\n",
    "\n",
    "flows_data_schema = [StructField('time',IntegerType(),False),\n",
    "                   StructField('dur',IntegerType(),False),\n",
    "                   StructField('src_comp',StringType(),False),\n",
    "                   StructField('src_port',StringType(),False),\n",
    "                   StructField('dest_comp',StringType(),False),\n",
    "                   StructField('dest_port',StringType(),False),\n",
    "                   StructField('protocol',StringType(),False),\n",
    "                   StructField('pkt_cnt',IntegerType(),False),\n",
    "                   StructField('byte_cnt',IntegerType(),False)]\n",
    "flows_final_struc = StructType(fields = flows_data_schema)\n",
    "flows = spark.read.csv('/users7/csegrad/smillett/capstone/Dataset/flows.txt',schema=flows_final_struc )\n",
    "\n",
    "dns_data_schema = [StructField('time',IntegerType(),True),\n",
    "                   StructField('src_comp',StringType(),True),\n",
    "                   StructField('cmp_resolved',StringType(),True)]\n",
    "dns_final_struc = StructType(fields = dns_data_schema)\n",
    "dns = spark.read.csv('/users7/csegrad/smillett/capstone/Dataset/dns.txt',schema=dns_final_struc)\n",
    "\n",
    "redteam_data_schema = [StructField('time',IntegerType(),True),\n",
    "                   StructField('user@domain',StringType(),True),\n",
    "                   StructField('src_comp',StringType(),True),\n",
    "                   StructField('dest_comp',StringType(),True)]\n",
    "redteam_final_struc = StructType(fields = redteam_data_schema)\n",
    "redteam = spark.read.csv('/users7/csegrad/smillett/capstone/Dataset/redteam.txt',schema=redteam_final_struc)"
   ]
  },
  {
   "cell_type": "code",
   "execution_count": 39,
   "metadata": {},
   "outputs": [
    {
     "name": "stdout",
     "output_type": "stream",
     "text": [
      "+----+--------+------------+\n",
      "|time|src_comp|cmp_resolved|\n",
      "+----+--------+------------+\n",
      "|   2|   C4653|       C5030|\n",
      "|   2|   C5782|      C16712|\n",
      "|   6|   C1191|        C419|\n",
      "|  15|   C3380|      C22841|\n",
      "|  18|   C2436|       C5030|\n",
      "+----+--------+------------+\n",
      "only showing top 5 rows\n",
      "\n"
     ]
    }
   ],
   "source": [
    "dns.show(n=5,truncate=True)"
   ]
  },
  {
   "cell_type": "code",
   "execution_count": 21,
   "metadata": {},
   "outputs": [],
   "source": [
    "# dns_graph = new_df.toPandas()"
   ]
  },
  {
   "cell_type": "code",
   "execution_count": 40,
   "metadata": {},
   "outputs": [],
   "source": [
    "# new_dns_graph = dns_graph.sample(5000)\n",
    "# G = nx.from_pandas_edgelist(new_dns_graph, 'src_comp','cmp_resolved','count')"
   ]
  },
  {
   "cell_type": "code",
   "execution_count": 41,
   "metadata": {},
   "outputs": [],
   "source": [
    "# from operator import itemgetter\n",
    "# node_and_degree = G.degree()\n",
    "# (largest_hub, degree) = sorted(node_and_degree, key=itemgetter(1))[-1]\n",
    "# hub_ego = nx.ego_graph(G, largest_hub)\n",
    "# # Draw graph\n",
    "# pos = nx.spring_layout(hub_ego)\n"
   ]
  },
  {
   "cell_type": "code",
   "execution_count": 12,
   "metadata": {},
   "outputs": [],
   "source": [
    "# nx.draw(G,pos,node_color='b', node_size=50, with_labels=False)\n",
    "# nx.draw_networkx_nodes(hub_ego, pos, nodelist=[largest_hub], node_size=300, node_color='r')\n",
    "# plt.show()"
   ]
  },
  {
   "cell_type": "markdown",
   "metadata": {},
   "source": [
    "## Transform Data"
   ]
  },
  {
   "cell_type": "code",
   "execution_count": 41,
   "metadata": {},
   "outputs": [],
   "source": [
    "proc_split = F.split(proc['user@domain'],'@')\n",
    "proc = proc.withColumn('src_user',proc_split.getItem(0))\n",
    "proc = proc.withColumn('src_dmn',proc_split.getItem(1))\n",
    "proc = proc.drop('user@domain')\n",
    "\n",
    "proc = proc.withColumn('type',F.lit('Process'))"
   ]
  },
  {
   "cell_type": "code",
   "execution_count": 42,
   "metadata": {},
   "outputs": [],
   "source": [
    "auth_src_split = F.split(auth['src_user@domain'],'@')\n",
    "auth = auth.withColumn('src_user',auth_src_split.getItem(0))\n",
    "auth = auth.withColumn('src_dmn',auth_src_split.getItem(1))\n",
    "\n",
    "auth_dest_split = F.split(auth['dest_user@domain'],'@')\n",
    "auth = auth.withColumn('dest_user',auth_dest_split.getItem(0))\n",
    "auth = auth.withColumn('dest_dmn',auth_dest_split.getItem(1))\n",
    "\n",
    "auth = auth.drop('src_user@domain','dest_user@domain')\n",
    "\n",
    "auth = auth.withColumn('type',F.lit('Auth'))"
   ]
  },
  {
   "cell_type": "code",
   "execution_count": 43,
   "metadata": {},
   "outputs": [],
   "source": [
    "redteam_split = F.split(redteam['user@domain'],'@')\n",
    "redteam = redteam.withColumn('src_user',redteam_split.getItem(0))\n",
    "redteam = redteam.withColumn('src_dmn',redteam_split.getItem(1))\n",
    "\n",
    "redteam = redteam.drop('user@domain')\n",
    "\n",
    "redteam = redteam.withColumn('type',F.lit('RedTeam'))"
   ]
  },
  {
   "cell_type": "code",
   "execution_count": 44,
   "metadata": {},
   "outputs": [],
   "source": [
    "\n",
    "flows = flows.withColumn('avg_pkt_size', (flows['byte_cnt']/flows['pkt_cnt']).cast(DoubleType()))\n",
    "flows = flows.na.drop(how='all')\n",
    "\n",
    "flows = flows.withColumn('type',F.lit('DataFlow'))"
   ]
  },
  {
   "cell_type": "markdown",
   "metadata": {},
   "source": [
    "# Test/Train split"
   ]
  },
  {
   "cell_type": "code",
   "execution_count": null,
   "metadata": {},
   "outputs": [],
   "source": [
    "# last_row = (redteam\n",
    "#     .withColumn(\"_id\", F.monotonically_increasing_id())\n",
    "#     .select(F.max(F.struct(\"_id\", *dns.columns))\n",
    "#     .alias(\"tmp\")).select(F.col(\"tmp.*\"))\n",
    "#     .drop(\"_id\"))"
   ]
  },
  {
   "cell_type": "code",
   "execution_count": 77,
   "metadata": {},
   "outputs": [],
   "source": [
    "train_range = 10 * 3600 * 24"
   ]
  },
  {
   "cell_type": "code",
   "execution_count": 87,
   "metadata": {},
   "outputs": [],
   "source": [
    "redteam_test = redteam.filter(redteam.time <= train_range)\n",
    "redteam_train = redteam.filter(redteam.time > train_range)"
   ]
  },
  {
   "cell_type": "code",
   "execution_count": 88,
   "metadata": {},
   "outputs": [],
   "source": [
    "dns_test = dns.filter(dns.time <= train_range)\n",
    "dns_train = dns.filter(dns.time > train_range)"
   ]
  },
  {
   "cell_type": "code",
   "execution_count": 89,
   "metadata": {},
   "outputs": [],
   "source": [
    "proc_test = proc.filter(proc.time <= train_range)\n",
    "proc_train = proc.filter(proc.time > train_range)"
   ]
  },
  {
   "cell_type": "code",
   "execution_count": 90,
   "metadata": {},
   "outputs": [],
   "source": [
    "flows_test = flows.filter(flows.time <= train_range)\n",
    "flows_train = flows.filter(flows.time > train_range)"
   ]
  },
  {
   "cell_type": "code",
   "execution_count": 91,
   "metadata": {},
   "outputs": [],
   "source": [
    "auth_test = auth.filter(auth.time <= train_range)\n",
    "auth_train = auth.filter(auth.time > train_range)"
   ]
  },
  {
   "cell_type": "code",
   "execution_count": 45,
   "metadata": {},
   "outputs": [],
   "source": [
    "# colum = proc.columns\n",
    "# colum.sort()\n",
    "\n",
    "# proc = proc.select(colum)\n",
    "# redteam = redteam.select(colum)\n",
    "# auth = auth.select(colum)\n",
    "# flows = flows.select(colum)"
   ]
  },
  {
   "cell_type": "code",
   "execution_count": 46,
   "metadata": {},
   "outputs": [],
   "source": [
    "# master = unionAll(redteam,auth,proc,flows)"
   ]
  },
  {
   "cell_type": "code",
   "execution_count": 47,
   "metadata": {},
   "outputs": [],
   "source": [
    "# print(master.count())"
   ]
  },
  {
   "cell_type": "code",
   "execution_count": 48,
   "metadata": {},
   "outputs": [],
   "source": [
    "# master.select('strt').sort('strt').show()"
   ]
  },
  {
   "cell_type": "code",
   "execution_count": null,
   "metadata": {},
   "outputs": [],
   "source": [
    "# redteam1 = redteam.select(F.to_date(redteam.time,'MM-dd HH:mm:ss').alias('date')).collect()\n",
    "#redteam1 = redteam.rdd.map(lambda x: (x['time'], time.strftime('%m/%d %H:%M:%S', time.gmtime(x['time']) ))).toDF(['time','timestam'])"
   ]
  },
  {
   "cell_type": "markdown",
   "metadata": {},
   "source": [
    "# Proc Data"
   ]
  },
  {
   "cell_type": "code",
   "execution_count": 92,
   "metadata": {},
   "outputs": [
    {
     "name": "stdout",
     "output_type": "stream",
     "text": [
      "+------+--------+---------+-----+--------+-------+-------+\n",
      "|  time|src_comp|proc_name| strt|src_user|src_dmn|   type|\n",
      "+------+--------+---------+-----+--------+-------+-------+\n",
      "|864001|   C1000|       P4|Start|  C1000$|   DOM1|Process|\n",
      "|864001|  C10010|       P4|Start| C10010$|   DOM1|Process|\n",
      "|864001|  C10014|       P4|Start| C10014$|   DOM1|Process|\n",
      "|864001|  C10018|       P3|Start| C10018$|   DOM1|Process|\n",
      "|864001|  C10018|       P4|Start| C10018$|   DOM1|Process|\n",
      "+------+--------+---------+-----+--------+-------+-------+\n",
      "only showing top 5 rows\n",
      "\n"
     ]
    }
   ],
   "source": [
    "proc_train.show(5)"
   ]
  },
  {
   "cell_type": "code",
   "execution_count": null,
   "metadata": {},
   "outputs": [],
   "source": []
  },
  {
   "cell_type": "code",
   "execution_count": null,
   "metadata": {},
   "outputs": [],
   "source": []
  },
  {
   "cell_type": "code",
   "execution_count": 86,
   "metadata": {},
   "outputs": [
    {
     "name": "stdout",
     "output_type": "stream",
     "text": [
      "+------+--------+---------+-----+--------+-------+-------+\n",
      "|  time|src_comp|proc_name| strt|src_user|src_dmn|   type|\n",
      "+------+--------+---------+-----+--------+-------+-------+\n",
      "|864000|  C10401|      P16|Start| C10401$|   DOM1|Process|\n",
      "|864000|  C10520|       P4|Start| C10520$|   DOM1|Process|\n",
      "|864000|  C10745|      P16|Start| C10745$|   DOM1|Process|\n",
      "|864000|   C1096|       P4|Start|  C1096$|   DOM1|Process|\n",
      "|864000|  C11900|      P16|Start| C11900$|   DOM1|Process|\n",
      "+------+--------+---------+-----+--------+-------+-------+\n",
      "only showing top 5 rows\n",
      "\n"
     ]
    }
   ],
   "source": [
    "proc_train.show(5)"
   ]
  },
  {
   "cell_type": "markdown",
   "metadata": {},
   "source": [
    "## Auth Data"
   ]
  },
  {
   "cell_type": "code",
   "execution_count": 28,
   "metadata": {
    "scrolled": false
   },
   "outputs": [
    {
     "name": "stdout",
     "output_type": "stream",
     "text": [
      "+----+--------+---------+---------+----------+-----------+-------+---------------+-------+---------------+--------+----+\n",
      "|time|src_comp|dest_comp|auth_type|logon_type|auth_orient|success|       src_user|src_dmn|      dest_user|dest_dmn|type|\n",
      "+----+--------+---------+---------+----------+-----------+-------+---------------+-------+---------------+--------+----+\n",
      "|   1|   C1250|     C586|     NTLM|   Network|      LogOn|Success|ANONYMOUS LOGON|   C586|ANONYMOUS LOGON|    C586|Auth|\n",
      "|   1|    C586|     C586|        ?|   Network|     LogOff|Success|ANONYMOUS LOGON|   C586|ANONYMOUS LOGON|    C586|Auth|\n",
      "|   1|    C988|     C988|        ?|   Network|     LogOff|Success|          C101$|   DOM1|          C101$|    DOM1|Auth|\n",
      "|   1|   C1020|    C1020|Negotiate|   Service|      LogOn|Success|         C1020$|   DOM1|         SYSTEM|   C1020|Auth|\n",
      "|   1|   C1021|     C625| Kerberos|   Network|      LogOn|Success|         C1021$|   DOM1|         C1021$|    DOM1|Auth|\n",
      "+----+--------+---------+---------+----------+-----------+-------+---------------+-------+---------------+--------+----+\n",
      "only showing top 5 rows\n",
      "\n"
     ]
    }
   ],
   "source": [
    "auth_train.show(5)"
   ]
  },
  {
   "cell_type": "code",
   "execution_count": null,
   "metadata": {},
   "outputs": [],
   "source": []
  },
  {
   "cell_type": "code",
   "execution_count": null,
   "metadata": {},
   "outputs": [],
   "source": []
  },
  {
   "cell_type": "code",
   "execution_count": null,
   "metadata": {},
   "outputs": [],
   "source": []
  },
  {
   "cell_type": "code",
   "execution_count": 29,
   "metadata": {},
   "outputs": [
    {
     "name": "stdout",
     "output_type": "stream",
     "text": [
      "+----+--------+---------+---------+----------+-----------+-------+---------------+-------+---------------+--------+----+\n",
      "|time|src_comp|dest_comp|auth_type|logon_type|auth_orient|success|       src_user|src_dmn|      dest_user|dest_dmn|type|\n",
      "+----+--------+---------+---------+----------+-----------+-------+---------------+-------+---------------+--------+----+\n",
      "|   1|   C1250|     C586|     NTLM|   Network|      LogOn|Success|ANONYMOUS LOGON|   C586|ANONYMOUS LOGON|    C586|Auth|\n",
      "|   1|    C586|     C586|        ?|   Network|     LogOff|Success|ANONYMOUS LOGON|   C586|ANONYMOUS LOGON|    C586|Auth|\n",
      "|   1|    C988|     C988|        ?|   Network|     LogOff|Success|          C101$|   DOM1|          C101$|    DOM1|Auth|\n",
      "|   1|   C1020|    C1020|Negotiate|   Service|      LogOn|Success|         C1020$|   DOM1|         SYSTEM|   C1020|Auth|\n",
      "|   1|   C1021|     C625| Kerberos|   Network|      LogOn|Success|         C1021$|   DOM1|         C1021$|    DOM1|Auth|\n",
      "+----+--------+---------+---------+----------+-----------+-------+---------------+-------+---------------+--------+----+\n",
      "only showing top 5 rows\n",
      "\n"
     ]
    }
   ],
   "source": [
    "auth_train.show(5)"
   ]
  },
  {
   "cell_type": "markdown",
   "metadata": {},
   "source": [
    "# Redteam Data"
   ]
  },
  {
   "cell_type": "code",
   "execution_count": 27,
   "metadata": {},
   "outputs": [
    {
     "name": "stdout",
     "output_type": "stream",
     "text": [
      "+------+--------+---------+--------+-------+-------+\n",
      "|  time|src_comp|dest_comp|src_user|src_dmn|   type|\n",
      "+------+--------+---------+--------+-------+-------+\n",
      "|150885|  C17693|    C1003|    U620|   DOM1|RedTeam|\n",
      "|151036|  C17693|     C305|    U748|   DOM1|RedTeam|\n",
      "|151648|  C17693|     C728|    U748|   DOM1|RedTeam|\n",
      "|151993|  C17693|    C1173|   U6115|   DOM1|RedTeam|\n",
      "|153792|  C17693|     C294|    U636|   DOM1|RedTeam|\n",
      "+------+--------+---------+--------+-------+-------+\n",
      "only showing top 5 rows\n",
      "\n"
     ]
    }
   ],
   "source": [
    "redteam_train.show(5)"
   ]
  },
  {
   "cell_type": "code",
   "execution_count": null,
   "metadata": {},
   "outputs": [],
   "source": []
  },
  {
   "cell_type": "code",
   "execution_count": null,
   "metadata": {},
   "outputs": [],
   "source": []
  },
  {
   "cell_type": "code",
   "execution_count": null,
   "metadata": {},
   "outputs": [],
   "source": []
  },
  {
   "cell_type": "code",
   "execution_count": 27,
   "metadata": {},
   "outputs": [
    {
     "name": "stdout",
     "output_type": "stream",
     "text": [
      "+------+--------+---------+--------+-------+-------+\n",
      "|  time|src_comp|dest_comp|src_user|src_dmn|   type|\n",
      "+------+--------+---------+--------+-------+-------+\n",
      "|150885|  C17693|    C1003|    U620|   DOM1|RedTeam|\n",
      "|151036|  C17693|     C305|    U748|   DOM1|RedTeam|\n",
      "|151648|  C17693|     C728|    U748|   DOM1|RedTeam|\n",
      "|151993|  C17693|    C1173|   U6115|   DOM1|RedTeam|\n",
      "|153792|  C17693|     C294|    U636|   DOM1|RedTeam|\n",
      "+------+--------+---------+--------+-------+-------+\n",
      "only showing top 5 rows\n",
      "\n"
     ]
    }
   ],
   "source": [
    "redteam_train.show(5)"
   ]
  },
  {
   "cell_type": "markdown",
   "metadata": {},
   "source": [
    "# Flows Data"
   ]
  },
  {
   "cell_type": "code",
   "execution_count": 93,
   "metadata": {},
   "outputs": [
    {
     "name": "stdout",
     "output_type": "stream",
     "text": [
      "+------+---+--------+--------+---------+---------+--------+-------+--------+------------------+--------+\n",
      "|  time|dur|src_comp|src_port|dest_comp|dest_port|protocol|pkt_cnt|byte_cnt|      avg_pkt_size|    type|\n",
      "+------+---+--------+--------+---------+---------+--------+-------+--------+------------------+--------+\n",
      "|864001|  0|    C122|  N16027|     C586|      389|       6|     14|    3722|265.85714285714283|DataFlow|\n",
      "|864001|  0|    C122|  N16427|     C612|      389|      17|      1|     193|             193.0|DataFlow|\n",
      "|864001|  0|    C122|  N16434|     C529|      389|      17|      1|     192|             192.0|DataFlow|\n",
      "|864001|  0|   C1685|      N1|    C5638|    N1279|       6|    224|  305602| 1364.294642857143|DataFlow|\n",
      "|864001|  0|   C1685|      N1|    C5638|    N1280|       6|    224|  305602| 1364.294642857143|DataFlow|\n",
      "+------+---+--------+--------+---------+---------+--------+-------+--------+------------------+--------+\n",
      "only showing top 5 rows\n",
      "\n"
     ]
    }
   ],
   "source": [
    "flows_train.show(5)"
   ]
  },
  {
   "cell_type": "code",
   "execution_count": null,
   "metadata": {},
   "outputs": [],
   "source": []
  },
  {
   "cell_type": "code",
   "execution_count": null,
   "metadata": {},
   "outputs": [],
   "source": []
  },
  {
   "cell_type": "code",
   "execution_count": null,
   "metadata": {},
   "outputs": [],
   "source": []
  },
  {
   "cell_type": "code",
   "execution_count": 94,
   "metadata": {
    "scrolled": false
   },
   "outputs": [
    {
     "name": "stdout",
     "output_type": "stream",
     "text": [
      "+------+---+--------+--------+---------+---------+--------+-------+--------+------------------+--------+\n",
      "|  time|dur|src_comp|src_port|dest_comp|dest_port|protocol|pkt_cnt|byte_cnt|      avg_pkt_size|    type|\n",
      "+------+---+--------+--------+---------+---------+--------+-------+--------+------------------+--------+\n",
      "|864001|  0|    C122|  N16027|     C586|      389|       6|     14|    3722|265.85714285714283|DataFlow|\n",
      "|864001|  0|    C122|  N16427|     C612|      389|      17|      1|     193|             193.0|DataFlow|\n",
      "|864001|  0|    C122|  N16434|     C529|      389|      17|      1|     192|             192.0|DataFlow|\n",
      "|864001|  0|   C1685|      N1|    C5638|    N1279|       6|    224|  305602| 1364.294642857143|DataFlow|\n",
      "|864001|  0|   C1685|      N1|    C5638|    N1280|       6|    224|  305602| 1364.294642857143|DataFlow|\n",
      "+------+---+--------+--------+---------+---------+--------+-------+--------+------------------+--------+\n",
      "only showing top 5 rows\n",
      "\n"
     ]
    }
   ],
   "source": [
    "flows_train.show(5)"
   ]
  },
  {
   "cell_type": "markdown",
   "metadata": {},
   "source": [
    "# Combine Data"
   ]
  },
  {
   "cell_type": "code",
   "execution_count": 102,
   "metadata": {},
   "outputs": [],
   "source": [
    "\n",
    "#master.groupBy('time').count().show()\n",
    "\n",
    "failed_logon = auth_train.filter(auth_train.success=='Fail').groupby(auth_train.time,auth_train.src_comp,auth_train.auth_type,auth_train.logon_type).count().na.fill(0).sort('time')\n",
    "failed_logon = failed_logon.select(F.col('time'),F.col('src_comp'),F.col('auth_type'),F.col('logon_type'),F.col('count').alias('fail_count'))"
   ]
  },
  {
   "cell_type": "code",
   "execution_count": null,
   "metadata": {},
   "outputs": [],
   "source": [
    "failed_logon.show()"
   ]
  },
  {
   "cell_type": "code",
   "execution_count": 22,
   "metadata": {},
   "outputs": [],
   "source": [
    "tgt_type =  auth.filter(auth.auth_orient=='TGT').groupby(auth.time).count().na.fill(0).sort('time')\n",
    "tgs_type =  auth.filter(auth.auth_orient=='TGS').groupby(auth.time).count().na.fill(0).sort('time')"
   ]
  },
  {
   "cell_type": "code",
   "execution_count": 23,
   "metadata": {},
   "outputs": [
    {
     "ename": "AssertionError",
     "evalue": "all exprs should be Column",
     "output_type": "error",
     "traceback": [
      "\u001b[0;31m---------------------------------------------------------------------------\u001b[0m",
      "\u001b[0;31mAssertionError\u001b[0m                            Traceback (most recent call last)",
      "\u001b[0;32m<ipython-input-23-b6c0bc8b7b85>\u001b[0m in \u001b[0;36m<module>\u001b[0;34m()\u001b[0m\n\u001b[0;32m----> 1\u001b[0;31m \u001b[0mprocess_start\u001b[0m \u001b[0;34m=\u001b[0m \u001b[0mproc\u001b[0m\u001b[0;34m.\u001b[0m\u001b[0mgroupby\u001b[0m\u001b[0;34m(\u001b[0m\u001b[0mproc\u001b[0m\u001b[0;34m.\u001b[0m\u001b[0mtime\u001b[0m\u001b[0;34m)\u001b[0m\u001b[0;34m.\u001b[0m\u001b[0magg\u001b[0m\u001b[0;34m(\u001b[0m\u001b[0mF\u001b[0m\u001b[0;34m.\u001b[0m\u001b[0mwhen\u001b[0m\u001b[0;34m)\u001b[0m\u001b[0;34m\u001b[0m\u001b[0m\n\u001b[0m\u001b[1;32m      2\u001b[0m \u001b[0mprocess_start\u001b[0m \u001b[0;34m=\u001b[0m \u001b[0mprocess_start\u001b[0m\u001b[0;34m.\u001b[0m\u001b[0ma\u001b[0m\u001b[0;34m\u001b[0m\u001b[0m\n\u001b[1;32m      3\u001b[0m \u001b[0magg\u001b[0m\u001b[0;34m(\u001b[0m\u001b[0;34m)\u001b[0m\u001b[0;34m.\u001b[0m\u001b[0msort\u001b[0m\u001b[0;34m(\u001b[0m\u001b[0;34m'time'\u001b[0m\u001b[0;34m)\u001b[0m\u001b[0;34m\u001b[0m\u001b[0m\n\u001b[1;32m      4\u001b[0m \u001b[0;31m#process_start = process_start.select(F.col('time'),F.col('strt'),F.col('count').alias('proc_change'))\u001b[0m\u001b[0;34m\u001b[0m\u001b[0;34m\u001b[0m\u001b[0m\n",
      "\u001b[0;32m~/.local/lib/python3.6/site-packages/pyspark/sql/group.py\u001b[0m in \u001b[0;36magg\u001b[0;34m(self, *exprs)\u001b[0m\n\u001b[1;32m     89\u001b[0m         \u001b[0;32melse\u001b[0m\u001b[0;34m:\u001b[0m\u001b[0;34m\u001b[0m\u001b[0m\n\u001b[1;32m     90\u001b[0m             \u001b[0;31m# Columns\u001b[0m\u001b[0;34m\u001b[0m\u001b[0;34m\u001b[0m\u001b[0m\n\u001b[0;32m---> 91\u001b[0;31m             \u001b[0;32massert\u001b[0m \u001b[0mall\u001b[0m\u001b[0;34m(\u001b[0m\u001b[0misinstance\u001b[0m\u001b[0;34m(\u001b[0m\u001b[0mc\u001b[0m\u001b[0;34m,\u001b[0m \u001b[0mColumn\u001b[0m\u001b[0;34m)\u001b[0m \u001b[0;32mfor\u001b[0m \u001b[0mc\u001b[0m \u001b[0;32min\u001b[0m \u001b[0mexprs\u001b[0m\u001b[0;34m)\u001b[0m\u001b[0;34m,\u001b[0m \u001b[0;34m\"all exprs should be Column\"\u001b[0m\u001b[0;34m\u001b[0m\u001b[0m\n\u001b[0m\u001b[1;32m     92\u001b[0m             jdf = self._jgd.agg(exprs[0]._jc,\n\u001b[1;32m     93\u001b[0m                                 _to_seq(self.sql_ctx._sc, [c._jc for c in exprs[1:]]))\n",
      "\u001b[0;31mAssertionError\u001b[0m: all exprs should be Column"
     ]
    }
   ],
   "source": [
    "process_start = proc.groupby(proc.time).agg(F.when)\n",
    "process_start = process_start.a\n",
    "agg().sort('time')\n",
    "#process_start = process_start.select(F.col('time'),F.col('strt'),F.col('count').alias('proc_change'))"
   ]
  },
  {
   "cell_type": "code",
   "execution_count": 29,
   "metadata": {},
   "outputs": [
    {
     "name": "stdout",
     "output_type": "stream",
     "text": [
      "+------+--------+---------+--------+-------+-------+-----------+-----------------+\n",
      "|  time|src_comp|dest_comp|src_user|src_dmn|   type|successType|       successVec|\n",
      "+------+--------+---------+--------+-------+-------+-----------+-----------------+\n",
      "|150885|  C17693|    C1003|    U620|   DOM1|RedTeam|       69.0| (300,[69],[1.0])|\n",
      "|151036|  C17693|     C305|    U748|   DOM1|RedTeam|      296.0|(300,[296],[1.0])|\n",
      "|151648|  C17693|     C728|    U748|   DOM1|RedTeam|      214.0|(300,[214],[1.0])|\n",
      "|151993|  C17693|    C1173|   U6115|   DOM1|RedTeam|      294.0|(300,[294],[1.0])|\n",
      "|153792|  C17693|     C294|    U636|   DOM1|RedTeam|       25.0| (300,[25],[1.0])|\n",
      "|155219|  C17693|    C5693|    U748|   DOM1|RedTeam|      240.0|(300,[240],[1.0])|\n",
      "|155399|  C17693|     C152|    U748|   DOM1|RedTeam|      293.0|(300,[293],[1.0])|\n",
      "|155460|  C17693|    C2341|    U748|   DOM1|RedTeam|      217.0|(300,[217],[1.0])|\n",
      "|155591|  C17693|     C332|    U748|   DOM1|RedTeam|      182.0|(300,[182],[1.0])|\n",
      "|156658|  C17693|    C4280|    U748|   DOM1|RedTeam|      239.0|(300,[239],[1.0])|\n",
      "|210086|  C18025|    C1493|    U748|   DOM1|RedTeam|       65.0| (300,[65],[1.0])|\n",
      "|210294|  C18025|    C1493|    U748|   DOM1|RedTeam|       65.0| (300,[65],[1.0])|\n",
      "|210312|  C18025|    C1493|    U748|   DOM1|RedTeam|       65.0| (300,[65],[1.0])|\n",
      "|218418|  C17693|     C504|    U748|   DOM1|RedTeam|      130.0|(300,[130],[1.0])|\n",
      "|227052|  C17693|     C148|    U748|   DOM1|RedTeam|       20.0| (300,[20],[1.0])|\n",
      "|227408|  C17693|     C148|    U748|   DOM1|RedTeam|       20.0| (300,[20],[1.0])|\n",
      "|227520|  C17693|     C148|    U748|   DOM1|RedTeam|       20.0| (300,[20],[1.0])|\n",
      "|227780|  C17693|     C148|    U748|   DOM1|RedTeam|       20.0| (300,[20],[1.0])|\n",
      "|228024|  C17693|     C148|    U748|   DOM1|RedTeam|       20.0| (300,[20],[1.0])|\n",
      "|228150|  C17693|     C148|    U748|   DOM1|RedTeam|       20.0| (300,[20],[1.0])|\n",
      "+------+--------+---------+--------+-------+-------+-----------+-----------------+\n",
      "only showing top 20 rows\n",
      "\n"
     ]
    }
   ],
   "source": [
    "stringIndexer = StringIndexer(inputCol='dest_comp', outputCol='successType')\n",
    "model = stringIndexer.fit(redteam)\n",
    "indexed = model.transform(redteam)\n",
    "\n",
    "encoder = OneHotEncoder(inputCol='successType', outputCol='successVec')\n",
    "encoded = encoder.transform(indexed)\n",
    "encoded.show()\n"
   ]
  },
  {
   "cell_type": "code",
   "execution_count": 33,
   "metadata": {},
   "outputs": [
    {
     "name": "stdout",
     "output_type": "stream",
     "text": [
      "+----+-----------+-------+\n",
      "|time|auth_orient|success|\n",
      "+----+-----------+-------+\n",
      "|   1|      LogOn|Success|\n",
      "|   1|     LogOff|Success|\n",
      "|   1|     LogOff|Success|\n",
      "|   1|      LogOn|Success|\n",
      "|   1|      LogOn|Success|\n",
      "|   1|      LogOn|Success|\n",
      "|   1|     LogOff|Success|\n",
      "|   1|      LogOn|Success|\n",
      "|   1|      LogOn|Success|\n",
      "|   1|     LogOff|Success|\n",
      "|   1|      LogOn|Success|\n",
      "|   1|      LogOn|Success|\n",
      "|   1|     LogOff|Success|\n",
      "|   1|      LogOn|Success|\n",
      "|   1|      LogOn|Success|\n",
      "|   1|     LogOff|Success|\n",
      "|   1|      LogOn|Success|\n",
      "|   1|      LogOn|Success|\n",
      "|   1|      LogOn|Success|\n",
      "|   1|      LogOn|Success|\n",
      "+----+-----------+-------+\n",
      "only showing top 20 rows\n",
      "\n"
     ]
    }
   ],
   "source": [
    "auth.select('time','auth_orient','success').show()"
   ]
  },
  {
   "cell_type": "code",
   "execution_count": null,
   "metadata": {},
   "outputs": [],
   "source": [
    "stringIndexer = StringIndexer(inputCol='strt', outputCol='successType')\n",
    "model = stringIndexer.fit(proc)\n",
    "indexed = model.transform(proc)\n",
    "\n",
    "encoder = OneHotEncoder(inputCol='successType', outputCol='successVec')\n",
    "encoded = encoder.transform(indexed)\n",
    "encoded.show()"
   ]
  },
  {
   "cell_type": "code",
   "execution_count": 12,
   "metadata": {},
   "outputs": [],
   "source": [
    "master_event = process_start.join(failed_logon, 'time','left')"
   ]
  },
  {
   "cell_type": "code",
   "execution_count": 19,
   "metadata": {},
   "outputs": [
    {
     "name": "stdout",
     "output_type": "stream",
     "text": [
      "+----+-----+-----------+\n",
      "|time| strt|proc_change|\n",
      "+----+-----+-----------+\n",
      "|   1|Start|        422|\n",
      "|   1|  End|         24|\n",
      "|   2|  End|         44|\n",
      "|   2|Start|       1451|\n",
      "|   3|  End|         42|\n",
      "|   3|Start|       1555|\n",
      "|   4|  End|         46|\n",
      "|   4|Start|        723|\n",
      "|   5|Start|        121|\n",
      "|   5|  End|         38|\n",
      "|   6|Start|         62|\n",
      "|   6|  End|         39|\n",
      "|   7|  End|         32|\n",
      "|   7|Start|         45|\n",
      "|   8|  End|          8|\n",
      "|   8|Start|         36|\n",
      "|   9|Start|         46|\n",
      "|   9|  End|         20|\n",
      "|  10|  End|          8|\n",
      "|  10|Start|         30|\n",
      "+----+-----+-----------+\n",
      "only showing top 20 rows\n",
      "\n"
     ]
    }
   ],
   "source": [
    "process_start.show()"
   ]
  },
  {
   "cell_type": "markdown",
   "metadata": {},
   "source": [
    "## Data Analysis"
   ]
  },
  {
   "cell_type": "code",
   "execution_count": 5,
   "metadata": {},
   "outputs": [],
   "source": [
    "# proc_domains = proc.select('domain').distinct()\n",
    "# proc_users = proc.select('user').distinct()"
   ]
  },
  {
   "cell_type": "code",
   "execution_count": 13,
   "metadata": {},
   "outputs": [],
   "source": [
    "# proc_domains.coalesce(1).write.csv('domains.csv')\n",
    "# proc_users.coalesce(1).write.csv('users.csv')"
   ]
  },
  {
   "cell_type": "code",
   "execution_count": 60,
   "metadata": {},
   "outputs": [
    {
     "name": "stdout",
     "output_type": "stream",
     "text": [
      "+----+-----------+---------+-----+\n",
      "|time|user@domain|proc_name|start|\n",
      "+----+-----------+---------+-----+\n",
      "|   0|          0|        0|    0|\n",
      "+----+-----------+---------+-----+\n",
      "\n"
     ]
    }
   ],
   "source": [
    "# proc.select(*(sum(col(c).isNull().cast(\"int\")).alias(c) for c in proc.columns)).show()"
   ]
  },
  {
   "cell_type": "code",
   "execution_count": 58,
   "metadata": {},
   "outputs": [
    {
     "name": "stdout",
     "output_type": "stream",
     "text": [
      "+----+--------+--------+-------+---------+--------+--------+-------+-------+\n",
      "|time|duration|src_comp|src_prt|dest_comp|dest_prt|protocol|pkt_cnt|byt_cnt|\n",
      "+----+--------+--------+-------+---------+--------+--------+-------+-------+\n",
      "| 530|     530|     530|    530|      530|     530|     530|    530|    530|\n",
      "+----+--------+--------+-------+---------+--------+--------+-------+-------+\n",
      "\n"
     ]
    }
   ],
   "source": [
    "# flows.select(*(sum(col(c).isNull().cast(\"int\")).alias(c) for c in flows.columns)).show()"
   ]
  },
  {
   "cell_type": "code",
   "execution_count": 77,
   "metadata": {},
   "outputs": [
    {
     "name": "stdout",
     "output_type": "stream",
     "text": [
      "+-------+\n",
      "|success|\n",
      "+-------+\n",
      "|Success|\n",
      "|   Fail|\n",
      "+-------+\n",
      "\n"
     ]
    }
   ],
   "source": [
    "auth.select('success').distinct().show()"
   ]
  },
  {
   "cell_type": "code",
   "execution_count": 59,
   "metadata": {},
   "outputs": [
    {
     "name": "stdout",
     "output_type": "stream",
     "text": [
      "+----+---------------+----------------+--------+---------+---------+----------+----------------+-------+\n",
      "|time|src_user@domain|dest_user@domain|src_comp|dest_comp|auth_type|logon_type|auth_orientation|success|\n",
      "+----+---------------+----------------+--------+---------+---------+----------+----------------+-------+\n",
      "|   0|              0|               0|       0|        0|        0|         0|               0|      0|\n",
      "+----+---------------+----------------+--------+---------+---------+----------+----------------+-------+\n",
      "\n"
     ]
    }
   ],
   "source": [
    "auth.select(*(sum(col(c).isNull().cast(\"int\")).alias(c) for c in auth.columns)).show()"
   ]
  },
  {
   "cell_type": "code",
   "execution_count": 32,
   "metadata": {},
   "outputs": [
    {
     "name": "stdout",
     "output_type": "stream",
     "text": [
      "+-----+--------+--------+-------+---------+--------+--------+-------+-------+------------+\n",
      "| time|duration|src_comp|src_prt|dest_comp|dest_prt|protocol|pkt_cnt|byt_cnt|avg_pkt_size|\n",
      "+-----+--------+--------+-------+---------+--------+--------+-------+-------+------------+\n",
      "|41972|       0|   C1654|     80|   C13742|   N4427|       6|      2|     92|        46.0|\n",
      "|41974|      38|   C1015|   N221|    C8681|   N2153|       6|      2|     92|        46.0|\n",
      "|41972|       0|   C7632|   N294|   C20510|  N18962|       6|      1|     46|        46.0|\n",
      "|41970|       0|   C8974|  N4126|    C5787|  N30556|       6|      1|     46|        46.0|\n",
      "|41972|      38|   C1015|   N221|    C8964|   N2024|       6|      2|     92|        46.0|\n",
      "|41971|       0|  C14402|  N9113|     C585|     139|       6|      1|     46|        46.0|\n",
      "|41972|      60|  C11149|  N2801|    C2588|     N76|       6|      4|    184|        46.0|\n",
      "|41971|       0|   C3873|     80|    C3959|   N3771|       6|      2|     92|        46.0|\n",
      "|41973|       0|  C15166|  N5899|     C706|      80|       6|      1|     46|        46.0|\n",
      "|41971|       0|   C3959|  N3771|    C3873|      80|       6|      2|     92|        46.0|\n",
      "|41973|       0|  C20373|    445|   C11693|   N1037|       6|      1|     46|        46.0|\n",
      "|41971|       0|    C585|    445|     C947|   N6237|       6|      1|     46|        46.0|\n",
      "|41973|       0|   C4127| N16069|     C706|      80|       6|      1|     46|        46.0|\n",
      "|41971|      38|   C1015|   N221|     C184|   N2038|       6|      2|     92|        46.0|\n",
      "|41973|       0|   C7244| N18458|    C2008|     139|       6|      1|     46|        46.0|\n",
      "|41971|      60|   C7386|  N2843|    C2588|     N76|       6|      3|    138|        46.0|\n",
      "|41973|      60|   C2588|    N76|    C4905|    N179|       6|      3|    138|        46.0|\n",
      "|41973|      60|   C4905|   N179|    C2588|     N76|       6|      3|    138|        46.0|\n",
      "|41974|       0|   C8167|  N9273|     C585|     139|       6|      1|     46|        46.0|\n",
      "|41973|      60|   C9851|  N2783|    C2588|     N76|       6|      3|    138|        46.0|\n",
      "+-----+--------+--------+-------+---------+--------+--------+-------+-------+------------+\n",
      "only showing top 20 rows\n",
      "\n"
     ]
    }
   ],
   "source": [
    "flows.orderBy(\"avg_pkt_size\").show()"
   ]
  },
  {
   "cell_type": "code",
   "execution_count": 49,
   "metadata": {},
   "outputs": [
    {
     "name": "stdout",
     "output_type": "stream",
     "text": [
      "+----+--------+--------+-------+---------+--------+--------+-------+-------+------------+\n",
      "|time|duration|src_comp|src_prt|dest_comp|dest_prt|protocol|pkt_cnt|byt_cnt|avg_pkt_size|\n",
      "+----+--------+--------+-------+---------+--------+--------+-------+-------+------------+\n",
      "|   0|       0|       0|      0|        0|       0|       0|      0|      0|           0|\n",
      "+----+--------+--------+-------+---------+--------+--------+-------+-------+------------+\n",
      "\n"
     ]
    }
   ],
   "source": [
    "flows.select([count(when(isnan(c)|col(c).isNull(), c)).alias(c) for c in flows.columns]).show()"
   ]
  },
  {
   "cell_type": "code",
   "execution_count": 54,
   "metadata": {},
   "outputs": [
    {
     "name": "stdout",
     "output_type": "stream",
     "text": [
      "+----+--------+------------+\n",
      "|time|src_comp|cmp_resolved|\n",
      "+----+--------+------------+\n",
      "|   0|       0|           0|\n",
      "+----+--------+------------+\n",
      "\n"
     ]
    }
   ],
   "source": [
    "dns.select(*(sum(col(c).isNull().cast(\"int\")).alias(c) for c in dns.columns)).show()"
   ]
  },
  {
   "cell_type": "code",
   "execution_count": 10,
   "metadata": {},
   "outputs": [
    {
     "name": "stdout",
     "output_type": "stream",
     "text": [
      "+----+-----------+-----+---------+-----+\n",
      "|time|user@domain| comp|proc_name|start|\n",
      "+----+-----------+-----+---------+-----+\n",
      "|   1|   C1$@DOM1|   C1|      P16|Start|\n",
      "|   1|C1001$@DOM1|C1001|       P4|Start|\n",
      "|   1|C1002$@DOM1|C1002|       P4|Start|\n",
      "|   1|C1004$@DOM1|C1004|       P4|Start|\n",
      "|   1|C1017$@DOM1|C1017|       P4|Start|\n",
      "|   1|C1018$@DOM1|C1018|       P4|Start|\n",
      "|   1|C1020$@DOM1|C1020|       P3|Start|\n",
      "|   1|C1020$@DOM1|C1020|       P4|Start|\n",
      "|   1|C1028$@DOM1|C1028|      P16|  End|\n",
      "|   1|C1029$@DOM1|C1029|       P4|Start|\n",
      "|   1|C1030$@DOM1|C1030|       P4|Start|\n",
      "|   1|C1032$@DOM1|C1032|       P4|Start|\n",
      "|   1|C1035$@DOM1|C1035|      P37|Start|\n",
      "|   1|C1035$@DOM1|C1035|       P5|Start|\n",
      "|   1|C1051$@DOM1|C1051|      P16|Start|\n",
      "|   1|C1069$@DOM1|C1069|       P3|Start|\n",
      "|   1|C1069$@DOM1|C1069|       P4|Start|\n",
      "|   1|C1079$@DOM1|C1079|       P4|Start|\n",
      "|   1|C1084$@DOM1|C1084|       P4|Start|\n",
      "|   1|C1088$@DOM1|C1088|       P4|Start|\n",
      "+----+-----------+-----+---------+-----+\n",
      "only showing top 20 rows\n",
      "\n"
     ]
    }
   ],
   "source": [
    "proc.show()"
   ]
  },
  {
   "cell_type": "code",
   "execution_count": 20,
   "metadata": {},
   "outputs": [
    {
     "name": "stdout",
     "output_type": "stream",
     "text": [
      "root\n",
      " |-- time: date (nullable = true)\n",
      " |-- user@domain: string (nullable = true)\n",
      " |-- src_comp: string (nullable = true)\n",
      " |-- dst_comp: string (nullable = true)\n",
      "\n"
     ]
    }
   ],
   "source": [
    "redteam.printSchema()"
   ]
  },
  {
   "cell_type": "code",
   "execution_count": 6,
   "metadata": {},
   "outputs": [],
   "source": [
    "from pyspark.sql.functions import lit, unix_timestamp\n",
    "start = datetime.date(2018,1,1)\n",
    "#datetime.timestamp(2018,1,1,12,0,0)\n",
    "\n"
   ]
  },
  {
   "cell_type": "code",
   "execution_count": 7,
   "metadata": {},
   "outputs": [
    {
     "data": {
      "text/plain": [
       "datetime.datetime(2018, 1, 3, 15, 22, 30)"
      ]
     },
     "execution_count": 7,
     "metadata": {},
     "output_type": "execute_result"
    }
   ],
   "source": [
    "datetime.datetime.fromtimestamp(time.mktime(start.timetuple()) + 228150)"
   ]
  },
  {
   "cell_type": "code",
   "execution_count": 8,
   "metadata": {},
   "outputs": [],
   "source": [
    "func = udf (lambda x: datetime.datetime.fromtimestamp(time.mktime(start.timetuple()) + x).date(),DateType() )"
   ]
  },
  {
   "cell_type": "code",
   "execution_count": 9,
   "metadata": {},
   "outputs": [
    {
     "ename": "SyntaxError",
     "evalue": "invalid syntax (<ipython-input-9-48ac7615f935>, line 1)",
     "output_type": "error",
     "traceback": [
      "\u001b[1;36m  File \u001b[1;32m\"<ipython-input-9-48ac7615f935>\"\u001b[1;36m, line \u001b[1;32m1\u001b[0m\n\u001b[1;33m    redteam1 = redteam.withColumn(\"timestam\", redteam.select(\"time\")),'yyyy-MM-dd HH:mm:ss').cast(\"timestamp\") )\u001b[0m\n\u001b[1;37m                                                                                           ^\u001b[0m\n\u001b[1;31mSyntaxError\u001b[0m\u001b[1;31m:\u001b[0m invalid syntax\n"
     ]
    }
   ],
   "source": [
    "redteam1 = redteam.withColumn(\"timestam\", redteam.select(\"time\")),'yyyy-MM-dd HH:mm:ss').cast(\"timestamp\") )"
   ]
  },
  {
   "cell_type": "code",
   "execution_count": 10,
   "metadata": {},
   "outputs": [],
   "source": [
    "import time\n",
    "\n",
    "time_update = udf(lambda x: time.strftime('%m/%d %H:%M:%S', time.gmtime(x)))\n",
    "\n",
    "#timestam = time.strftime('%m/%d %H:%M:%S', time.gmtime(redteam.select(\"time\")))"
   ]
  },
  {
   "cell_type": "markdown",
   "metadata": {},
   "source": [
    "# Create Classification model"
   ]
  },
  {
   "cell_type": "code",
   "execution_count": 24,
   "metadata": {},
   "outputs": [
    {
     "ename": "NameError",
     "evalue": "name 'StratifiedKFold' is not defined",
     "output_type": "error",
     "traceback": [
      "\u001b[0;31m---------------------------------------------------------------------------\u001b[0m",
      "\u001b[0;31mNameError\u001b[0m                                 Traceback (most recent call last)",
      "\u001b[0;32m<ipython-input-24-8d4443f8b470>\u001b[0m in \u001b[0;36m<module>\u001b[0;34m()\u001b[0m\n\u001b[0;32m----> 1\u001b[0;31m \u001b[0mcv\u001b[0m \u001b[0;34m=\u001b[0m \u001b[0mStratifiedKFold\u001b[0m\u001b[0;34m(\u001b[0m\u001b[0mn_splits\u001b[0m\u001b[0;34m=\u001b[0m\u001b[0;36m6\u001b[0m\u001b[0;34m)\u001b[0m\u001b[0;34m\u001b[0m\u001b[0m\n\u001b[0m\u001b[1;32m      2\u001b[0m \u001b[0mclassifier\u001b[0m \u001b[0;34m=\u001b[0m \u001b[0mxgb\u001b[0m\u001b[0;34m.\u001b[0m\u001b[0mXGBClassifier\u001b[0m\u001b[0;34m(\u001b[0m\u001b[0;34m)\u001b[0m\u001b[0;34m\u001b[0m\u001b[0m\n\u001b[1;32m      3\u001b[0m \u001b[0;34m\u001b[0m\u001b[0m\n\u001b[1;32m      4\u001b[0m \u001b[0;31m# X_train, X_test, y_train, y_test = train_test_split(X, y, test_size=0.33, random_state=42)\u001b[0m\u001b[0;34m\u001b[0m\u001b[0;34m\u001b[0m\u001b[0m\n\u001b[1;32m      5\u001b[0m \u001b[0;34m\u001b[0m\u001b[0m\n",
      "\u001b[0;31mNameError\u001b[0m: name 'StratifiedKFold' is not defined"
     ]
    }
   ],
   "source": [
    "cv = StratifiedKFold(n_splits=6)\n",
    "classifier = xgb.XGBClassifier()\n",
    "\n",
    "# X_train, X_test, y_train, y_test = train_test_split(X, y, test_size=0.33, random_state=42)\n",
    "\n",
    "\n",
    "tprs = []\n",
    "aucs = []\n",
    "mean_fpr = np.linspace(0, 1, 100)\n",
    "\n",
    "i = 0\n",
    "for train, test in cv.split(X, y):\n",
    "    print('round ',i+1)\n",
    "    probas_ = classifier.fit(X[train], y[train]).predict_proba(X[test])\n",
    "    # Compute ROC curve and area the curve\n",
    "    fpr, tpr, thresholds = roc_curve(y[test], probas_[:, 1])\n",
    "    tprs.append(interp(mean_fpr, fpr, tpr))\n",
    "    tprs[-1][0] = 0.0\n",
    "    roc_auc = auc(fpr, tpr)\n",
    "    aucs.append(roc_auc)\n",
    "    plt.plot(fpr, tpr, lw=1, alpha=0.3,\n",
    "             label='ROC fold %d (AUC = %0.2f)' % (i, roc_auc))\n",
    "\n",
    "    i += 1\n",
    "plt.plot([0, 1], [0, 1], linestyle='--', lw=2, color='r',\n",
    "         label='Chance', alpha=.8)\n",
    "\n",
    "mean_tpr = np.mean(tprs, axis=0)\n",
    "mean_tpr[-1] = 1.0\n",
    "mean_auc = auc(mean_fpr, mean_tpr)\n",
    "std_auc = np.std(aucs)\n",
    "plt.plot(mean_fpr, mean_tpr, color='b',\n",
    "         label=r'Mean ROC (AUC = %0.2f $\\pm$ %0.2f)' % (mean_auc, std_auc),\n",
    "         lw=2, alpha=.8)\n",
    "\n",
    "std_tpr = np.std(tprs, axis=0)\n",
    "tprs_upper = np.minimum(mean_tpr + std_tpr, 1)\n",
    "tprs_lower = np.maximum(mean_tpr - std_tpr, 0)\n",
    "plt.fill_between(mean_fpr, tprs_lower, tprs_upper, color='grey', alpha=.2,\n",
    "                 label=r'$\\pm$ 1 std. dev.')\n",
    "\n",
    "plt.xlim([-0.05, 1.05])\n",
    "plt.ylim([-0.05, 1.05])\n",
    "plt.xlabel('False Positive Rate')\n",
    "plt.ylabel('True Positive Rate')\n",
    "plt.title('Receiver operating characteristic example')\n",
    "plt.legend(loc=\"lower right\")\n",
    "plt.show()"
   ]
  },
  {
   "cell_type": "markdown",
   "metadata": {},
   "source": [
    "# Classify Test Data"
   ]
  },
  {
   "cell_type": "code",
   "execution_count": null,
   "metadata": {},
   "outputs": [],
   "source": []
  },
  {
   "cell_type": "code",
   "execution_count": null,
   "metadata": {},
   "outputs": [],
   "source": []
  },
  {
   "cell_type": "markdown",
   "metadata": {},
   "source": [
    "# Interpret Features"
   ]
  },
  {
   "cell_type": "code",
   "execution_count": null,
   "metadata": {},
   "outputs": [],
   "source": []
  },
  {
   "cell_type": "code",
   "execution_count": null,
   "metadata": {},
   "outputs": [],
   "source": []
  }
 ],
 "metadata": {
  "kernelspec": {
   "display_name": "Python 3",
   "language": "python",
   "name": "python3"
  },
  "language_info": {
   "codemirror_mode": {
    "name": "ipython",
    "version": 3
   },
   "file_extension": ".py",
   "mimetype": "text/x-python",
   "name": "python",
   "nbconvert_exporter": "python",
   "pygments_lexer": "ipython3",
   "version": "3.6.5"
  }
 },
 "nbformat": 4,
 "nbformat_minor": 2
}
