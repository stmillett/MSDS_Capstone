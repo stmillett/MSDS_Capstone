{
 "cells": [
  {
   "cell_type": "code",
   "execution_count": 32,
   "metadata": {},
   "outputs": [],
   "source": [
    "#Standard libraries\n",
    "import math\n",
    "import datetime, time\n",
    "import pandas as pd\n",
    "import numpy as np\n",
    "import matplotlib.pyplot as plt\n",
    "\n",
    "\n",
    "from scipy import interp\n",
    "\n",
    "#Used to create dictionaries IOCs\n",
    "from collections import OrderedDict\n",
    "\n",
    "\n",
    "#tools for reducing files\n",
    "from itertools import cycle\n",
    "from functools import reduce\n",
    "\n",
    "#Navigate directories\n",
    "import os\n",
    "\n",
    "#Scikit-learn\n",
    "from sklearn.metrics import roc_curve, auc\n",
    "from sklearn.preprocessing import MultiLabelBinarizer, OneHotEncoder, RobustScaler, LabelEncoder\n",
    "from sklearn.model_selection import (StratifiedKFold, train_test_split, GridSearchCV, KFold, \n",
    "                                     cross_validate, cross_val_score, cross_val_predict)\n",
    "from sklearn.pipeline import Pipeline\n",
    "from sklearn.ensemble import AdaBoostClassifier, RandomForestClassifier\n",
    "from sklearn.svm import SVC\n",
    "\n",
    "#Experimental classifier\n",
    "import xgboost as xgb\n",
    "\n",
    "#from tokenizer import Tokenizer"
   ]
  },
  {
   "cell_type": "markdown",
   "metadata": {},
   "source": [
    "# Import Data"
   ]
  },
  {
   "cell_type": "code",
   "execution_count": 12,
   "metadata": {},
   "outputs": [],
   "source": [
    "redteam_data_names = ['time','user@domain','src_comp','dest_comp']\n",
    "redteam_data = pd.read_csv('/users7/csegrad/smillett/capstone/Dataset/redteam.txt',names = redteam_data_names, \n",
    "                           header=None)"
   ]
  },
  {
   "cell_type": "code",
   "execution_count": 5,
   "metadata": {},
   "outputs": [],
   "source": [
    "proc_data = pd.read_csv('/users7/csegrad/smillett/capstone/Dataset/reduced_proc.csv')"
   ]
  },
  {
   "cell_type": "code",
   "execution_count": 9,
   "metadata": {},
   "outputs": [],
   "source": [
    "auth_data = pd.read_csv('/users7/csegrad/smillett/capstone/Dataset/reduced_auth.csv')"
   ]
  },
  {
   "cell_type": "code",
   "execution_count": 7,
   "metadata": {},
   "outputs": [],
   "source": [
    "dns_data = pd.read_csv('/users7/csegrad/smillett/capstone/Dataset/reduced_dns.csv')"
   ]
  },
  {
   "cell_type": "code",
   "execution_count": null,
   "metadata": {},
   "outputs": [],
   "source": [
    "flows_data = pd.read_csv('/users7/csegrad/smillett/capstone/Dataset/reduced_flows.csv')"
   ]
  },
  {
   "cell_type": "markdown",
   "metadata": {},
   "source": [
    "# Preprocess Data"
   ]
  },
  {
   "cell_type": "markdown",
   "metadata": {},
   "source": [
    "## Redteam data"
   ]
  },
  {
   "cell_type": "code",
   "execution_count": 10,
   "metadata": {},
   "outputs": [
    {
     "data": {
      "text/html": [
       "<div>\n",
       "<style scoped>\n",
       "    .dataframe tbody tr th:only-of-type {\n",
       "        vertical-align: middle;\n",
       "    }\n",
       "\n",
       "    .dataframe tbody tr th {\n",
       "        vertical-align: top;\n",
       "    }\n",
       "\n",
       "    .dataframe thead th {\n",
       "        text-align: right;\n",
       "    }\n",
       "</style>\n",
       "<table border=\"1\" class=\"dataframe\">\n",
       "  <thead>\n",
       "    <tr style=\"text-align: right;\">\n",
       "      <th></th>\n",
       "      <th>time</th>\n",
       "      <th>user@domain</th>\n",
       "      <th>src_comp</th>\n",
       "      <th>dest_comp</th>\n",
       "    </tr>\n",
       "  </thead>\n",
       "  <tbody>\n",
       "    <tr>\n",
       "      <th>0</th>\n",
       "      <td>150885</td>\n",
       "      <td>U620@DOM1</td>\n",
       "      <td>C17693</td>\n",
       "      <td>C1003</td>\n",
       "    </tr>\n",
       "    <tr>\n",
       "      <th>1</th>\n",
       "      <td>151036</td>\n",
       "      <td>U748@DOM1</td>\n",
       "      <td>C17693</td>\n",
       "      <td>C305</td>\n",
       "    </tr>\n",
       "    <tr>\n",
       "      <th>2</th>\n",
       "      <td>151648</td>\n",
       "      <td>U748@DOM1</td>\n",
       "      <td>C17693</td>\n",
       "      <td>C728</td>\n",
       "    </tr>\n",
       "    <tr>\n",
       "      <th>3</th>\n",
       "      <td>151993</td>\n",
       "      <td>U6115@DOM1</td>\n",
       "      <td>C17693</td>\n",
       "      <td>C1173</td>\n",
       "    </tr>\n",
       "    <tr>\n",
       "      <th>4</th>\n",
       "      <td>153792</td>\n",
       "      <td>U636@DOM1</td>\n",
       "      <td>C17693</td>\n",
       "      <td>C294</td>\n",
       "    </tr>\n",
       "  </tbody>\n",
       "</table>\n",
       "</div>"
      ],
      "text/plain": [
       "     time user@domain src_comp dest_comp\n",
       "0  150885   U620@DOM1   C17693     C1003\n",
       "1  151036   U748@DOM1   C17693      C305\n",
       "2  151648   U748@DOM1   C17693      C728\n",
       "3  151993  U6115@DOM1   C17693     C1173\n",
       "4  153792   U636@DOM1   C17693      C294"
      ]
     },
     "execution_count": 10,
     "metadata": {},
     "output_type": "execute_result"
    }
   ],
   "source": [
    "redteam_data.head()"
   ]
  },
  {
   "cell_type": "code",
   "execution_count": 26,
   "metadata": {},
   "outputs": [],
   "source": [
    "redteam_data['src_user'] = redteam_data['user@domain'].str.split('@',n=1,expand=True)[0]\n",
    "redteam_data['src_domain'] = redteam_data['user@domain'].str.split('@',n=1,expand=True)[1]\n",
    "\n",
    "redteam_data.drop(['user@domain'],axis='columns',inplace=True)"
   ]
  },
  {
   "cell_type": "code",
   "execution_count": 27,
   "metadata": {},
   "outputs": [
    {
     "data": {
      "text/html": [
       "<div>\n",
       "<style scoped>\n",
       "    .dataframe tbody tr th:only-of-type {\n",
       "        vertical-align: middle;\n",
       "    }\n",
       "\n",
       "    .dataframe tbody tr th {\n",
       "        vertical-align: top;\n",
       "    }\n",
       "\n",
       "    .dataframe thead th {\n",
       "        text-align: right;\n",
       "    }\n",
       "</style>\n",
       "<table border=\"1\" class=\"dataframe\">\n",
       "  <thead>\n",
       "    <tr style=\"text-align: right;\">\n",
       "      <th></th>\n",
       "      <th>time</th>\n",
       "      <th>src_comp</th>\n",
       "      <th>dest_comp</th>\n",
       "      <th>src_user</th>\n",
       "      <th>src_domain</th>\n",
       "    </tr>\n",
       "  </thead>\n",
       "  <tbody>\n",
       "    <tr>\n",
       "      <th>0</th>\n",
       "      <td>150885</td>\n",
       "      <td>C17693</td>\n",
       "      <td>C1003</td>\n",
       "      <td>U620</td>\n",
       "      <td>DOM1</td>\n",
       "    </tr>\n",
       "    <tr>\n",
       "      <th>1</th>\n",
       "      <td>151036</td>\n",
       "      <td>C17693</td>\n",
       "      <td>C305</td>\n",
       "      <td>U748</td>\n",
       "      <td>DOM1</td>\n",
       "    </tr>\n",
       "    <tr>\n",
       "      <th>2</th>\n",
       "      <td>151648</td>\n",
       "      <td>C17693</td>\n",
       "      <td>C728</td>\n",
       "      <td>U748</td>\n",
       "      <td>DOM1</td>\n",
       "    </tr>\n",
       "    <tr>\n",
       "      <th>3</th>\n",
       "      <td>151993</td>\n",
       "      <td>C17693</td>\n",
       "      <td>C1173</td>\n",
       "      <td>U6115</td>\n",
       "      <td>DOM1</td>\n",
       "    </tr>\n",
       "    <tr>\n",
       "      <th>4</th>\n",
       "      <td>153792</td>\n",
       "      <td>C17693</td>\n",
       "      <td>C294</td>\n",
       "      <td>U636</td>\n",
       "      <td>DOM1</td>\n",
       "    </tr>\n",
       "  </tbody>\n",
       "</table>\n",
       "</div>"
      ],
      "text/plain": [
       "     time src_comp dest_comp src_user src_domain\n",
       "0  150885   C17693     C1003     U620       DOM1\n",
       "1  151036   C17693      C305     U748       DOM1\n",
       "2  151648   C17693      C728     U748       DOM1\n",
       "3  151993   C17693     C1173    U6115       DOM1\n",
       "4  153792   C17693      C294     U636       DOM1"
      ]
     },
     "execution_count": 27,
     "metadata": {},
     "output_type": "execute_result"
    }
   ],
   "source": [
    "redteam_data.head()"
   ]
  },
  {
   "cell_type": "markdown",
   "metadata": {},
   "source": [
    "## Proc Data"
   ]
  },
  {
   "cell_type": "code",
   "execution_count": 28,
   "metadata": {},
   "outputs": [
    {
     "data": {
      "text/html": [
       "<div>\n",
       "<style scoped>\n",
       "    .dataframe tbody tr th:only-of-type {\n",
       "        vertical-align: middle;\n",
       "    }\n",
       "\n",
       "    .dataframe tbody tr th {\n",
       "        vertical-align: top;\n",
       "    }\n",
       "\n",
       "    .dataframe thead th {\n",
       "        text-align: right;\n",
       "    }\n",
       "</style>\n",
       "<table border=\"1\" class=\"dataframe\">\n",
       "  <thead>\n",
       "    <tr style=\"text-align: right;\">\n",
       "      <th></th>\n",
       "      <th>time</th>\n",
       "      <th>src_comp</th>\n",
       "      <th>proc</th>\n",
       "      <th>start</th>\n",
       "      <th>src_user</th>\n",
       "      <th>src_domain</th>\n",
       "    </tr>\n",
       "  </thead>\n",
       "  <tbody>\n",
       "    <tr>\n",
       "      <th>0</th>\n",
       "      <td>52756</td>\n",
       "      <td>C3326</td>\n",
       "      <td>P265</td>\n",
       "      <td>Start</td>\n",
       "      <td>C3326$</td>\n",
       "      <td>DOM1</td>\n",
       "    </tr>\n",
       "    <tr>\n",
       "      <th>1</th>\n",
       "      <td>52756</td>\n",
       "      <td>C449</td>\n",
       "      <td>P137</td>\n",
       "      <td>Start</td>\n",
       "      <td>C449$</td>\n",
       "      <td>DOM1</td>\n",
       "    </tr>\n",
       "    <tr>\n",
       "      <th>2</th>\n",
       "      <td>52756</td>\n",
       "      <td>C449</td>\n",
       "      <td>P16</td>\n",
       "      <td>Start</td>\n",
       "      <td>C449$</td>\n",
       "      <td>DOM1</td>\n",
       "    </tr>\n",
       "    <tr>\n",
       "      <th>3</th>\n",
       "      <td>52756</td>\n",
       "      <td>C520</td>\n",
       "      <td>P16</td>\n",
       "      <td>Start</td>\n",
       "      <td>C520$</td>\n",
       "      <td>DOM1</td>\n",
       "    </tr>\n",
       "    <tr>\n",
       "      <th>4</th>\n",
       "      <td>52756</td>\n",
       "      <td>C5362</td>\n",
       "      <td>P267</td>\n",
       "      <td>Start</td>\n",
       "      <td>C5362$</td>\n",
       "      <td>DOM1</td>\n",
       "    </tr>\n",
       "  </tbody>\n",
       "</table>\n",
       "</div>"
      ],
      "text/plain": [
       "    time src_comp  proc  start src_user src_domain\n",
       "0  52756    C3326  P265  Start   C3326$       DOM1\n",
       "1  52756     C449  P137  Start    C449$       DOM1\n",
       "2  52756     C449   P16  Start    C449$       DOM1\n",
       "3  52756     C520   P16  Start    C520$       DOM1\n",
       "4  52756    C5362  P267  Start   C5362$       DOM1"
      ]
     },
     "execution_count": 28,
     "metadata": {},
     "output_type": "execute_result"
    }
   ],
   "source": [
    "proc_data.head()"
   ]
  },
  {
   "cell_type": "code",
   "execution_count": null,
   "metadata": {
    "scrolled": false
   },
   "outputs": [],
   "source": [
    "proc_data['src_user'] = proc_data['user@domain'].str.split('@',n=1,expand=True)[0]\n",
    "proc_data['src_domain'] = proc_data['user@domain'].str.split('@',n=1,expand=True)[1]\n",
    "\n",
    "proc_data.drop(['user@domain'],axis='columns',inplace=True)"
   ]
  },
  {
   "cell_type": "code",
   "execution_count": 24,
   "metadata": {},
   "outputs": [],
   "source": [
    "#proc_groups = OrderedDict"
   ]
  },
  {
   "cell_type": "code",
   "execution_count": 63,
   "metadata": {},
   "outputs": [],
   "source": [
    "proc_start = proc_data[['start','src_comp','time']][proc_data[\"start\"]=='Start'].groupby(['time','src_comp']).count()\n",
    "proc_end = proc_data[['start','src_comp','time']][proc_data[\"start\"]=='End'].groupby(['time','src_comp']).count()"
   ]
  },
  {
   "cell_type": "code",
   "execution_count": 64,
   "metadata": {},
   "outputs": [],
   "source": [
    "proc_end.rename(columns={'start':'end'},inplace=True)"
   ]
  },
  {
   "cell_type": "code",
   "execution_count": 65,
   "metadata": {},
   "outputs": [],
   "source": [
    "proc_end.reset_index(inplace=True)\n",
    "proc_start.reset_index(inplace=True)"
   ]
  },
  {
   "cell_type": "code",
   "execution_count": 70,
   "metadata": {},
   "outputs": [],
   "source": [
    "result = pd.merge(proc_end,proc_start,how='outer',on=['time','src_comp']).fillna(0)"
   ]
  },
  {
   "cell_type": "code",
   "execution_count": 72,
   "metadata": {},
   "outputs": [
    {
     "data": {
      "text/html": [
       "<div>\n",
       "<style scoped>\n",
       "    .dataframe tbody tr th:only-of-type {\n",
       "        vertical-align: middle;\n",
       "    }\n",
       "\n",
       "    .dataframe tbody tr th {\n",
       "        vertical-align: top;\n",
       "    }\n",
       "\n",
       "    .dataframe thead th {\n",
       "        text-align: right;\n",
       "    }\n",
       "</style>\n",
       "<table border=\"1\" class=\"dataframe\">\n",
       "  <thead>\n",
       "    <tr style=\"text-align: right;\">\n",
       "      <th></th>\n",
       "      <th>time</th>\n",
       "      <th>src_comp</th>\n",
       "      <th>end</th>\n",
       "      <th>start</th>\n",
       "    </tr>\n",
       "  </thead>\n",
       "  <tbody>\n",
       "    <tr>\n",
       "      <th>0</th>\n",
       "      <td>52756</td>\n",
       "      <td>C12837</td>\n",
       "      <td>1.0</td>\n",
       "      <td>0.0</td>\n",
       "    </tr>\n",
       "    <tr>\n",
       "      <th>1</th>\n",
       "      <td>52756</td>\n",
       "      <td>C13012</td>\n",
       "      <td>1.0</td>\n",
       "      <td>0.0</td>\n",
       "    </tr>\n",
       "    <tr>\n",
       "      <th>2</th>\n",
       "      <td>52756</td>\n",
       "      <td>C1972</td>\n",
       "      <td>1.0</td>\n",
       "      <td>0.0</td>\n",
       "    </tr>\n",
       "    <tr>\n",
       "      <th>3</th>\n",
       "      <td>52756</td>\n",
       "      <td>C3430</td>\n",
       "      <td>1.0</td>\n",
       "      <td>0.0</td>\n",
       "    </tr>\n",
       "    <tr>\n",
       "      <th>4</th>\n",
       "      <td>52756</td>\n",
       "      <td>C589</td>\n",
       "      <td>1.0</td>\n",
       "      <td>0.0</td>\n",
       "    </tr>\n",
       "    <tr>\n",
       "      <th>5</th>\n",
       "      <td>52756</td>\n",
       "      <td>C6213</td>\n",
       "      <td>1.0</td>\n",
       "      <td>0.0</td>\n",
       "    </tr>\n",
       "    <tr>\n",
       "      <th>6</th>\n",
       "      <td>52756</td>\n",
       "      <td>C629</td>\n",
       "      <td>1.0</td>\n",
       "      <td>1.0</td>\n",
       "    </tr>\n",
       "    <tr>\n",
       "      <th>7</th>\n",
       "      <td>52756</td>\n",
       "      <td>C6687</td>\n",
       "      <td>4.0</td>\n",
       "      <td>1.0</td>\n",
       "    </tr>\n",
       "    <tr>\n",
       "      <th>8</th>\n",
       "      <td>52757</td>\n",
       "      <td>C101</td>\n",
       "      <td>1.0</td>\n",
       "      <td>0.0</td>\n",
       "    </tr>\n",
       "    <tr>\n",
       "      <th>9</th>\n",
       "      <td>52757</td>\n",
       "      <td>C12330</td>\n",
       "      <td>1.0</td>\n",
       "      <td>1.0</td>\n",
       "    </tr>\n",
       "  </tbody>\n",
       "</table>\n",
       "</div>"
      ],
      "text/plain": [
       "    time src_comp  end  start\n",
       "0  52756   C12837  1.0    0.0\n",
       "1  52756   C13012  1.0    0.0\n",
       "2  52756    C1972  1.0    0.0\n",
       "3  52756    C3430  1.0    0.0\n",
       "4  52756     C589  1.0    0.0\n",
       "5  52756    C6213  1.0    0.0\n",
       "6  52756     C629  1.0    1.0\n",
       "7  52756    C6687  4.0    1.0\n",
       "8  52757     C101  1.0    0.0\n",
       "9  52757   C12330  1.0    1.0"
      ]
     },
     "execution_count": 72,
     "metadata": {},
     "output_type": "execute_result"
    }
   ],
   "source": [
    "result.head(10)"
   ]
  },
  {
   "cell_type": "code",
   "execution_count": 25,
   "metadata": {},
   "outputs": [
    {
     "data": {
      "text/html": [
       "<div>\n",
       "<style scoped>\n",
       "    .dataframe tbody tr th:only-of-type {\n",
       "        vertical-align: middle;\n",
       "    }\n",
       "\n",
       "    .dataframe tbody tr th {\n",
       "        vertical-align: top;\n",
       "    }\n",
       "\n",
       "    .dataframe thead th {\n",
       "        text-align: right;\n",
       "    }\n",
       "</style>\n",
       "<table border=\"1\" class=\"dataframe\">\n",
       "  <thead>\n",
       "    <tr style=\"text-align: right;\">\n",
       "      <th></th>\n",
       "      <th>time</th>\n",
       "      <th>src_comp</th>\n",
       "      <th>proc</th>\n",
       "      <th>start</th>\n",
       "      <th>src_user</th>\n",
       "      <th>src_domain</th>\n",
       "    </tr>\n",
       "  </thead>\n",
       "  <tbody>\n",
       "    <tr>\n",
       "      <th>0</th>\n",
       "      <td>52756</td>\n",
       "      <td>C3326</td>\n",
       "      <td>P265</td>\n",
       "      <td>Start</td>\n",
       "      <td>C3326$</td>\n",
       "      <td>DOM1</td>\n",
       "    </tr>\n",
       "    <tr>\n",
       "      <th>1</th>\n",
       "      <td>52756</td>\n",
       "      <td>C449</td>\n",
       "      <td>P137</td>\n",
       "      <td>Start</td>\n",
       "      <td>C449$</td>\n",
       "      <td>DOM1</td>\n",
       "    </tr>\n",
       "    <tr>\n",
       "      <th>2</th>\n",
       "      <td>52756</td>\n",
       "      <td>C449</td>\n",
       "      <td>P16</td>\n",
       "      <td>Start</td>\n",
       "      <td>C449$</td>\n",
       "      <td>DOM1</td>\n",
       "    </tr>\n",
       "    <tr>\n",
       "      <th>3</th>\n",
       "      <td>52756</td>\n",
       "      <td>C520</td>\n",
       "      <td>P16</td>\n",
       "      <td>Start</td>\n",
       "      <td>C520$</td>\n",
       "      <td>DOM1</td>\n",
       "    </tr>\n",
       "    <tr>\n",
       "      <th>4</th>\n",
       "      <td>52756</td>\n",
       "      <td>C5362</td>\n",
       "      <td>P267</td>\n",
       "      <td>Start</td>\n",
       "      <td>C5362$</td>\n",
       "      <td>DOM1</td>\n",
       "    </tr>\n",
       "  </tbody>\n",
       "</table>\n",
       "</div>"
      ],
      "text/plain": [
       "    time src_comp  proc  start src_user src_domain\n",
       "0  52756    C3326  P265  Start   C3326$       DOM1\n",
       "1  52756     C449  P137  Start    C449$       DOM1\n",
       "2  52756     C449   P16  Start    C449$       DOM1\n",
       "3  52756     C520   P16  Start    C520$       DOM1\n",
       "4  52756    C5362  P267  Start   C5362$       DOM1"
      ]
     },
     "execution_count": 25,
     "metadata": {},
     "output_type": "execute_result"
    }
   ],
   "source": [
    "proc_data.head()"
   ]
  },
  {
   "cell_type": "markdown",
   "metadata": {},
   "source": [
    "## Auth Data"
   ]
  },
  {
   "cell_type": "code",
   "execution_count": 11,
   "metadata": {},
   "outputs": [
    {
     "data": {
      "text/html": [
       "<div>\n",
       "<style scoped>\n",
       "    .dataframe tbody tr th:only-of-type {\n",
       "        vertical-align: middle;\n",
       "    }\n",
       "\n",
       "    .dataframe tbody tr th {\n",
       "        vertical-align: top;\n",
       "    }\n",
       "\n",
       "    .dataframe thead th {\n",
       "        text-align: right;\n",
       "    }\n",
       "</style>\n",
       "<table border=\"1\" class=\"dataframe\">\n",
       "  <thead>\n",
       "    <tr style=\"text-align: right;\">\n",
       "      <th></th>\n",
       "      <th>time</th>\n",
       "      <th>user@domain</th>\n",
       "      <th>dest_user@domain</th>\n",
       "      <th>src_comp</th>\n",
       "      <th>dest_comp</th>\n",
       "      <th>auth_type</th>\n",
       "      <th>logon_type</th>\n",
       "      <th>auth_orient</th>\n",
       "      <th>success</th>\n",
       "    </tr>\n",
       "  </thead>\n",
       "  <tbody>\n",
       "    <tr>\n",
       "      <th>0</th>\n",
       "      <td>56816</td>\n",
       "      <td>C2341$@DOM1</td>\n",
       "      <td>C2341$@DOM1</td>\n",
       "      <td>C2341</td>\n",
       "      <td>C467</td>\n",
       "      <td>Kerberos</td>\n",
       "      <td>Network</td>\n",
       "      <td>LogOn</td>\n",
       "      <td>Success</td>\n",
       "    </tr>\n",
       "    <tr>\n",
       "      <th>1</th>\n",
       "      <td>56816</td>\n",
       "      <td>C2341$@DOM1</td>\n",
       "      <td>C2341$@DOM1</td>\n",
       "      <td>C2341</td>\n",
       "      <td>C528</td>\n",
       "      <td>Kerberos</td>\n",
       "      <td>Network</td>\n",
       "      <td>LogOn</td>\n",
       "      <td>Success</td>\n",
       "    </tr>\n",
       "    <tr>\n",
       "      <th>2</th>\n",
       "      <td>56816</td>\n",
       "      <td>C2341$@DOM1</td>\n",
       "      <td>C2341$@DOM1</td>\n",
       "      <td>C2341</td>\n",
       "      <td>C529</td>\n",
       "      <td>?</td>\n",
       "      <td>?</td>\n",
       "      <td>TGS</td>\n",
       "      <td>Success</td>\n",
       "    </tr>\n",
       "    <tr>\n",
       "      <th>3</th>\n",
       "      <td>56816</td>\n",
       "      <td>C2341$@DOM1</td>\n",
       "      <td>C2341$@DOM1</td>\n",
       "      <td>C2341</td>\n",
       "      <td>C529</td>\n",
       "      <td>Kerberos</td>\n",
       "      <td>Network</td>\n",
       "      <td>LogOn</td>\n",
       "      <td>Success</td>\n",
       "    </tr>\n",
       "    <tr>\n",
       "      <th>4</th>\n",
       "      <td>56816</td>\n",
       "      <td>C2341$@DOM1</td>\n",
       "      <td>C2341$@DOM1</td>\n",
       "      <td>C2341</td>\n",
       "      <td>C612</td>\n",
       "      <td>Kerberos</td>\n",
       "      <td>Network</td>\n",
       "      <td>LogOn</td>\n",
       "      <td>Success</td>\n",
       "    </tr>\n",
       "  </tbody>\n",
       "</table>\n",
       "</div>"
      ],
      "text/plain": [
       "    time  user@domain dest_user@domain src_comp dest_comp auth_type  \\\n",
       "0  56816  C2341$@DOM1      C2341$@DOM1    C2341      C467  Kerberos   \n",
       "1  56816  C2341$@DOM1      C2341$@DOM1    C2341      C528  Kerberos   \n",
       "2  56816  C2341$@DOM1      C2341$@DOM1    C2341      C529         ?   \n",
       "3  56816  C2341$@DOM1      C2341$@DOM1    C2341      C529  Kerberos   \n",
       "4  56816  C2341$@DOM1      C2341$@DOM1    C2341      C612  Kerberos   \n",
       "\n",
       "  logon_type auth_orient  success  \n",
       "0    Network       LogOn  Success  \n",
       "1    Network       LogOn  Success  \n",
       "2          ?         TGS  Success  \n",
       "3    Network       LogOn  Success  \n",
       "4    Network       LogOn  Success  "
      ]
     },
     "execution_count": 11,
     "metadata": {},
     "output_type": "execute_result"
    }
   ],
   "source": [
    "auth_data.head()"
   ]
  },
  {
   "cell_type": "code",
   "execution_count": null,
   "metadata": {},
   "outputs": [],
   "source": []
  },
  {
   "cell_type": "code",
   "execution_count": null,
   "metadata": {},
   "outputs": [],
   "source": [
    "auth_data['src_user'] = auth_data['user@domain'].str.split('@',n=1,expand=True)[0]\n",
    "auth_data['src_domain'] = auth_data['user@domain'].str.split('@',n=1,expand=True)[1]\n",
    "\n",
    "auth_data['dest_user'] = auth_data['dest_user@domain'].str.split('@',n=1,expand=True)[0]\n",
    "auth_data['dest_domain'] = auth_data['dest_user@domain'].str.split('@',n=1,expand=True)[1]\n",
    "\n",
    "auth_data.drop(['user@domain','dest_user@domain'],axis='columns',inplace=True)"
   ]
  },
  {
   "cell_type": "code",
   "execution_count": 78,
   "metadata": {},
   "outputs": [],
   "source": [
    "fail_logon = auth_data[['time','src_comp','auth_orient','success']][(auth_data['auth_orient']=='LogOn') & (auth_data['success']=='Fail')].groupby(['time','src_comp']).count()\n",
    "TGS_count = auth_data[['time','src_comp','auth_orient']][(auth_data['auth_orient']=='TGS')].groupby(['time','src_comp']).count()\n",
    "TGT_count = auth_data[['time','src_comp','auth_orient']][(auth_data['auth_orient']=='TGT')].groupby(['time','src_comp']).count()"
   ]
  },
  {
   "cell_type": "code",
   "execution_count": 80,
   "metadata": {},
   "outputs": [
    {
     "data": {
      "text/html": [
       "<div>\n",
       "<style scoped>\n",
       "    .dataframe tbody tr th:only-of-type {\n",
       "        vertical-align: middle;\n",
       "    }\n",
       "\n",
       "    .dataframe tbody tr th {\n",
       "        vertical-align: top;\n",
       "    }\n",
       "\n",
       "    .dataframe thead th {\n",
       "        text-align: right;\n",
       "    }\n",
       "</style>\n",
       "<table border=\"1\" class=\"dataframe\">\n",
       "  <thead>\n",
       "    <tr style=\"text-align: right;\">\n",
       "      <th></th>\n",
       "      <th></th>\n",
       "      <th>auth_orient</th>\n",
       "    </tr>\n",
       "    <tr>\n",
       "      <th>time</th>\n",
       "      <th>src_comp</th>\n",
       "      <th></th>\n",
       "    </tr>\n",
       "  </thead>\n",
       "  <tbody>\n",
       "    <tr>\n",
       "      <th rowspan=\"4\" valign=\"top\">56816</th>\n",
       "      <th>C105</th>\n",
       "      <td>1</td>\n",
       "    </tr>\n",
       "    <tr>\n",
       "      <th>C13742</th>\n",
       "      <td>1</td>\n",
       "    </tr>\n",
       "    <tr>\n",
       "      <th>C1392</th>\n",
       "      <td>1</td>\n",
       "    </tr>\n",
       "    <tr>\n",
       "      <th>C1710</th>\n",
       "      <td>1</td>\n",
       "    </tr>\n",
       "    <tr>\n",
       "      <th rowspan=\"9\" valign=\"top\">56817</th>\n",
       "      <th>C1795</th>\n",
       "      <td>1</td>\n",
       "    </tr>\n",
       "    <tr>\n",
       "      <th>C2093</th>\n",
       "      <td>1</td>\n",
       "    </tr>\n",
       "    <tr>\n",
       "      <th>C2323</th>\n",
       "      <td>1</td>\n",
       "    </tr>\n",
       "    <tr>\n",
       "      <th>C2366</th>\n",
       "      <td>1</td>\n",
       "    </tr>\n",
       "    <tr>\n",
       "      <th>C2681</th>\n",
       "      <td>1</td>\n",
       "    </tr>\n",
       "    <tr>\n",
       "      <th>C5850</th>\n",
       "      <td>1</td>\n",
       "    </tr>\n",
       "    <tr>\n",
       "      <th>C6273</th>\n",
       "      <td>1</td>\n",
       "    </tr>\n",
       "    <tr>\n",
       "      <th>C6817</th>\n",
       "      <td>1</td>\n",
       "    </tr>\n",
       "    <tr>\n",
       "      <th>C775</th>\n",
       "      <td>1</td>\n",
       "    </tr>\n",
       "    <tr>\n",
       "      <th rowspan=\"7\" valign=\"top\">56818</th>\n",
       "      <th>C12552</th>\n",
       "      <td>1</td>\n",
       "    </tr>\n",
       "    <tr>\n",
       "      <th>C1618</th>\n",
       "      <td>1</td>\n",
       "    </tr>\n",
       "    <tr>\n",
       "      <th>C1621</th>\n",
       "      <td>1</td>\n",
       "    </tr>\n",
       "    <tr>\n",
       "      <th>C2398</th>\n",
       "      <td>1</td>\n",
       "    </tr>\n",
       "    <tr>\n",
       "      <th>C2404</th>\n",
       "      <td>1</td>\n",
       "    </tr>\n",
       "    <tr>\n",
       "      <th>C2412</th>\n",
       "      <td>1</td>\n",
       "    </tr>\n",
       "    <tr>\n",
       "      <th>C2742</th>\n",
       "      <td>1</td>\n",
       "    </tr>\n",
       "  </tbody>\n",
       "</table>\n",
       "</div>"
      ],
      "text/plain": [
       "                auth_orient\n",
       "time  src_comp             \n",
       "56816 C105                1\n",
       "      C13742              1\n",
       "      C1392               1\n",
       "      C1710               1\n",
       "56817 C1795               1\n",
       "      C2093               1\n",
       "      C2323               1\n",
       "      C2366               1\n",
       "      C2681               1\n",
       "      C5850               1\n",
       "      C6273               1\n",
       "      C6817               1\n",
       "      C775                1\n",
       "56818 C12552              1\n",
       "      C1618               1\n",
       "      C1621               1\n",
       "      C2398               1\n",
       "      C2404               1\n",
       "      C2412               1\n",
       "      C2742               1"
      ]
     },
     "execution_count": 80,
     "metadata": {},
     "output_type": "execute_result"
    }
   ],
   "source": [
    "TGT_count.head(20)"
   ]
  },
  {
   "cell_type": "code",
   "execution_count": null,
   "metadata": {},
   "outputs": [],
   "source": []
  },
  {
   "cell_type": "code",
   "execution_count": 29,
   "metadata": {},
   "outputs": [
    {
     "data": {
      "text/html": [
       "<div>\n",
       "<style scoped>\n",
       "    .dataframe tbody tr th:only-of-type {\n",
       "        vertical-align: middle;\n",
       "    }\n",
       "\n",
       "    .dataframe tbody tr th {\n",
       "        vertical-align: top;\n",
       "    }\n",
       "\n",
       "    .dataframe thead th {\n",
       "        text-align: right;\n",
       "    }\n",
       "</style>\n",
       "<table border=\"1\" class=\"dataframe\">\n",
       "  <thead>\n",
       "    <tr style=\"text-align: right;\">\n",
       "      <th></th>\n",
       "      <th>time</th>\n",
       "      <th>src_comp</th>\n",
       "      <th>dest_comp</th>\n",
       "      <th>auth_type</th>\n",
       "      <th>logon_type</th>\n",
       "      <th>auth_orient</th>\n",
       "      <th>success</th>\n",
       "      <th>src_usr</th>\n",
       "      <th>src_user</th>\n",
       "      <th>src_domain</th>\n",
       "      <th>dest_user</th>\n",
       "      <th>dest_domain</th>\n",
       "    </tr>\n",
       "  </thead>\n",
       "  <tbody>\n",
       "    <tr>\n",
       "      <th>0</th>\n",
       "      <td>56816</td>\n",
       "      <td>C2341</td>\n",
       "      <td>C467</td>\n",
       "      <td>Kerberos</td>\n",
       "      <td>Network</td>\n",
       "      <td>LogOn</td>\n",
       "      <td>Success</td>\n",
       "      <td>C2341$</td>\n",
       "      <td>C2341$</td>\n",
       "      <td>DOM1</td>\n",
       "      <td>C2341$</td>\n",
       "      <td>DOM1</td>\n",
       "    </tr>\n",
       "    <tr>\n",
       "      <th>1</th>\n",
       "      <td>56816</td>\n",
       "      <td>C2341</td>\n",
       "      <td>C528</td>\n",
       "      <td>Kerberos</td>\n",
       "      <td>Network</td>\n",
       "      <td>LogOn</td>\n",
       "      <td>Success</td>\n",
       "      <td>C2341$</td>\n",
       "      <td>C2341$</td>\n",
       "      <td>DOM1</td>\n",
       "      <td>C2341$</td>\n",
       "      <td>DOM1</td>\n",
       "    </tr>\n",
       "    <tr>\n",
       "      <th>2</th>\n",
       "      <td>56816</td>\n",
       "      <td>C2341</td>\n",
       "      <td>C529</td>\n",
       "      <td>?</td>\n",
       "      <td>?</td>\n",
       "      <td>TGS</td>\n",
       "      <td>Success</td>\n",
       "      <td>C2341$</td>\n",
       "      <td>C2341$</td>\n",
       "      <td>DOM1</td>\n",
       "      <td>C2341$</td>\n",
       "      <td>DOM1</td>\n",
       "    </tr>\n",
       "    <tr>\n",
       "      <th>3</th>\n",
       "      <td>56816</td>\n",
       "      <td>C2341</td>\n",
       "      <td>C529</td>\n",
       "      <td>Kerberos</td>\n",
       "      <td>Network</td>\n",
       "      <td>LogOn</td>\n",
       "      <td>Success</td>\n",
       "      <td>C2341$</td>\n",
       "      <td>C2341$</td>\n",
       "      <td>DOM1</td>\n",
       "      <td>C2341$</td>\n",
       "      <td>DOM1</td>\n",
       "    </tr>\n",
       "    <tr>\n",
       "      <th>4</th>\n",
       "      <td>56816</td>\n",
       "      <td>C2341</td>\n",
       "      <td>C612</td>\n",
       "      <td>Kerberos</td>\n",
       "      <td>Network</td>\n",
       "      <td>LogOn</td>\n",
       "      <td>Success</td>\n",
       "      <td>C2341$</td>\n",
       "      <td>C2341$</td>\n",
       "      <td>DOM1</td>\n",
       "      <td>C2341$</td>\n",
       "      <td>DOM1</td>\n",
       "    </tr>\n",
       "    <tr>\n",
       "      <th>5</th>\n",
       "      <td>56816</td>\n",
       "      <td>C457</td>\n",
       "      <td>C457</td>\n",
       "      <td>?</td>\n",
       "      <td>Network</td>\n",
       "      <td>LogOff</td>\n",
       "      <td>Success</td>\n",
       "      <td>C2341$</td>\n",
       "      <td>C2341$</td>\n",
       "      <td>DOM1</td>\n",
       "      <td>C2341$</td>\n",
       "      <td>DOM1</td>\n",
       "    </tr>\n",
       "    <tr>\n",
       "      <th>6</th>\n",
       "      <td>56816</td>\n",
       "      <td>C529</td>\n",
       "      <td>C529</td>\n",
       "      <td>?</td>\n",
       "      <td>Network</td>\n",
       "      <td>LogOff</td>\n",
       "      <td>Success</td>\n",
       "      <td>C2341$</td>\n",
       "      <td>C2341$</td>\n",
       "      <td>DOM1</td>\n",
       "      <td>C2341$</td>\n",
       "      <td>DOM1</td>\n",
       "    </tr>\n",
       "    <tr>\n",
       "      <th>7</th>\n",
       "      <td>56816</td>\n",
       "      <td>C2368</td>\n",
       "      <td>C1881</td>\n",
       "      <td>Kerberos</td>\n",
       "      <td>Network</td>\n",
       "      <td>LogOn</td>\n",
       "      <td>Success</td>\n",
       "      <td>C2368$</td>\n",
       "      <td>C2368$</td>\n",
       "      <td>DOM1</td>\n",
       "      <td>C2368$</td>\n",
       "      <td>DOM1</td>\n",
       "    </tr>\n",
       "    <tr>\n",
       "      <th>8</th>\n",
       "      <td>56816</td>\n",
       "      <td>C625</td>\n",
       "      <td>C625</td>\n",
       "      <td>?</td>\n",
       "      <td>Network</td>\n",
       "      <td>LogOff</td>\n",
       "      <td>Success</td>\n",
       "      <td>C2415$</td>\n",
       "      <td>C2415$</td>\n",
       "      <td>DOM1</td>\n",
       "      <td>C2415$</td>\n",
       "      <td>DOM1</td>\n",
       "    </tr>\n",
       "    <tr>\n",
       "      <th>9</th>\n",
       "      <td>56816</td>\n",
       "      <td>C625</td>\n",
       "      <td>C625</td>\n",
       "      <td>?</td>\n",
       "      <td>Network</td>\n",
       "      <td>LogOff</td>\n",
       "      <td>Success</td>\n",
       "      <td>C2489$</td>\n",
       "      <td>C2489$</td>\n",
       "      <td>DOM1</td>\n",
       "      <td>C2489$</td>\n",
       "      <td>DOM1</td>\n",
       "    </tr>\n",
       "  </tbody>\n",
       "</table>\n",
       "</div>"
      ],
      "text/plain": [
       "    time src_comp dest_comp auth_type logon_type auth_orient  success src_usr  \\\n",
       "0  56816    C2341      C467  Kerberos    Network       LogOn  Success  C2341$   \n",
       "1  56816    C2341      C528  Kerberos    Network       LogOn  Success  C2341$   \n",
       "2  56816    C2341      C529         ?          ?         TGS  Success  C2341$   \n",
       "3  56816    C2341      C529  Kerberos    Network       LogOn  Success  C2341$   \n",
       "4  56816    C2341      C612  Kerberos    Network       LogOn  Success  C2341$   \n",
       "5  56816     C457      C457         ?    Network      LogOff  Success  C2341$   \n",
       "6  56816     C529      C529         ?    Network      LogOff  Success  C2341$   \n",
       "7  56816    C2368     C1881  Kerberos    Network       LogOn  Success  C2368$   \n",
       "8  56816     C625      C625         ?    Network      LogOff  Success  C2415$   \n",
       "9  56816     C625      C625         ?    Network      LogOff  Success  C2489$   \n",
       "\n",
       "  src_user src_domain dest_user dest_domain  \n",
       "0   C2341$       DOM1    C2341$        DOM1  \n",
       "1   C2341$       DOM1    C2341$        DOM1  \n",
       "2   C2341$       DOM1    C2341$        DOM1  \n",
       "3   C2341$       DOM1    C2341$        DOM1  \n",
       "4   C2341$       DOM1    C2341$        DOM1  \n",
       "5   C2341$       DOM1    C2341$        DOM1  \n",
       "6   C2341$       DOM1    C2341$        DOM1  \n",
       "7   C2368$       DOM1    C2368$        DOM1  \n",
       "8   C2415$       DOM1    C2415$        DOM1  \n",
       "9   C2489$       DOM1    C2489$        DOM1  "
      ]
     },
     "execution_count": 29,
     "metadata": {},
     "output_type": "execute_result"
    }
   ],
   "source": [
    "auth_data.head(10)"
   ]
  },
  {
   "cell_type": "markdown",
   "metadata": {},
   "source": [
    "## DNS Data"
   ]
  },
  {
   "cell_type": "code",
   "execution_count": 13,
   "metadata": {},
   "outputs": [
    {
     "data": {
      "text/html": [
       "<div>\n",
       "<style scoped>\n",
       "    .dataframe tbody tr th:only-of-type {\n",
       "        vertical-align: middle;\n",
       "    }\n",
       "\n",
       "    .dataframe tbody tr th {\n",
       "        vertical-align: top;\n",
       "    }\n",
       "\n",
       "    .dataframe thead th {\n",
       "        text-align: right;\n",
       "    }\n",
       "</style>\n",
       "<table border=\"1\" class=\"dataframe\">\n",
       "  <thead>\n",
       "    <tr style=\"text-align: right;\">\n",
       "      <th></th>\n",
       "      <th>time</th>\n",
       "      <th>src_comp</th>\n",
       "      <th>comp_rslv</th>\n",
       "    </tr>\n",
       "  </thead>\n",
       "  <tbody>\n",
       "    <tr>\n",
       "      <th>0</th>\n",
       "      <td>86263</td>\n",
       "      <td>C2492</td>\n",
       "      <td>C457</td>\n",
       "    </tr>\n",
       "    <tr>\n",
       "      <th>1</th>\n",
       "      <td>86263</td>\n",
       "      <td>C3484</td>\n",
       "      <td>C1685</td>\n",
       "    </tr>\n",
       "    <tr>\n",
       "      <th>2</th>\n",
       "      <td>86264</td>\n",
       "      <td>C6758</td>\n",
       "      <td>C1707</td>\n",
       "    </tr>\n",
       "    <tr>\n",
       "      <th>3</th>\n",
       "      <td>86266</td>\n",
       "      <td>C6509</td>\n",
       "      <td>C5030</td>\n",
       "    </tr>\n",
       "    <tr>\n",
       "      <th>4</th>\n",
       "      <td>86267</td>\n",
       "      <td>C5332</td>\n",
       "      <td>C528</td>\n",
       "    </tr>\n",
       "  </tbody>\n",
       "</table>\n",
       "</div>"
      ],
      "text/plain": [
       "    time src_comp comp_rslv\n",
       "0  86263    C2492      C457\n",
       "1  86263    C3484     C1685\n",
       "2  86264    C6758     C1707\n",
       "3  86266    C6509     C5030\n",
       "4  86267    C5332      C528"
      ]
     },
     "execution_count": 13,
     "metadata": {},
     "output_type": "execute_result"
    }
   ],
   "source": [
    "dns_data.head()"
   ]
  },
  {
   "cell_type": "code",
   "execution_count": null,
   "metadata": {},
   "outputs": [],
   "source": []
  },
  {
   "cell_type": "code",
   "execution_count": null,
   "metadata": {},
   "outputs": [],
   "source": []
  },
  {
   "cell_type": "code",
   "execution_count": 15,
   "metadata": {},
   "outputs": [
    {
     "data": {
      "text/html": [
       "<div>\n",
       "<style scoped>\n",
       "    .dataframe tbody tr th:only-of-type {\n",
       "        vertical-align: middle;\n",
       "    }\n",
       "\n",
       "    .dataframe tbody tr th {\n",
       "        vertical-align: top;\n",
       "    }\n",
       "\n",
       "    .dataframe thead th {\n",
       "        text-align: right;\n",
       "    }\n",
       "</style>\n",
       "<table border=\"1\" class=\"dataframe\">\n",
       "  <thead>\n",
       "    <tr style=\"text-align: right;\">\n",
       "      <th></th>\n",
       "      <th>time</th>\n",
       "      <th>src_comp</th>\n",
       "      <th>comp_rslv</th>\n",
       "    </tr>\n",
       "  </thead>\n",
       "  <tbody>\n",
       "    <tr>\n",
       "      <th>0</th>\n",
       "      <td>86263</td>\n",
       "      <td>C2492</td>\n",
       "      <td>C457</td>\n",
       "    </tr>\n",
       "    <tr>\n",
       "      <th>1</th>\n",
       "      <td>86263</td>\n",
       "      <td>C3484</td>\n",
       "      <td>C1685</td>\n",
       "    </tr>\n",
       "    <tr>\n",
       "      <th>2</th>\n",
       "      <td>86264</td>\n",
       "      <td>C6758</td>\n",
       "      <td>C1707</td>\n",
       "    </tr>\n",
       "    <tr>\n",
       "      <th>3</th>\n",
       "      <td>86266</td>\n",
       "      <td>C6509</td>\n",
       "      <td>C5030</td>\n",
       "    </tr>\n",
       "    <tr>\n",
       "      <th>4</th>\n",
       "      <td>86267</td>\n",
       "      <td>C5332</td>\n",
       "      <td>C528</td>\n",
       "    </tr>\n",
       "  </tbody>\n",
       "</table>\n",
       "</div>"
      ],
      "text/plain": [
       "    time src_comp comp_rslv\n",
       "0  86263    C2492      C457\n",
       "1  86263    C3484     C1685\n",
       "2  86264    C6758     C1707\n",
       "3  86266    C6509     C5030\n",
       "4  86267    C5332      C528"
      ]
     },
     "execution_count": 15,
     "metadata": {},
     "output_type": "execute_result"
    }
   ],
   "source": [
    "dns_data.head()"
   ]
  },
  {
   "cell_type": "markdown",
   "metadata": {},
   "source": [
    "## Flows Data"
   ]
  },
  {
   "cell_type": "code",
   "execution_count": 30,
   "metadata": {},
   "outputs": [
    {
     "data": {
      "text/html": [
       "<div>\n",
       "<style scoped>\n",
       "    .dataframe tbody tr th:only-of-type {\n",
       "        vertical-align: middle;\n",
       "    }\n",
       "\n",
       "    .dataframe tbody tr th {\n",
       "        vertical-align: top;\n",
       "    }\n",
       "\n",
       "    .dataframe thead th {\n",
       "        text-align: right;\n",
       "    }\n",
       "</style>\n",
       "<table border=\"1\" class=\"dataframe\">\n",
       "  <thead>\n",
       "    <tr style=\"text-align: right;\">\n",
       "      <th></th>\n",
       "      <th>time</th>\n",
       "      <th>dur</th>\n",
       "      <th>src_comp</th>\n",
       "      <th>src_port</th>\n",
       "      <th>dest_comp</th>\n",
       "      <th>dest_port</th>\n",
       "      <th>protocol</th>\n",
       "      <th>pkt_cnt</th>\n",
       "      <th>byte_cnt</th>\n",
       "    </tr>\n",
       "  </thead>\n",
       "  <tbody>\n",
       "    <tr>\n",
       "      <th>0</th>\n",
       "      <td>80172</td>\n",
       "      <td>60</td>\n",
       "      <td>C3422</td>\n",
       "      <td>1433</td>\n",
       "      <td>C5756</td>\n",
       "      <td>N3966</td>\n",
       "      <td>6</td>\n",
       "      <td>3</td>\n",
       "      <td>138</td>\n",
       "    </tr>\n",
       "    <tr>\n",
       "      <th>1</th>\n",
       "      <td>80172</td>\n",
       "      <td>7</td>\n",
       "      <td>C1685</td>\n",
       "      <td>N78</td>\n",
       "      <td>C11779</td>\n",
       "      <td>N2267</td>\n",
       "      <td>6</td>\n",
       "      <td>8</td>\n",
       "      <td>3203</td>\n",
       "    </tr>\n",
       "    <tr>\n",
       "      <th>2</th>\n",
       "      <td>80172</td>\n",
       "      <td>7</td>\n",
       "      <td>C1685</td>\n",
       "      <td>N78</td>\n",
       "      <td>C11904</td>\n",
       "      <td>N25330</td>\n",
       "      <td>6</td>\n",
       "      <td>8</td>\n",
       "      <td>3203</td>\n",
       "    </tr>\n",
       "    <tr>\n",
       "      <th>3</th>\n",
       "      <td>80173</td>\n",
       "      <td>0</td>\n",
       "      <td>C1685</td>\n",
       "      <td>N78</td>\n",
       "      <td>C24057</td>\n",
       "      <td>N20573</td>\n",
       "      <td>6</td>\n",
       "      <td>5</td>\n",
       "      <td>425</td>\n",
       "    </tr>\n",
       "    <tr>\n",
       "      <th>4</th>\n",
       "      <td>80173</td>\n",
       "      <td>0</td>\n",
       "      <td>C24057</td>\n",
       "      <td>N20573</td>\n",
       "      <td>C1685</td>\n",
       "      <td>N78</td>\n",
       "      <td>6</td>\n",
       "      <td>7</td>\n",
       "      <td>1746</td>\n",
       "    </tr>\n",
       "  </tbody>\n",
       "</table>\n",
       "</div>"
      ],
      "text/plain": [
       "    time  dur src_comp src_port dest_comp dest_port  protocol  pkt_cnt  \\\n",
       "0  80172   60    C3422     1433     C5756     N3966         6        3   \n",
       "1  80172    7    C1685      N78    C11779     N2267         6        8   \n",
       "2  80172    7    C1685      N78    C11904    N25330         6        8   \n",
       "3  80173    0    C1685      N78    C24057    N20573         6        5   \n",
       "4  80173    0   C24057   N20573     C1685       N78         6        7   \n",
       "\n",
       "   byte_cnt  \n",
       "0       138  \n",
       "1      3203  \n",
       "2      3203  \n",
       "3       425  \n",
       "4      1746  "
      ]
     },
     "execution_count": 30,
     "metadata": {},
     "output_type": "execute_result"
    }
   ],
   "source": [
    "flows_data.head()"
   ]
  },
  {
   "cell_type": "code",
   "execution_count": null,
   "metadata": {},
   "outputs": [],
   "source": []
  },
  {
   "cell_type": "code",
   "execution_count": null,
   "metadata": {},
   "outputs": [],
   "source": []
  },
  {
   "cell_type": "code",
   "execution_count": null,
   "metadata": {},
   "outputs": [],
   "source": []
  },
  {
   "cell_type": "code",
   "execution_count": null,
   "metadata": {},
   "outputs": [],
   "source": [
    "flows_data.head()"
   ]
  },
  {
   "cell_type": "markdown",
   "metadata": {},
   "source": [
    "# Combine Data"
   ]
  },
  {
   "cell_type": "code",
   "execution_count": null,
   "metadata": {},
   "outputs": [],
   "source": []
  },
  {
   "cell_type": "code",
   "execution_count": null,
   "metadata": {},
   "outputs": [],
   "source": []
  },
  {
   "cell_type": "code",
   "execution_count": null,
   "metadata": {},
   "outputs": [],
   "source": []
  },
  {
   "cell_type": "code",
   "execution_count": null,
   "metadata": {},
   "outputs": [],
   "source": []
  },
  {
   "cell_type": "code",
   "execution_count": 14,
   "metadata": {},
   "outputs": [],
   "source": [
    "mlb = MultiLabelBinarizer()\n",
    "df = proc_data.join(pd.DataFrame(mlb.fit_transform(proc_data['proc']),\n",
    "                                columns = mlb.classes_,\n",
    "                                index=proc_data.index))"
   ]
  },
  {
   "cell_type": "code",
   "execution_count": 21,
   "metadata": {},
   "outputs": [
    {
     "data": {
      "text/plain": [
       "(17041800, 16)"
      ]
     },
     "execution_count": 21,
     "metadata": {},
     "output_type": "execute_result"
    }
   ],
   "source": [
    "df.shape"
   ]
  },
  {
   "cell_type": "code",
   "execution_count": 15,
   "metadata": {},
   "outputs": [],
   "source": [
    "df = df.drop_duplicates()"
   ]
  },
  {
   "cell_type": "code",
   "execution_count": 23,
   "metadata": {},
   "outputs": [
    {
     "data": {
      "text/plain": [
       "(17041800, 16)"
      ]
     },
     "execution_count": 23,
     "metadata": {},
     "output_type": "execute_result"
    }
   ],
   "source": [
    "df.shape"
   ]
  },
  {
   "cell_type": "code",
   "execution_count": 16,
   "metadata": {},
   "outputs": [],
   "source": [
    "test = redteam_data[['time','dest_comp']].merge(df, left_on=['time','dest_comp'],right_on=['time','src_comp'],suffixes=['_red','_proc'],how='right')"
   ]
  },
  {
   "cell_type": "code",
   "execution_count": 40,
   "metadata": {},
   "outputs": [
    {
     "data": {
      "text/plain": [
       "(17041800, 17)"
      ]
     },
     "execution_count": 40,
     "metadata": {},
     "output_type": "execute_result"
    }
   ],
   "source": [
    "test.shape"
   ]
  },
  {
   "cell_type": "code",
   "execution_count": 17,
   "metadata": {},
   "outputs": [],
   "source": [
    "new_test = test.drop_duplicates(['time','user@domain_red','user@domain_proc','src_comp_proc','proc'])"
   ]
  },
  {
   "cell_type": "code",
   "execution_count": 38,
   "metadata": {},
   "outputs": [
    {
     "data": {
      "text/html": [
       "<div>\n",
       "<style scoped>\n",
       "    .dataframe tbody tr th:only-of-type {\n",
       "        vertical-align: middle;\n",
       "    }\n",
       "\n",
       "    .dataframe tbody tr th {\n",
       "        vertical-align: top;\n",
       "    }\n",
       "\n",
       "    .dataframe thead th {\n",
       "        text-align: right;\n",
       "    }\n",
       "</style>\n",
       "<table border=\"1\" class=\"dataframe\">\n",
       "  <thead>\n",
       "    <tr style=\"text-align: right;\">\n",
       "      <th></th>\n",
       "      <th>time</th>\n",
       "      <th>user@domain_red</th>\n",
       "      <th>src_comp_red</th>\n",
       "      <th>dest_comp</th>\n",
       "      <th>user@domain_proc</th>\n",
       "      <th>src_comp_proc</th>\n",
       "      <th>proc</th>\n",
       "      <th>start</th>\n",
       "      <th>0</th>\n",
       "      <th>1</th>\n",
       "      <th>2</th>\n",
       "      <th>3</th>\n",
       "      <th>4</th>\n",
       "      <th>5</th>\n",
       "      <th>6</th>\n",
       "      <th>7</th>\n",
       "      <th>8</th>\n",
       "      <th>9</th>\n",
       "      <th>P</th>\n",
       "    </tr>\n",
       "  </thead>\n",
       "  <tbody>\n",
       "    <tr>\n",
       "      <th>0</th>\n",
       "      <td>153792</td>\n",
       "      <td>U636@DOM1</td>\n",
       "      <td>C17693</td>\n",
       "      <td>C294</td>\n",
       "      <td>C294$@DOM1</td>\n",
       "      <td>C294</td>\n",
       "      <td>P4</td>\n",
       "      <td>Start</td>\n",
       "      <td>0</td>\n",
       "      <td>0</td>\n",
       "      <td>0</td>\n",
       "      <td>0</td>\n",
       "      <td>1</td>\n",
       "      <td>0</td>\n",
       "      <td>0</td>\n",
       "      <td>0</td>\n",
       "      <td>0</td>\n",
       "      <td>0</td>\n",
       "      <td>1</td>\n",
       "    </tr>\n",
       "    <tr>\n",
       "      <th>1</th>\n",
       "      <td>153792</td>\n",
       "      <td>U636@DOM1</td>\n",
       "      <td>C17693</td>\n",
       "      <td>C294</td>\n",
       "      <td>C294$@DOM1</td>\n",
       "      <td>C294</td>\n",
       "      <td>P8311</td>\n",
       "      <td>Start</td>\n",
       "      <td>0</td>\n",
       "      <td>1</td>\n",
       "      <td>0</td>\n",
       "      <td>1</td>\n",
       "      <td>0</td>\n",
       "      <td>0</td>\n",
       "      <td>0</td>\n",
       "      <td>0</td>\n",
       "      <td>1</td>\n",
       "      <td>0</td>\n",
       "      <td>1</td>\n",
       "    </tr>\n",
       "    <tr>\n",
       "      <th>2</th>\n",
       "      <td>155591</td>\n",
       "      <td>U748@DOM1</td>\n",
       "      <td>C17693</td>\n",
       "      <td>C332</td>\n",
       "      <td>C332$@DOM1</td>\n",
       "      <td>C332</td>\n",
       "      <td>P4</td>\n",
       "      <td>Start</td>\n",
       "      <td>0</td>\n",
       "      <td>0</td>\n",
       "      <td>0</td>\n",
       "      <td>0</td>\n",
       "      <td>1</td>\n",
       "      <td>0</td>\n",
       "      <td>0</td>\n",
       "      <td>0</td>\n",
       "      <td>0</td>\n",
       "      <td>0</td>\n",
       "      <td>1</td>\n",
       "    </tr>\n",
       "    <tr>\n",
       "      <th>3</th>\n",
       "      <td>155591</td>\n",
       "      <td>U748@DOM1</td>\n",
       "      <td>C17693</td>\n",
       "      <td>C332</td>\n",
       "      <td>C332$@DOM1</td>\n",
       "      <td>C332</td>\n",
       "      <td>P8319</td>\n",
       "      <td>Start</td>\n",
       "      <td>0</td>\n",
       "      <td>1</td>\n",
       "      <td>0</td>\n",
       "      <td>1</td>\n",
       "      <td>0</td>\n",
       "      <td>0</td>\n",
       "      <td>0</td>\n",
       "      <td>0</td>\n",
       "      <td>1</td>\n",
       "      <td>1</td>\n",
       "      <td>1</td>\n",
       "    </tr>\n",
       "    <tr>\n",
       "      <th>4</th>\n",
       "      <td>218418</td>\n",
       "      <td>U748@DOM1</td>\n",
       "      <td>C17693</td>\n",
       "      <td>C504</td>\n",
       "      <td>C504$@DOM1</td>\n",
       "      <td>C504</td>\n",
       "      <td>P245</td>\n",
       "      <td>End</td>\n",
       "      <td>0</td>\n",
       "      <td>0</td>\n",
       "      <td>1</td>\n",
       "      <td>0</td>\n",
       "      <td>1</td>\n",
       "      <td>1</td>\n",
       "      <td>0</td>\n",
       "      <td>0</td>\n",
       "      <td>0</td>\n",
       "      <td>0</td>\n",
       "      <td>1</td>\n",
       "    </tr>\n",
       "  </tbody>\n",
       "</table>\n",
       "</div>"
      ],
      "text/plain": [
       "     time user@domain_red src_comp_red dest_comp user@domain_proc  \\\n",
       "0  153792       U636@DOM1       C17693      C294       C294$@DOM1   \n",
       "1  153792       U636@DOM1       C17693      C294       C294$@DOM1   \n",
       "2  155591       U748@DOM1       C17693      C332       C332$@DOM1   \n",
       "3  155591       U748@DOM1       C17693      C332       C332$@DOM1   \n",
       "4  218418       U748@DOM1       C17693      C504       C504$@DOM1   \n",
       "\n",
       "  src_comp_proc   proc  start  0  1  2  3  4  5  6  7  8  9  P  \n",
       "0          C294     P4  Start  0  0  0  0  1  0  0  0  0  0  1  \n",
       "1          C294  P8311  Start  0  1  0  1  0  0  0  0  1  0  1  \n",
       "2          C332     P4  Start  0  0  0  0  1  0  0  0  0  0  1  \n",
       "3          C332  P8319  Start  0  1  0  1  0  0  0  0  1  1  1  \n",
       "4          C504   P245    End  0  0  1  0  1  1  0  0  0  0  1  "
      ]
     },
     "execution_count": 38,
     "metadata": {},
     "output_type": "execute_result"
    }
   ],
   "source": [
    "new_test.head()"
   ]
  },
  {
   "cell_type": "code",
   "execution_count": 24,
   "metadata": {},
   "outputs": [
    {
     "name": "stdout",
     "output_type": "stream",
     "text": [
      "  (0, 1)\t1.0\n",
      "  (1, 1)\t1.0\n",
      "  (2, 1)\t1.0\n",
      "  (3, 1)\t1.0\n",
      "  (4, 0)\t1.0\n",
      "  (5, 1)\t1.0\n",
      "  (6, 1)\t1.0\n",
      "  (7, 1)\t1.0\n",
      "  (8, 1)\t1.0\n",
      "  (9, 1)\t1.0\n",
      "  (10, 1)\t1.0\n",
      "  (11, 1)\t1.0\n",
      "  (12, 1)\t1.0\n",
      "  (13, 1)\t1.0\n",
      "  (14, 1)\t1.0\n",
      "  (15, 1)\t1.0\n",
      "  (16, 1)\t1.0\n",
      "  (17, 1)\t1.0\n",
      "  (18, 0)\t1.0\n",
      "  (19, 1)\t1.0\n",
      "  (20, 1)\t1.0\n",
      "  (21, 1)\t1.0\n",
      "  (22, 1)\t1.0\n",
      "  (23, 1)\t1.0\n",
      "  (24, 1)\t1.0\n",
      "  :\t:\n",
      "  (17041775, 1)\t1.0\n",
      "  (17041776, 1)\t1.0\n",
      "  (17041777, 1)\t1.0\n",
      "  (17041778, 1)\t1.0\n",
      "  (17041779, 1)\t1.0\n",
      "  (17041780, 1)\t1.0\n",
      "  (17041781, 1)\t1.0\n",
      "  (17041782, 1)\t1.0\n",
      "  (17041783, 0)\t1.0\n",
      "  (17041784, 1)\t1.0\n",
      "  (17041785, 0)\t1.0\n",
      "  (17041786, 1)\t1.0\n",
      "  (17041787, 0)\t1.0\n",
      "  (17041788, 1)\t1.0\n",
      "  (17041789, 0)\t1.0\n",
      "  (17041790, 1)\t1.0\n",
      "  (17041791, 1)\t1.0\n",
      "  (17041792, 1)\t1.0\n",
      "  (17041793, 1)\t1.0\n",
      "  (17041794, 1)\t1.0\n",
      "  (17041795, 1)\t1.0\n",
      "  (17041796, 0)\t1.0\n",
      "  (17041797, 1)\t1.0\n",
      "  (17041798, 1)\t1.0\n",
      "  (17041799, 1)\t1.0\n"
     ]
    }
   ],
   "source": [
    "label_encode = LabelEncoder()\n",
    "trans = label_encode.fit_transform(test['start'])\n",
    "onehot = OneHotEncoder()\n",
    "trans = trans.reshape(len(trans),1)\n",
    "new_batch = onehot.fit_transform(trans)\n",
    "\n",
    "#test = "
   ]
  },
  {
   "cell_type": "code",
   "execution_count": 32,
   "metadata": {},
   "outputs": [],
   "source": [
    "new_test = test.copy()\n",
    "new_test['start'] = pd.get_dummies(new_test['start'],drop_first=True)"
   ]
  },
  {
   "cell_type": "code",
   "execution_count": 65,
   "metadata": {},
   "outputs": [],
   "source": [
    "y = [0 if pd.isnull(x) else 1 for x in new_test['dest_comp']]\n",
    "y = np.asarray(y)"
   ]
  },
  {
   "cell_type": "code",
   "execution_count": 69,
   "metadata": {},
   "outputs": [],
   "source": [
    "X = new_test.drop(['time','dest_comp','user@domain','src_comp','proc'],axis=1)\n",
    "X = np.asarray(X)"
   ]
  },
  {
   "cell_type": "markdown",
   "metadata": {},
   "source": [
    "# Create Classification model"
   ]
  },
  {
   "cell_type": "code",
   "execution_count": 70,
   "metadata": {},
   "outputs": [
    {
     "data": {
      "image/png": "[encoded data removed]",
      "text/plain": [
       "<Figure size 432x288 with 1 Axes>"
      ]
     },
     "metadata": {},
     "output_type": "display_data"
    }
   ],
   "source": [
    "cv = StratifiedKFold(n_splits=6)\n",
    "classifier = SVC(kernel='linear', probability=True)\n",
    "\n",
    "# X_train, X_test, y_train, y_test = train_test_split(X, y, test_size=0.33, random_state=42)\n",
    "\n",
    "\n",
    "tprs = []\n",
    "aucs = []\n",
    "mean_fpr = np.linspace(0, 1, 100)\n",
    "\n",
    "i = 0\n",
    "for train, test in cv.split(X, y):\n",
    "    probas_ = classifier.fit(X[train], y[train]).predict_proba(X[test])\n",
    "    # Compute ROC curve and area the curve\n",
    "    fpr, tpr, thresholds = roc_curve(y[test], probas_[:, 1])\n",
    "    tprs.append(interp(mean_fpr, fpr, tpr))\n",
    "    tprs[-1][0] = 0.0\n",
    "    roc_auc = auc(fpr, tpr)\n",
    "    aucs.append(roc_auc)\n",
    "    plt.plot(fpr, tpr, lw=1, alpha=0.3,\n",
    "             label='ROC fold %d (AUC = %0.2f)' % (i, roc_auc))\n",
    "\n",
    "    i += 1\n",
    "plt.plot([0, 1], [0, 1], linestyle='--', lw=2, color='r',\n",
    "         label='Chance', alpha=.8)\n",
    "\n",
    "mean_tpr = np.mean(tprs, axis=0)\n",
    "mean_tpr[-1] = 1.0\n",
    "mean_auc = auc(mean_fpr, mean_tpr)\n",
    "std_auc = np.std(aucs)\n",
    "plt.plot(mean_fpr, mean_tpr, color='b',\n",
    "         label=r'Mean ROC (AUC = %0.2f $\\pm$ %0.2f)' % (mean_auc, std_auc),\n",
    "         lw=2, alpha=.8)\n",
    "\n",
    "std_tpr = np.std(tprs, axis=0)\n",
    "tprs_upper = np.minimum(mean_tpr + std_tpr, 1)\n",
    "tprs_lower = np.maximum(mean_tpr - std_tpr, 0)\n",
    "plt.fill_between(mean_fpr, tprs_lower, tprs_upper, color='grey', alpha=.2,\n",
    "                 label=r'$\\pm$ 1 std. dev.')\n",
    "\n",
    "plt.xlim([-0.05, 1.05])\n",
    "plt.ylim([-0.05, 1.05])\n",
    "plt.xlabel('False Positive Rate')\n",
    "plt.ylabel('True Positive Rate')\n",
    "plt.title('Receiver operating characteristic example')\n",
    "plt.legend(loc=\"lower right\")\n",
    "plt.show()"
   ]
  },
  {
   "cell_type": "code",
   "execution_count": 53,
   "metadata": {},
   "outputs": [],
   "source": [
    "fpr,tpr, thresholds = roc_curve(y_test,classifier.predict_proba(X_test)[:,1])"
   ]
  },
  {
   "cell_type": "code",
   "execution_count": 54,
   "metadata": {},
   "outputs": [
    {
     "data": {
      "text/plain": [
       "[<matplotlib.lines.Line2D at 0x7f7a26f61d30>]"
      ]
     },
     "execution_count": 54,
     "metadata": {},
     "output_type": "execute_result"
    },
    {
     "data": {
      "image/png": "[encoded data removed]",
      "text/plain": [
       "<Figure size 432x288 with 1 Axes>"
      ]
     },
     "metadata": {},
     "output_type": "display_data"
    }
   ],
   "source": [
    "plt.plot(fpr,tpr)"
   ]
  },
  {
   "cell_type": "code",
   "execution_count": null,
   "metadata": {},
   "outputs": [],
   "source": []
  },
  {
   "cell_type": "code",
   "execution_count": null,
   "metadata": {},
   "outputs": [],
   "source": []
  },
  {
   "cell_type": "code",
   "execution_count": null,
   "metadata": {},
   "outputs": [],
   "source": []
  },
  {
   "cell_type": "code",
   "execution_count": null,
   "metadata": {},
   "outputs": [],
   "source": []
  },
  {
   "cell_type": "markdown",
   "metadata": {},
   "source": [
    "# Don't run any of this code"
   ]
  },
  {
   "cell_type": "code",
   "execution_count": null,
   "metadata": {},
   "outputs": [],
   "source": [
    "import pyspark as spark\n",
    "from pyspark.conf import SparkConf\n",
    "from pyspark.sql.types import (StructField, StringType,FloatType, \n",
    "                               DoubleType, IntegerType, StructType,\n",
    "                              DateType)\n",
    "from pyspark.sql import functions as F\n",
    "from pyspark.sql import DataFrame as spDataFrame\n",
    "from pyspark.ml.feature import Binarizer, OneHotEncoder, StringIndexer"
   ]
  },
  {
   "cell_type": "code",
   "execution_count": 10,
   "metadata": {},
   "outputs": [],
   "source": [
    "from pyspark.sql import SparkSession\n",
    "spark = SparkSession \\\n",
    "        .builder \\\n",
    "        .appName('Intrusion Detection') \\\n",
    "        .config('spark.some.config.option','some-value') \\\n",
    "        .getOrCreate()"
   ]
  },
  {
   "cell_type": "markdown",
   "metadata": {},
   "source": [
    "## Import DATA"
   ]
  },
  {
   "cell_type": "code",
   "execution_count": 11,
   "metadata": {},
   "outputs": [],
   "source": [
    "proc_data_schema = [StructField('time',IntegerType(),True),\n",
    "                   StructField('user@domain',StringType(),True),\n",
    "                   StructField('src_comp',StringType(),True),\n",
    "                   StructField('proc_name',StringType(),True),\n",
    "                   StructField('strt',StringType())]\n",
    "proc_final_struc = StructType(fields = proc_data_schema)\n",
    "proc = spark.read.csv('/users7/csegrad/smillett/capstone/Dataset/reduced_proc.csv',schema=proc_final_struc)\n",
    "\n",
    "auth_data_schema = [StructField('time',IntegerType(),True),\n",
    "                   StructField('src_user@domain',StringType(),True),\n",
    "                   StructField('dest_user@domain',StringType(),True),\n",
    "                   StructField('src_comp',StringType(),True),\n",
    "                   StructField('dest_comp',StringType(),True),\n",
    "                   StructField('auth_type',StringType(),True),\n",
    "                   StructField('logon_type',StringType(),True),\n",
    "                   StructField('auth_orient',StringType(),True),\n",
    "                   StructField('success',StringType(),True)]\n",
    "auth_final_struc = StructType(fields = auth_data_schema)\n",
    "auth = spark.read.csv('/users7/csegrad/smillett/capstone/Dataset/reduced_auth.csv',schema=auth_final_struc )\n",
    "\n",
    "flows_data_schema = [StructField('time',IntegerType(),False),\n",
    "                   StructField('dur',IntegerType(),False),\n",
    "                   StructField('src_comp',StringType(),False),\n",
    "                   StructField('src_port',StringType(),False),\n",
    "                   StructField('dest_comp',StringType(),False),\n",
    "                   StructField('dest_port',StringType(),False),\n",
    "                   StructField('protocol',StringType(),False),\n",
    "                   StructField('pkt_cnt',IntegerType(),False),\n",
    "                   StructField('byte_cnt',IntegerType(),False)]\n",
    "flows_final_struc = StructType(fields = flows_data_schema)\n",
    "flows = spark.read.csv('/users7/csegrad/smillett/capstone/Dataset/reduced_flows.csv',schema=flows_final_struc )\n",
    "\n",
    "dns_data_schema = [StructField('time',IntegerType(),True),\n",
    "                   StructField('src_comp',StringType(),True),\n",
    "                   StructField('cmp_resolved',StringType(),True)]\n",
    "dns_final_struc = StructType(fields = dns_data_schema)\n",
    "dns = spark.read.csv('/users7/csegrad/smillett/capstone/Dataset/reduced_dns.csv',schema=dns_final_struc)\n",
    "\n",
    "redteam_data_schema = [StructField('time',IntegerType(),True),\n",
    "                   StructField('user@domain',StringType(),True),\n",
    "                   StructField('src_comp',StringType(),True),\n",
    "                   StructField('dest_comp',StringType(),True)]\n",
    "redteam_final_struc = StructType(fields = redteam_data_schema)\n",
    "redteam = spark.read.csv('/users7/csegrad/smillett/capstone/Dataset/redteam.txt',schema=redteam_final_struc)"
   ]
  },
  {
   "cell_type": "markdown",
   "metadata": {},
   "source": [
    "## Transform Data"
   ]
  },
  {
   "cell_type": "code",
   "execution_count": 12,
   "metadata": {},
   "outputs": [],
   "source": [
    "proc_split = F.split(proc['user@domain'],'@')\n",
    "proc = proc.withColumn('src_user',proc_split.getItem(0))\n",
    "proc = proc.withColumn('src_dmn',proc_split.getItem(1))\n",
    "proc = proc.drop('user@domain')\n",
    "\n",
    "proc = proc.withColumn('type',F.lit('Process'))"
   ]
  },
  {
   "cell_type": "code",
   "execution_count": 13,
   "metadata": {},
   "outputs": [],
   "source": [
    "auth_src_split = F.split(auth['src_user@domain'],'@')\n",
    "auth = auth.withColumn('src_user',auth_src_split.getItem(0))\n",
    "auth = auth.withColumn('src_dmn',auth_src_split.getItem(1))\n",
    "\n",
    "auth_dest_split = F.split(auth['dest_user@domain'],'@')\n",
    "auth = auth.withColumn('dest_user',auth_dest_split.getItem(0))\n",
    "auth = auth.withColumn('dest_dmn',auth_dest_split.getItem(1))\n",
    "\n",
    "auth = auth.drop('src_user@domain','dest_user@domain')\n",
    "\n",
    "auth = auth.withColumn('type',F.lit('Auth'))"
   ]
  },
  {
   "cell_type": "code",
   "execution_count": 14,
   "metadata": {},
   "outputs": [],
   "source": [
    "redteam_split = F.split(redteam['user@domain'],'@')\n",
    "redteam = redteam.withColumn('src_user',redteam_split.getItem(0))\n",
    "redteam = redteam.withColumn('src_dmn',redteam_split.getItem(1))\n",
    "\n",
    "redteam = redteam.drop('user@domain')\n",
    "\n",
    "redteam = redteam.withColumn('type',F.lit('RedTeam'))"
   ]
  },
  {
   "cell_type": "code",
   "execution_count": 15,
   "metadata": {},
   "outputs": [],
   "source": [
    "\n",
    "flows = flows.withColumn('avg_pkt_size', (flows['byte_cnt']/flows['pkt_cnt']).cast(DoubleType()))\n",
    "flows = flows.na.drop(how='all')\n",
    "\n",
    "flows = flows.withColumn('type',F.lit('DataFlow'))"
   ]
  },
  {
   "cell_type": "code",
   "execution_count": 30,
   "metadata": {},
   "outputs": [],
   "source": [
    "# colum = proc.columns\n",
    "# colum.sort()\n",
    "\n",
    "# proc = proc.select(colum)\n",
    "# redteam = redteam.select(colum)\n",
    "# auth = auth.select(colum)\n",
    "# flows = flows.select(colum)"
   ]
  },
  {
   "cell_type": "code",
   "execution_count": 31,
   "metadata": {},
   "outputs": [],
   "source": [
    "# master = unionAll(redteam,auth,proc,flows)"
   ]
  },
  {
   "cell_type": "code",
   "execution_count": 32,
   "metadata": {},
   "outputs": [],
   "source": [
    "# print(master.count())"
   ]
  },
  {
   "cell_type": "code",
   "execution_count": 33,
   "metadata": {},
   "outputs": [],
   "source": [
    "# master.select('strt').sort('strt').show()"
   ]
  },
  {
   "cell_type": "code",
   "execution_count": null,
   "metadata": {},
   "outputs": [],
   "source": [
    "redteam1 = redteam.rdd.map(lambda x: (x['time'], time.strftime('%m/%d %H:%M:%S', time.gmtime(x['time']) ))).toDF(['time','timestam'])"
   ]
  },
  {
   "cell_type": "markdown",
   "metadata": {},
   "source": [
    "## Data Show"
   ]
  },
  {
   "cell_type": "code",
   "execution_count": 16,
   "metadata": {
    "scrolled": false
   },
   "outputs": [
    {
     "name": "stdout",
     "output_type": "stream",
     "text": [
      "+-----+--------+---------+---------+----------+-----------+-------+--------+-------+---------+--------+----+\n",
      "| time|src_comp|dest_comp|auth_type|logon_type|auth_orient|success|src_user|src_dmn|dest_user|dest_dmn|type|\n",
      "+-----+--------+---------+---------+----------+-----------+-------+--------+-------+---------+--------+----+\n",
      "| null|    null|     null|     null|      null|       null|   null|    null|   null|     null|    null|Auth|\n",
      "|56816|   C2341|     C467| Kerberos|   Network|      LogOn|Success|  C2341$|   DOM1|   C2341$|    DOM1|Auth|\n",
      "|56816|   C2341|     C528| Kerberos|   Network|      LogOn|Success|  C2341$|   DOM1|   C2341$|    DOM1|Auth|\n",
      "|56816|   C2341|     C529|        ?|         ?|        TGS|Success|  C2341$|   DOM1|   C2341$|    DOM1|Auth|\n",
      "|56816|   C2341|     C529| Kerberos|   Network|      LogOn|Success|  C2341$|   DOM1|   C2341$|    DOM1|Auth|\n",
      "|56816|   C2341|     C612| Kerberos|   Network|      LogOn|Success|  C2341$|   DOM1|   C2341$|    DOM1|Auth|\n",
      "|56816|    C457|     C457|        ?|   Network|     LogOff|Success|  C2341$|   DOM1|   C2341$|    DOM1|Auth|\n",
      "|56816|    C529|     C529|        ?|   Network|     LogOff|Success|  C2341$|   DOM1|   C2341$|    DOM1|Auth|\n",
      "|56816|   C2368|    C1881| Kerberos|   Network|      LogOn|Success|  C2368$|   DOM1|   C2368$|    DOM1|Auth|\n",
      "|56816|    C625|     C625|        ?|   Network|     LogOff|Success|  C2415$|   DOM1|   C2415$|    DOM1|Auth|\n",
      "|56816|    C625|     C625|        ?|   Network|     LogOff|Success|  C2489$|   DOM1|   C2489$|    DOM1|Auth|\n",
      "|56816|    C612|     C612|        ?|   Network|     LogOff|Success|  C2549$|   DOM1|   C2549$|    DOM1|Auth|\n",
      "|56816|    C529|     C529|        ?|   Network|     LogOff|Success|  C2600$|   DOM1|   C2600$|    DOM1|Auth|\n",
      "|56816|   C2616|     C529| Kerberos|   Network|      LogOn|Success|  C2616$|   DOM1|   C2616$|    DOM1|Auth|\n",
      "|56816|    C612|     C612|        ?|   Network|     LogOff|Success|  C2629$|   DOM1|   C2629$|    DOM1|Auth|\n",
      "|56816|   C2707|    C1881| Kerberos|   Network|      LogOn|Success|  C2707$|   DOM1|   C2707$|    DOM1|Auth|\n",
      "|56816|    C467|     C467|        ?|   Network|     LogOff|Success|  C2740$|   DOM1|   C2740$|    DOM1|Auth|\n",
      "|56816|   C1881|    C1881|        ?|   Network|     LogOff|Success|  C2892$|   DOM1|   C2892$|    DOM1|Auth|\n",
      "|56816|   C1065|    C1065|        ?|   Network|     LogOff|Success|  C2952$|   DOM1|   C2952$|    DOM1|Auth|\n",
      "|56816|   C2964|      TGT|        ?|         ?|        TGS|Success|  C2964$|   DOM1|   C2964$|    DOM1|Auth|\n",
      "+-----+--------+---------+---------+----------+-----------+-------+--------+-------+---------+--------+----+\n",
      "only showing top 20 rows\n",
      "\n"
     ]
    }
   ],
   "source": [
    "auth.show()"
   ]
  },
  {
   "cell_type": "code",
   "execution_count": 35,
   "metadata": {},
   "outputs": [
    {
     "name": "stdout",
     "output_type": "stream",
     "text": [
      "+------+--------+---------+--------+-------+-------+\n",
      "|  time|src_comp|dest_comp|src_user|src_dmn|   type|\n",
      "+------+--------+---------+--------+-------+-------+\n",
      "|150885|  C17693|    C1003|    U620|   DOM1|RedTeam|\n",
      "|151036|  C17693|     C305|    U748|   DOM1|RedTeam|\n",
      "|151648|  C17693|     C728|    U748|   DOM1|RedTeam|\n",
      "|151993|  C17693|    C1173|   U6115|   DOM1|RedTeam|\n",
      "|153792|  C17693|     C294|    U636|   DOM1|RedTeam|\n",
      "|155219|  C17693|    C5693|    U748|   DOM1|RedTeam|\n",
      "|155399|  C17693|     C152|    U748|   DOM1|RedTeam|\n",
      "|155460|  C17693|    C2341|    U748|   DOM1|RedTeam|\n",
      "|155591|  C17693|     C332|    U748|   DOM1|RedTeam|\n",
      "|156658|  C17693|    C4280|    U748|   DOM1|RedTeam|\n",
      "|210086|  C18025|    C1493|    U748|   DOM1|RedTeam|\n",
      "|210294|  C18025|    C1493|    U748|   DOM1|RedTeam|\n",
      "|210312|  C18025|    C1493|    U748|   DOM1|RedTeam|\n",
      "|218418|  C17693|     C504|    U748|   DOM1|RedTeam|\n",
      "|227052|  C17693|     C148|    U748|   DOM1|RedTeam|\n",
      "|227408|  C17693|     C148|    U748|   DOM1|RedTeam|\n",
      "|227520|  C17693|     C148|    U748|   DOM1|RedTeam|\n",
      "|227780|  C17693|     C148|    U748|   DOM1|RedTeam|\n",
      "|228024|  C17693|     C148|    U748|   DOM1|RedTeam|\n",
      "|228150|  C17693|     C148|    U748|   DOM1|RedTeam|\n",
      "+------+--------+---------+--------+-------+-------+\n",
      "only showing top 20 rows\n",
      "\n"
     ]
    }
   ],
   "source": [
    "redteam.show()"
   ]
  },
  {
   "cell_type": "code",
   "execution_count": 36,
   "metadata": {
    "scrolled": false
   },
   "outputs": [
    {
     "name": "stdout",
     "output_type": "stream",
     "text": [
      "+-------+--------+------------+\n",
      "|   time|src_comp|cmp_resolved|\n",
      "+-------+--------+------------+\n",
      "|2289058|  C17693|       C5808|\n",
      "|2289207|  C17693|       C5808|\n",
      "|2289208|  C17693|       C5808|\n",
      "|2289209|  C17693|       C5808|\n",
      "|2289210|  C17693|       C5808|\n",
      "|2289212|  C17693|       C5808|\n",
      "|2289213|  C17693|       C5808|\n",
      "|2289216|  C17693|       C5808|\n",
      "|2289217|  C17693|       C5808|\n",
      "|2289218|  C17693|       C5808|\n",
      "|2289219|  C17693|       C5808|\n",
      "|2289239|  C17693|       C5808|\n",
      "|2289240|  C17693|       C5808|\n",
      "|2289241|  C17693|       C5808|\n",
      "|2289243|  C17693|       C5808|\n",
      "|2289264|  C17693|       C5808|\n",
      "|2289266|  C17693|       C5808|\n",
      "|2289269|  C17693|       C5808|\n",
      "|2296865|  C17693|      C17679|\n",
      "|2296867|  C17693|      C17679|\n",
      "+-------+--------+------------+\n",
      "only showing top 20 rows\n",
      "\n"
     ]
    }
   ],
   "source": [
    "dns.filter((dns['src_comp']=='C17693')).show()"
   ]
  },
  {
   "cell_type": "code",
   "execution_count": 14,
   "metadata": {
    "scrolled": false
   },
   "outputs": [
    {
     "name": "stdout",
     "output_type": "stream",
     "text": [
      "+----+--------+--------+-------+---------+--------+--------+-------+-------+------------+\n",
      "|time|duration|src_comp|src_prt|dest_comp|dest_prt|protocol|pkt_cnt|byt_cnt|avg_pkt_size|\n",
      "+----+--------+--------+-------+---------+--------+--------+-------+-------+------------+\n",
      "|   1|       0|   C1065|    389|    C3799|  N10451|       6|     10|   5323|      532.30|\n",
      "|   1|       0|   C1423|  N1136|    C1707|      N1|       6|      5|    847|      169.40|\n",
      "|   1|       0|   C1423|  N1142|    C1707|      N1|       6|      5|    847|      169.40|\n",
      "|   1|       0|  C14909|  N8191|    C5720|    2049|       6|      1|     52|       52.00|\n",
      "|   1|       0|  C14909|  N8192|    C5720|    2049|       6|      1|     52|       52.00|\n",
      "|   1|       0|  C14909|  N8193|    C5720|    2049|       6|      1|     52|       52.00|\n",
      "|   1|       0|   C1707|     N1|    C1423|   N1136|       6|      4|    414|      103.50|\n",
      "|   1|       0|   C1707|     N1|    C1423|   N1142|       6|      4|    413|      103.25|\n",
      "|   1|       0|   C1707|     N1|     C925|  N10487|       6|      4|    414|      103.50|\n",
      "|   1|       0|   C1707|     N1|     C925|  N10491|       6|      4|    413|      103.25|\n",
      "|   1|       0|   C3587|    N44|     C528|     N17|       1|      2|    120|       60.00|\n",
      "|   1|       0|   C3799| N10451|    C1065|     389|       6|     12|   3007|      250.58|\n",
      "|   1|       0|   C4879|  N2369|     C585|     139|       6|      1|     46|       46.00|\n",
      "|   1|       0|    C528|    N17|    C3587|     N17|       1|      2|    120|       60.00|\n",
      "|   1|       0|   C5720|   2049|   C14909|   N8191|       6|      1|     52|       52.00|\n",
      "|   1|       0|   C5720|   2049|   C14909|   N8192|       6|      1|     52|       52.00|\n",
      "|   1|       0|   C5720|   2049|   C14909|   N8193|       6|      1|     52|       52.00|\n",
      "|   1|       0|   C8177|  N7052|    C7632|     N77|       6|      1|     48|       48.00|\n",
      "|   1|       0|    C925| N10487|    C1707|      N1|       6|      4|    810|      202.50|\n",
      "|   1|       0|    C925| N10491|    C1707|      N1|       6|      4|    810|      202.50|\n",
      "+----+--------+--------+-------+---------+--------+--------+-------+-------+------------+\n",
      "only showing top 20 rows\n",
      "\n"
     ]
    }
   ],
   "source": [
    "flows.show()"
   ]
  },
  {
   "cell_type": "code",
   "execution_count": 21,
   "metadata": {},
   "outputs": [],
   "source": [
    "\n",
    "#master.groupBy('time').count().show()\n",
    "\n",
    "failed_logon = auth.filter(auth.success=='Fail').groupby(auth.time).count().na.fill(0).sort('time')\n",
    "failed_logon = failed_logon.select(F.col('time'),F.col('count').alias('fail_count'))"
   ]
  },
  {
   "cell_type": "code",
   "execution_count": 46,
   "metadata": {},
   "outputs": [
    {
     "data": {
      "text/plain": [
       "time   success\n",
       "56816  Success     82\n",
       "56817  Fail         1\n",
       "       Success     75\n",
       "56818  Fail         1\n",
       "       Success    116\n",
       "dtype: int64"
      ]
     },
     "execution_count": 46,
     "metadata": {},
     "output_type": "execute_result"
    }
   ],
   "source": [
    "failed_logon = auth_data[['time','success','auth_orient']]\n",
    "failed_logon = failed_logon.loc[failed_logon['auth_orient']=='LogOn'].groupby(['time','success']).size()\n",
    "failed_logon.head()\n",
    "# .filter.groupby('time')\n",
    "# failed_logon = failed_logon.pivot('success')\n",
    "# failed_logon = failed_logon.agg(F.count('*'))\n",
    "# #agg(F.count('*')).sort('time')"
   ]
  },
  {
   "cell_type": "code",
   "execution_count": 40,
   "metadata": {},
   "outputs": [
    {
     "ename": "NameError",
     "evalue": "name 'like' is not defined",
     "output_type": "error",
     "traceback": [
      "\u001b[0;31m---------------------------------------------------------------------------\u001b[0m",
      "\u001b[0;31mNameError\u001b[0m                                 Traceback (most recent call last)",
      "\u001b[0;32m<ipython-input-40-b81b676d0d34>\u001b[0m in \u001b[0;36m<module>\u001b[0;34m()\u001b[0m\n\u001b[0;32m----> 1\u001b[0;31m \u001b[0mauth_data\u001b[0m\u001b[0;34m[\u001b[0m\u001b[0;34m[\u001b[0m\u001b[0;34m'time'\u001b[0m\u001b[0;34m,\u001b[0m\u001b[0;34m'success'\u001b[0m\u001b[0;34m]\u001b[0m\u001b[0;34m]\u001b[0m\u001b[0;34m.\u001b[0m\u001b[0mfilter\u001b[0m\u001b[0;34m(\u001b[0m\u001b[0mlike\u001b[0m\u001b[0;34m==\u001b[0m\u001b[0;34m'Success'\u001b[0m\u001b[0;34m,\u001b[0m\u001b[0maxis\u001b[0m\u001b[0;34m=\u001b[0m\u001b[0;36m0\u001b[0m\u001b[0;34m)\u001b[0m\u001b[0;34m.\u001b[0m\u001b[0mhead\u001b[0m\u001b[0;34m(\u001b[0m\u001b[0;34m)\u001b[0m\u001b[0;34m\u001b[0m\u001b[0m\n\u001b[0m",
      "\u001b[0;31mNameError\u001b[0m: name 'like' is not defined"
     ]
    }
   ],
   "source": []
  },
  {
   "cell_type": "code",
   "execution_count": 19,
   "metadata": {},
   "outputs": [
    {
     "ename": "Py4JJavaError",
     "evalue": "An error occurred while calling o237.showString.\n: org.apache.spark.SparkException: Job aborted due to stage failure: Task 52 in stage 7.0 failed 1 times, most recent failure: Lost task 52.0 in stage 7.0 (TID 423, localhost, executor driver): java.io.FileNotFoundException: /tmp/blockmgr-4f110870-4434-4254-8501-8a0337545080/0b/temp_shuffle_b70dc507-e423-4b26-8a7a-6ba16866e934 (Too many open files)\n\tat java.io.FileOutputStream.open(Native Method)\n\tat java.io.FileOutputStream.<init>(FileOutputStream.java:213)\n\tat org.apache.spark.storage.DiskBlockObjectWriter.initialize(DiskBlockObjectWriter.scala:103)\n\tat org.apache.spark.storage.DiskBlockObjectWriter.open(DiskBlockObjectWriter.scala:116)\n\tat org.apache.spark.storage.DiskBlockObjectWriter.write(DiskBlockObjectWriter.scala:237)\n\tat org.apache.spark.shuffle.sort.BypassMergeSortShuffleWriter.write(BypassMergeSortShuffleWriter.java:151)\n\tat org.apache.spark.scheduler.ShuffleMapTask.runTask(ShuffleMapTask.scala:96)\n\tat org.apache.spark.scheduler.ShuffleMapTask.runTask(ShuffleMapTask.scala:53)\n\tat org.apache.spark.scheduler.Task.run(Task.scala:109)\n\tat org.apache.spark.executor.Executor$TaskRunner.run(Executor.scala:345)\n\tat java.util.concurrent.ThreadPoolExecutor.runWorker(ThreadPoolExecutor.java:1142)\n\tat java.util.concurrent.ThreadPoolExecutor$Worker.run(ThreadPoolExecutor.java:617)\n\tat java.lang.Thread.run(Thread.java:745)\n\nDriver stacktrace:\n\tat org.apache.spark.scheduler.DAGScheduler.org$apache$spark$scheduler$DAGScheduler$$failJobAndIndependentStages(DAGScheduler.scala:1651)\n\tat org.apache.spark.scheduler.DAGScheduler$$anonfun$abortStage$1.apply(DAGScheduler.scala:1639)\n\tat org.apache.spark.scheduler.DAGScheduler$$anonfun$abortStage$1.apply(DAGScheduler.scala:1638)\n\tat scala.collection.mutable.ResizableArray$class.foreach(ResizableArray.scala:59)\n\tat scala.collection.mutable.ArrayBuffer.foreach(ArrayBuffer.scala:48)\n\tat org.apache.spark.scheduler.DAGScheduler.abortStage(DAGScheduler.scala:1638)\n\tat org.apache.spark.scheduler.DAGScheduler$$anonfun$handleTaskSetFailed$1.apply(DAGScheduler.scala:831)\n\tat org.apache.spark.scheduler.DAGScheduler$$anonfun$handleTaskSetFailed$1.apply(DAGScheduler.scala:831)\n\tat scala.Option.foreach(Option.scala:257)\n\tat org.apache.spark.scheduler.DAGScheduler.handleTaskSetFailed(DAGScheduler.scala:831)\n\tat org.apache.spark.scheduler.DAGSchedulerEventProcessLoop.doOnReceive(DAGScheduler.scala:1872)\n\tat org.apache.spark.scheduler.DAGSchedulerEventProcessLoop.onReceive(DAGScheduler.scala:1821)\n\tat org.apache.spark.scheduler.DAGSchedulerEventProcessLoop.onReceive(DAGScheduler.scala:1810)\n\tat org.apache.spark.util.EventLoop$$anon$1.run(EventLoop.scala:48)\n\tat org.apache.spark.scheduler.DAGScheduler.runJob(DAGScheduler.scala:642)\n\tat org.apache.spark.SparkContext.runJob(SparkContext.scala:2034)\n\tat org.apache.spark.SparkContext.runJob(SparkContext.scala:2055)\n\tat org.apache.spark.SparkContext.runJob(SparkContext.scala:2074)\n\tat org.apache.spark.sql.execution.SparkPlan.executeTake(SparkPlan.scala:363)\n\tat org.apache.spark.sql.execution.CollectLimitExec.executeCollect(limit.scala:38)\n\tat org.apache.spark.sql.Dataset.org$apache$spark$sql$Dataset$$collectFromPlan(Dataset.scala:3278)\n\tat org.apache.spark.sql.Dataset$$anonfun$head$1.apply(Dataset.scala:2489)\n\tat org.apache.spark.sql.Dataset$$anonfun$head$1.apply(Dataset.scala:2489)\n\tat org.apache.spark.sql.Dataset$$anonfun$52.apply(Dataset.scala:3259)\n\tat org.apache.spark.sql.execution.SQLExecution$.withNewExecutionId(SQLExecution.scala:77)\n\tat org.apache.spark.sql.Dataset.withAction(Dataset.scala:3258)\n\tat org.apache.spark.sql.Dataset.head(Dataset.scala:2489)\n\tat org.apache.spark.sql.Dataset.take(Dataset.scala:2703)\n\tat org.apache.spark.sql.Dataset.showString(Dataset.scala:254)\n\tat sun.reflect.NativeMethodAccessorImpl.invoke0(Native Method)\n\tat sun.reflect.NativeMethodAccessorImpl.invoke(NativeMethodAccessorImpl.java:62)\n\tat sun.reflect.DelegatingMethodAccessorImpl.invoke(DelegatingMethodAccessorImpl.java:43)\n\tat java.lang.reflect.Method.invoke(Method.java:483)\n\tat py4j.reflection.MethodInvoker.invoke(MethodInvoker.java:244)\n\tat py4j.reflection.ReflectionEngine.invoke(ReflectionEngine.java:357)\n\tat py4j.Gateway.invoke(Gateway.java:282)\n\tat py4j.commands.AbstractCommand.invokeMethod(AbstractCommand.java:132)\n\tat py4j.commands.CallCommand.execute(CallCommand.java:79)\n\tat py4j.GatewayConnection.run(GatewayConnection.java:238)\n\tat java.lang.Thread.run(Thread.java:745)\nCaused by: java.io.FileNotFoundException: /tmp/blockmgr-4f110870-4434-4254-8501-8a0337545080/0b/temp_shuffle_b70dc507-e423-4b26-8a7a-6ba16866e934 (Too many open files)\n\tat java.io.FileOutputStream.open(Native Method)\n\tat java.io.FileOutputStream.<init>(FileOutputStream.java:213)\n\tat org.apache.spark.storage.DiskBlockObjectWriter.initialize(DiskBlockObjectWriter.scala:103)\n\tat org.apache.spark.storage.DiskBlockObjectWriter.open(DiskBlockObjectWriter.scala:116)\n\tat org.apache.spark.storage.DiskBlockObjectWriter.write(DiskBlockObjectWriter.scala:237)\n\tat org.apache.spark.shuffle.sort.BypassMergeSortShuffleWriter.write(BypassMergeSortShuffleWriter.java:151)\n\tat org.apache.spark.scheduler.ShuffleMapTask.runTask(ShuffleMapTask.scala:96)\n\tat org.apache.spark.scheduler.ShuffleMapTask.runTask(ShuffleMapTask.scala:53)\n\tat org.apache.spark.scheduler.Task.run(Task.scala:109)\n\tat org.apache.spark.executor.Executor$TaskRunner.run(Executor.scala:345)\n\tat java.util.concurrent.ThreadPoolExecutor.runWorker(ThreadPoolExecutor.java:1142)\n\tat java.util.concurrent.ThreadPoolExecutor$Worker.run(ThreadPoolExecutor.java:617)\n\t... 1 more\n",
     "output_type": "error",
     "traceback": [
      "\u001b[0;31m---------------------------------------------------------------------------\u001b[0m",
      "\u001b[0;31mPy4JJavaError\u001b[0m                             Traceback (most recent call last)",
      "\u001b[0;32m<ipython-input-19-7617c3f8f527>\u001b[0m in \u001b[0;36m<module>\u001b[0;34m()\u001b[0m\n\u001b[0;32m----> 1\u001b[0;31m \u001b[0mfailed_logon\u001b[0m\u001b[0;34m.\u001b[0m\u001b[0mshow\u001b[0m\u001b[0;34m(\u001b[0m\u001b[0;34m)\u001b[0m\u001b[0;34m\u001b[0m\u001b[0m\n\u001b[0m",
      "\u001b[0;32m~/.local/lib/python3.6/site-packages/pyspark/sql/dataframe.py\u001b[0m in \u001b[0;36mshow\u001b[0;34m(self, n, truncate, vertical)\u001b[0m\n\u001b[1;32m    348\u001b[0m         \"\"\"\n\u001b[1;32m    349\u001b[0m         \u001b[0;32mif\u001b[0m \u001b[0misinstance\u001b[0m\u001b[0;34m(\u001b[0m\u001b[0mtruncate\u001b[0m\u001b[0;34m,\u001b[0m \u001b[0mbool\u001b[0m\u001b[0;34m)\u001b[0m \u001b[0;32mand\u001b[0m \u001b[0mtruncate\u001b[0m\u001b[0;34m:\u001b[0m\u001b[0;34m\u001b[0m\u001b[0m\n\u001b[0;32m--> 350\u001b[0;31m             \u001b[0mprint\u001b[0m\u001b[0;34m(\u001b[0m\u001b[0mself\u001b[0m\u001b[0;34m.\u001b[0m\u001b[0m_jdf\u001b[0m\u001b[0;34m.\u001b[0m\u001b[0mshowString\u001b[0m\u001b[0;34m(\u001b[0m\u001b[0mn\u001b[0m\u001b[0;34m,\u001b[0m \u001b[0;36m20\u001b[0m\u001b[0;34m,\u001b[0m \u001b[0mvertical\u001b[0m\u001b[0;34m)\u001b[0m\u001b[0;34m)\u001b[0m\u001b[0;34m\u001b[0m\u001b[0m\n\u001b[0m\u001b[1;32m    351\u001b[0m         \u001b[0;32melse\u001b[0m\u001b[0;34m:\u001b[0m\u001b[0;34m\u001b[0m\u001b[0m\n\u001b[1;32m    352\u001b[0m             \u001b[0mprint\u001b[0m\u001b[0;34m(\u001b[0m\u001b[0mself\u001b[0m\u001b[0;34m.\u001b[0m\u001b[0m_jdf\u001b[0m\u001b[0;34m.\u001b[0m\u001b[0mshowString\u001b[0m\u001b[0;34m(\u001b[0m\u001b[0mn\u001b[0m\u001b[0;34m,\u001b[0m \u001b[0mint\u001b[0m\u001b[0;34m(\u001b[0m\u001b[0mtruncate\u001b[0m\u001b[0;34m)\u001b[0m\u001b[0;34m,\u001b[0m \u001b[0mvertical\u001b[0m\u001b[0;34m)\u001b[0m\u001b[0;34m)\u001b[0m\u001b[0;34m\u001b[0m\u001b[0m\n",
      "\u001b[0;32m~/.local/lib/python3.6/site-packages/py4j/java_gateway.py\u001b[0m in \u001b[0;36m__call__\u001b[0;34m(self, *args)\u001b[0m\n\u001b[1;32m   1255\u001b[0m         \u001b[0manswer\u001b[0m \u001b[0;34m=\u001b[0m \u001b[0mself\u001b[0m\u001b[0;34m.\u001b[0m\u001b[0mgateway_client\u001b[0m\u001b[0;34m.\u001b[0m\u001b[0msend_command\u001b[0m\u001b[0;34m(\u001b[0m\u001b[0mcommand\u001b[0m\u001b[0;34m)\u001b[0m\u001b[0;34m\u001b[0m\u001b[0m\n\u001b[1;32m   1256\u001b[0m         return_value = get_return_value(\n\u001b[0;32m-> 1257\u001b[0;31m             answer, self.gateway_client, self.target_id, self.name)\n\u001b[0m\u001b[1;32m   1258\u001b[0m \u001b[0;34m\u001b[0m\u001b[0m\n\u001b[1;32m   1259\u001b[0m         \u001b[0;32mfor\u001b[0m \u001b[0mtemp_arg\u001b[0m \u001b[0;32min\u001b[0m \u001b[0mtemp_args\u001b[0m\u001b[0;34m:\u001b[0m\u001b[0;34m\u001b[0m\u001b[0m\n",
      "\u001b[0;32m~/.local/lib/python3.6/site-packages/pyspark/sql/utils.py\u001b[0m in \u001b[0;36mdeco\u001b[0;34m(*a, **kw)\u001b[0m\n\u001b[1;32m     61\u001b[0m     \u001b[0;32mdef\u001b[0m \u001b[0mdeco\u001b[0m\u001b[0;34m(\u001b[0m\u001b[0;34m*\u001b[0m\u001b[0ma\u001b[0m\u001b[0;34m,\u001b[0m \u001b[0;34m**\u001b[0m\u001b[0mkw\u001b[0m\u001b[0;34m)\u001b[0m\u001b[0;34m:\u001b[0m\u001b[0;34m\u001b[0m\u001b[0m\n\u001b[1;32m     62\u001b[0m         \u001b[0;32mtry\u001b[0m\u001b[0;34m:\u001b[0m\u001b[0;34m\u001b[0m\u001b[0m\n\u001b[0;32m---> 63\u001b[0;31m             \u001b[0;32mreturn\u001b[0m \u001b[0mf\u001b[0m\u001b[0;34m(\u001b[0m\u001b[0;34m*\u001b[0m\u001b[0ma\u001b[0m\u001b[0;34m,\u001b[0m \u001b[0;34m**\u001b[0m\u001b[0mkw\u001b[0m\u001b[0;34m)\u001b[0m\u001b[0;34m\u001b[0m\u001b[0m\n\u001b[0m\u001b[1;32m     64\u001b[0m         \u001b[0;32mexcept\u001b[0m \u001b[0mpy4j\u001b[0m\u001b[0;34m.\u001b[0m\u001b[0mprotocol\u001b[0m\u001b[0;34m.\u001b[0m\u001b[0mPy4JJavaError\u001b[0m \u001b[0;32mas\u001b[0m \u001b[0me\u001b[0m\u001b[0;34m:\u001b[0m\u001b[0;34m\u001b[0m\u001b[0m\n\u001b[1;32m     65\u001b[0m             \u001b[0ms\u001b[0m \u001b[0;34m=\u001b[0m \u001b[0me\u001b[0m\u001b[0;34m.\u001b[0m\u001b[0mjava_exception\u001b[0m\u001b[0;34m.\u001b[0m\u001b[0mtoString\u001b[0m\u001b[0;34m(\u001b[0m\u001b[0;34m)\u001b[0m\u001b[0;34m\u001b[0m\u001b[0m\n",
      "\u001b[0;32m~/.local/lib/python3.6/site-packages/py4j/protocol.py\u001b[0m in \u001b[0;36mget_return_value\u001b[0;34m(answer, gateway_client, target_id, name)\u001b[0m\n\u001b[1;32m    326\u001b[0m                 raise Py4JJavaError(\n\u001b[1;32m    327\u001b[0m                     \u001b[0;34m\"An error occurred while calling {0}{1}{2}.\\n\"\u001b[0m\u001b[0;34m.\u001b[0m\u001b[0;34m\u001b[0m\u001b[0m\n\u001b[0;32m--> 328\u001b[0;31m                     format(target_id, \".\", name), value)\n\u001b[0m\u001b[1;32m    329\u001b[0m             \u001b[0;32melse\u001b[0m\u001b[0;34m:\u001b[0m\u001b[0;34m\u001b[0m\u001b[0m\n\u001b[1;32m    330\u001b[0m                 raise Py4JError(\n",
      "\u001b[0;31mPy4JJavaError\u001b[0m: An error occurred while calling o237.showString.\n: org.apache.spark.SparkException: Job aborted due to stage failure: Task 52 in stage 7.0 failed 1 times, most recent failure: Lost task 52.0 in stage 7.0 (TID 423, localhost, executor driver): java.io.FileNotFoundException: /tmp/blockmgr-4f110870-4434-4254-8501-8a0337545080/0b/temp_shuffle_b70dc507-e423-4b26-8a7a-6ba16866e934 (Too many open files)\n\tat java.io.FileOutputStream.open(Native Method)\n\tat java.io.FileOutputStream.<init>(FileOutputStream.java:213)\n\tat org.apache.spark.storage.DiskBlockObjectWriter.initialize(DiskBlockObjectWriter.scala:103)\n\tat org.apache.spark.storage.DiskBlockObjectWriter.open(DiskBlockObjectWriter.scala:116)\n\tat org.apache.spark.storage.DiskBlockObjectWriter.write(DiskBlockObjectWriter.scala:237)\n\tat org.apache.spark.shuffle.sort.BypassMergeSortShuffleWriter.write(BypassMergeSortShuffleWriter.java:151)\n\tat org.apache.spark.scheduler.ShuffleMapTask.runTask(ShuffleMapTask.scala:96)\n\tat org.apache.spark.scheduler.ShuffleMapTask.runTask(ShuffleMapTask.scala:53)\n\tat org.apache.spark.scheduler.Task.run(Task.scala:109)\n\tat org.apache.spark.executor.Executor$TaskRunner.run(Executor.scala:345)\n\tat java.util.concurrent.ThreadPoolExecutor.runWorker(ThreadPoolExecutor.java:1142)\n\tat java.util.concurrent.ThreadPoolExecutor$Worker.run(ThreadPoolExecutor.java:617)\n\tat java.lang.Thread.run(Thread.java:745)\n\nDriver stacktrace:\n\tat org.apache.spark.scheduler.DAGScheduler.org$apache$spark$scheduler$DAGScheduler$$failJobAndIndependentStages(DAGScheduler.scala:1651)\n\tat org.apache.spark.scheduler.DAGScheduler$$anonfun$abortStage$1.apply(DAGScheduler.scala:1639)\n\tat org.apache.spark.scheduler.DAGScheduler$$anonfun$abortStage$1.apply(DAGScheduler.scala:1638)\n\tat scala.collection.mutable.ResizableArray$class.foreach(ResizableArray.scala:59)\n\tat scala.collection.mutable.ArrayBuffer.foreach(ArrayBuffer.scala:48)\n\tat org.apache.spark.scheduler.DAGScheduler.abortStage(DAGScheduler.scala:1638)\n\tat org.apache.spark.scheduler.DAGScheduler$$anonfun$handleTaskSetFailed$1.apply(DAGScheduler.scala:831)\n\tat org.apache.spark.scheduler.DAGScheduler$$anonfun$handleTaskSetFailed$1.apply(DAGScheduler.scala:831)\n\tat scala.Option.foreach(Option.scala:257)\n\tat org.apache.spark.scheduler.DAGScheduler.handleTaskSetFailed(DAGScheduler.scala:831)\n\tat org.apache.spark.scheduler.DAGSchedulerEventProcessLoop.doOnReceive(DAGScheduler.scala:1872)\n\tat org.apache.spark.scheduler.DAGSchedulerEventProcessLoop.onReceive(DAGScheduler.scala:1821)\n\tat org.apache.spark.scheduler.DAGSchedulerEventProcessLoop.onReceive(DAGScheduler.scala:1810)\n\tat org.apache.spark.util.EventLoop$$anon$1.run(EventLoop.scala:48)\n\tat org.apache.spark.scheduler.DAGScheduler.runJob(DAGScheduler.scala:642)\n\tat org.apache.spark.SparkContext.runJob(SparkContext.scala:2034)\n\tat org.apache.spark.SparkContext.runJob(SparkContext.scala:2055)\n\tat org.apache.spark.SparkContext.runJob(SparkContext.scala:2074)\n\tat org.apache.spark.sql.execution.SparkPlan.executeTake(SparkPlan.scala:363)\n\tat org.apache.spark.sql.execution.CollectLimitExec.executeCollect(limit.scala:38)\n\tat org.apache.spark.sql.Dataset.org$apache$spark$sql$Dataset$$collectFromPlan(Dataset.scala:3278)\n\tat org.apache.spark.sql.Dataset$$anonfun$head$1.apply(Dataset.scala:2489)\n\tat org.apache.spark.sql.Dataset$$anonfun$head$1.apply(Dataset.scala:2489)\n\tat org.apache.spark.sql.Dataset$$anonfun$52.apply(Dataset.scala:3259)\n\tat org.apache.spark.sql.execution.SQLExecution$.withNewExecutionId(SQLExecution.scala:77)\n\tat org.apache.spark.sql.Dataset.withAction(Dataset.scala:3258)\n\tat org.apache.spark.sql.Dataset.head(Dataset.scala:2489)\n\tat org.apache.spark.sql.Dataset.take(Dataset.scala:2703)\n\tat org.apache.spark.sql.Dataset.showString(Dataset.scala:254)\n\tat sun.reflect.NativeMethodAccessorImpl.invoke0(Native Method)\n\tat sun.reflect.NativeMethodAccessorImpl.invoke(NativeMethodAccessorImpl.java:62)\n\tat sun.reflect.DelegatingMethodAccessorImpl.invoke(DelegatingMethodAccessorImpl.java:43)\n\tat java.lang.reflect.Method.invoke(Method.java:483)\n\tat py4j.reflection.MethodInvoker.invoke(MethodInvoker.java:244)\n\tat py4j.reflection.ReflectionEngine.invoke(ReflectionEngine.java:357)\n\tat py4j.Gateway.invoke(Gateway.java:282)\n\tat py4j.commands.AbstractCommand.invokeMethod(AbstractCommand.java:132)\n\tat py4j.commands.CallCommand.execute(CallCommand.java:79)\n\tat py4j.GatewayConnection.run(GatewayConnection.java:238)\n\tat java.lang.Thread.run(Thread.java:745)\nCaused by: java.io.FileNotFoundException: /tmp/blockmgr-4f110870-4434-4254-8501-8a0337545080/0b/temp_shuffle_b70dc507-e423-4b26-8a7a-6ba16866e934 (Too many open files)\n\tat java.io.FileOutputStream.open(Native Method)\n\tat java.io.FileOutputStream.<init>(FileOutputStream.java:213)\n\tat org.apache.spark.storage.DiskBlockObjectWriter.initialize(DiskBlockObjectWriter.scala:103)\n\tat org.apache.spark.storage.DiskBlockObjectWriter.open(DiskBlockObjectWriter.scala:116)\n\tat org.apache.spark.storage.DiskBlockObjectWriter.write(DiskBlockObjectWriter.scala:237)\n\tat org.apache.spark.shuffle.sort.BypassMergeSortShuffleWriter.write(BypassMergeSortShuffleWriter.java:151)\n\tat org.apache.spark.scheduler.ShuffleMapTask.runTask(ShuffleMapTask.scala:96)\n\tat org.apache.spark.scheduler.ShuffleMapTask.runTask(ShuffleMapTask.scala:53)\n\tat org.apache.spark.scheduler.Task.run(Task.scala:109)\n\tat org.apache.spark.executor.Executor$TaskRunner.run(Executor.scala:345)\n\tat java.util.concurrent.ThreadPoolExecutor.runWorker(ThreadPoolExecutor.java:1142)\n\tat java.util.concurrent.ThreadPoolExecutor$Worker.run(ThreadPoolExecutor.java:617)\n\t... 1 more\n"
     ]
    }
   ],
   "source": [
    "failed_logon.show()"
   ]
  },
  {
   "cell_type": "code",
   "execution_count": 38,
   "metadata": {},
   "outputs": [],
   "source": [
    "tgt_type =  auth.filter(auth.auth_orient=='TGT').groupby(auth.time).count().na.fill(0).sort('time')\n",
    "tgs_type =  auth.filter(auth.auth_orient=='TGS').groupby(auth.time).count().na.fill(0).sort('time')"
   ]
  },
  {
   "cell_type": "code",
   "execution_count": 20,
   "metadata": {},
   "outputs": [],
   "source": [
    "# process_start = proc.groupby(proc.time).agg(F.when)\n",
    "# process_start = process_start.a\n",
    "# agg().sort('time')\n",
    "process_start = proc.groupBy(proc.time).count().na.fill(0).sort('time')\n",
    "process_start = process_start.select(F.col('time'),F.col('count').alias('proc_change'))"
   ]
  },
  {
   "cell_type": "code",
   "execution_count": 29,
   "metadata": {},
   "outputs": [
    {
     "name": "stdout",
     "output_type": "stream",
     "text": [
      "+------+--------+---------+--------+-------+-------+-----------+-----------------+\n",
      "|  time|src_comp|dest_comp|src_user|src_dmn|   type|successType|       successVec|\n",
      "+------+--------+---------+--------+-------+-------+-----------+-----------------+\n",
      "|150885|  C17693|    C1003|    U620|   DOM1|RedTeam|       69.0| (300,[69],[1.0])|\n",
      "|151036|  C17693|     C305|    U748|   DOM1|RedTeam|      296.0|(300,[296],[1.0])|\n",
      "|151648|  C17693|     C728|    U748|   DOM1|RedTeam|      214.0|(300,[214],[1.0])|\n",
      "|151993|  C17693|    C1173|   U6115|   DOM1|RedTeam|      294.0|(300,[294],[1.0])|\n",
      "|153792|  C17693|     C294|    U636|   DOM1|RedTeam|       25.0| (300,[25],[1.0])|\n",
      "|155219|  C17693|    C5693|    U748|   DOM1|RedTeam|      240.0|(300,[240],[1.0])|\n",
      "|155399|  C17693|     C152|    U748|   DOM1|RedTeam|      293.0|(300,[293],[1.0])|\n",
      "|155460|  C17693|    C2341|    U748|   DOM1|RedTeam|      217.0|(300,[217],[1.0])|\n",
      "|155591|  C17693|     C332|    U748|   DOM1|RedTeam|      182.0|(300,[182],[1.0])|\n",
      "|156658|  C17693|    C4280|    U748|   DOM1|RedTeam|      239.0|(300,[239],[1.0])|\n",
      "|210086|  C18025|    C1493|    U748|   DOM1|RedTeam|       65.0| (300,[65],[1.0])|\n",
      "|210294|  C18025|    C1493|    U748|   DOM1|RedTeam|       65.0| (300,[65],[1.0])|\n",
      "|210312|  C18025|    C1493|    U748|   DOM1|RedTeam|       65.0| (300,[65],[1.0])|\n",
      "|218418|  C17693|     C504|    U748|   DOM1|RedTeam|      130.0|(300,[130],[1.0])|\n",
      "|227052|  C17693|     C148|    U748|   DOM1|RedTeam|       20.0| (300,[20],[1.0])|\n",
      "|227408|  C17693|     C148|    U748|   DOM1|RedTeam|       20.0| (300,[20],[1.0])|\n",
      "|227520|  C17693|     C148|    U748|   DOM1|RedTeam|       20.0| (300,[20],[1.0])|\n",
      "|227780|  C17693|     C148|    U748|   DOM1|RedTeam|       20.0| (300,[20],[1.0])|\n",
      "|228024|  C17693|     C148|    U748|   DOM1|RedTeam|       20.0| (300,[20],[1.0])|\n",
      "|228150|  C17693|     C148|    U748|   DOM1|RedTeam|       20.0| (300,[20],[1.0])|\n",
      "+------+--------+---------+--------+-------+-------+-----------+-----------------+\n",
      "only showing top 20 rows\n",
      "\n"
     ]
    }
   ],
   "source": [
    "stringIndexer = StringIndexer(inputCol='dest_comp', outputCol='successType')\n",
    "model = stringIndexer.fit(redteam)\n",
    "indexed = model.transform(redteam)\n",
    "\n",
    "encoder = OneHotEncoder(inputCol='successType', outputCol='successVec')\n",
    "encoded = encoder.transform(indexed)\n",
    "encoded.show()\n"
   ]
  },
  {
   "cell_type": "code",
   "execution_count": 27,
   "metadata": {},
   "outputs": [
    {
     "name": "stdout",
     "output_type": "stream",
     "text": [
      "+------+--------+---------+--------+-------+-------+\n",
      "|  time|src_comp|dest_comp|src_user|src_dmn|   type|\n",
      "+------+--------+---------+--------+-------+-------+\n",
      "|150885|  C17693|    C1003|    U620|   DOM1|RedTeam|\n",
      "|151036|  C17693|     C305|    U748|   DOM1|RedTeam|\n",
      "|151648|  C17693|     C728|    U748|   DOM1|RedTeam|\n",
      "|151993|  C17693|    C1173|   U6115|   DOM1|RedTeam|\n",
      "|153792|  C17693|     C294|    U636|   DOM1|RedTeam|\n",
      "|155219|  C17693|    C5693|    U748|   DOM1|RedTeam|\n",
      "|155399|  C17693|     C152|    U748|   DOM1|RedTeam|\n",
      "|155460|  C17693|    C2341|    U748|   DOM1|RedTeam|\n",
      "|155591|  C17693|     C332|    U748|   DOM1|RedTeam|\n",
      "|156658|  C17693|    C4280|    U748|   DOM1|RedTeam|\n",
      "|210086|  C18025|    C1493|    U748|   DOM1|RedTeam|\n",
      "|210294|  C18025|    C1493|    U748|   DOM1|RedTeam|\n",
      "|210312|  C18025|    C1493|    U748|   DOM1|RedTeam|\n",
      "|218418|  C17693|     C504|    U748|   DOM1|RedTeam|\n",
      "|227052|  C17693|     C148|    U748|   DOM1|RedTeam|\n",
      "|227408|  C17693|     C148|    U748|   DOM1|RedTeam|\n",
      "|227520|  C17693|     C148|    U748|   DOM1|RedTeam|\n",
      "|227780|  C17693|     C148|    U748|   DOM1|RedTeam|\n",
      "|228024|  C17693|     C148|    U748|   DOM1|RedTeam|\n",
      "|228150|  C17693|     C148|    U748|   DOM1|RedTeam|\n",
      "+------+--------+---------+--------+-------+-------+\n",
      "only showing top 20 rows\n",
      "\n"
     ]
    }
   ],
   "source": [
    "redteam.show()"
   ]
  },
  {
   "cell_type": "code",
   "execution_count": 33,
   "metadata": {},
   "outputs": [
    {
     "name": "stdout",
     "output_type": "stream",
     "text": [
      "+----+-----------+-------+\n",
      "|time|auth_orient|success|\n",
      "+----+-----------+-------+\n",
      "|   1|      LogOn|Success|\n",
      "|   1|     LogOff|Success|\n",
      "|   1|     LogOff|Success|\n",
      "|   1|      LogOn|Success|\n",
      "|   1|      LogOn|Success|\n",
      "|   1|      LogOn|Success|\n",
      "|   1|     LogOff|Success|\n",
      "|   1|      LogOn|Success|\n",
      "|   1|      LogOn|Success|\n",
      "|   1|     LogOff|Success|\n",
      "|   1|      LogOn|Success|\n",
      "|   1|      LogOn|Success|\n",
      "|   1|     LogOff|Success|\n",
      "|   1|      LogOn|Success|\n",
      "|   1|      LogOn|Success|\n",
      "|   1|     LogOff|Success|\n",
      "|   1|      LogOn|Success|\n",
      "|   1|      LogOn|Success|\n",
      "|   1|      LogOn|Success|\n",
      "|   1|      LogOn|Success|\n",
      "+----+-----------+-------+\n",
      "only showing top 20 rows\n",
      "\n"
     ]
    }
   ],
   "source": [
    "auth.select('time','auth_orient','success').show()"
   ]
  },
  {
   "cell_type": "code",
   "execution_count": null,
   "metadata": {},
   "outputs": [],
   "source": [
    "stringIndexer = StringIndexer(inputCol='strt', outputCol='successType')\n",
    "model = stringIndexer.fit(proc)\n",
    "indexed = model.transform(proc)\n",
    "\n",
    "encoder = OneHotEncoder(inputCol='successType', outputCol='successVec')\n",
    "encoded = encoder.transform(indexed)\n",
    "encoded.show()"
   ]
  },
  {
   "cell_type": "code",
   "execution_count": 22,
   "metadata": {},
   "outputs": [],
   "source": [
    "master_event = process_start.join(failed_logon, 'time','left')"
   ]
  },
  {
   "cell_type": "code",
   "execution_count": 23,
   "metadata": {},
   "outputs": [
    {
     "ename": "Py4JJavaError",
     "evalue": "An error occurred while calling o320.showString.\n: org.apache.spark.SparkException: Job aborted due to stage failure: Task 49 in stage 14.0 failed 1 times, most recent failure: Lost task 49.0 in stage 14.0 (TID 993, localhost, executor driver): java.io.FileNotFoundException: /tmp/blockmgr-4f110870-4434-4254-8501-8a0337545080/25/temp_shuffle_9499dd16-daab-4bc7-bb4f-1bdf4808272f (Too many open files)\n\tat java.io.FileOutputStream.open(Native Method)\n\tat java.io.FileOutputStream.<init>(FileOutputStream.java:213)\n\tat org.apache.spark.storage.DiskBlockObjectWriter.initialize(DiskBlockObjectWriter.scala:103)\n\tat org.apache.spark.storage.DiskBlockObjectWriter.open(DiskBlockObjectWriter.scala:116)\n\tat org.apache.spark.storage.DiskBlockObjectWriter.write(DiskBlockObjectWriter.scala:237)\n\tat org.apache.spark.shuffle.sort.BypassMergeSortShuffleWriter.write(BypassMergeSortShuffleWriter.java:151)\n\tat org.apache.spark.scheduler.ShuffleMapTask.runTask(ShuffleMapTask.scala:96)\n\tat org.apache.spark.scheduler.ShuffleMapTask.runTask(ShuffleMapTask.scala:53)\n\tat org.apache.spark.scheduler.Task.run(Task.scala:109)\n\tat org.apache.spark.executor.Executor$TaskRunner.run(Executor.scala:345)\n\tat java.util.concurrent.ThreadPoolExecutor.runWorker(ThreadPoolExecutor.java:1142)\n\tat java.util.concurrent.ThreadPoolExecutor$Worker.run(ThreadPoolExecutor.java:617)\n\tat java.lang.Thread.run(Thread.java:745)\n\nDriver stacktrace:\n\tat org.apache.spark.scheduler.DAGScheduler.org$apache$spark$scheduler$DAGScheduler$$failJobAndIndependentStages(DAGScheduler.scala:1651)\n\tat org.apache.spark.scheduler.DAGScheduler$$anonfun$abortStage$1.apply(DAGScheduler.scala:1639)\n\tat org.apache.spark.scheduler.DAGScheduler$$anonfun$abortStage$1.apply(DAGScheduler.scala:1638)\n\tat scala.collection.mutable.ResizableArray$class.foreach(ResizableArray.scala:59)\n\tat scala.collection.mutable.ArrayBuffer.foreach(ArrayBuffer.scala:48)\n\tat org.apache.spark.scheduler.DAGScheduler.abortStage(DAGScheduler.scala:1638)\n\tat org.apache.spark.scheduler.DAGScheduler$$anonfun$handleTaskSetFailed$1.apply(DAGScheduler.scala:831)\n\tat org.apache.spark.scheduler.DAGScheduler$$anonfun$handleTaskSetFailed$1.apply(DAGScheduler.scala:831)\n\tat scala.Option.foreach(Option.scala:257)\n\tat org.apache.spark.scheduler.DAGScheduler.handleTaskSetFailed(DAGScheduler.scala:831)\n\tat org.apache.spark.scheduler.DAGSchedulerEventProcessLoop.doOnReceive(DAGScheduler.scala:1872)\n\tat org.apache.spark.scheduler.DAGSchedulerEventProcessLoop.onReceive(DAGScheduler.scala:1821)\n\tat org.apache.spark.scheduler.DAGSchedulerEventProcessLoop.onReceive(DAGScheduler.scala:1810)\n\tat org.apache.spark.util.EventLoop$$anon$1.run(EventLoop.scala:48)\n\tat org.apache.spark.scheduler.DAGScheduler.runJob(DAGScheduler.scala:642)\n\tat org.apache.spark.SparkContext.runJob(SparkContext.scala:2034)\n\tat org.apache.spark.SparkContext.runJob(SparkContext.scala:2055)\n\tat org.apache.spark.SparkContext.runJob(SparkContext.scala:2074)\n\tat org.apache.spark.sql.execution.SparkPlan.executeTake(SparkPlan.scala:363)\n\tat org.apache.spark.sql.execution.CollectLimitExec.executeCollect(limit.scala:38)\n\tat org.apache.spark.sql.Dataset.org$apache$spark$sql$Dataset$$collectFromPlan(Dataset.scala:3278)\n\tat org.apache.spark.sql.Dataset$$anonfun$head$1.apply(Dataset.scala:2489)\n\tat org.apache.spark.sql.Dataset$$anonfun$head$1.apply(Dataset.scala:2489)\n\tat org.apache.spark.sql.Dataset$$anonfun$52.apply(Dataset.scala:3259)\n\tat org.apache.spark.sql.execution.SQLExecution$.withNewExecutionId(SQLExecution.scala:77)\n\tat org.apache.spark.sql.Dataset.withAction(Dataset.scala:3258)\n\tat org.apache.spark.sql.Dataset.head(Dataset.scala:2489)\n\tat org.apache.spark.sql.Dataset.take(Dataset.scala:2703)\n\tat org.apache.spark.sql.Dataset.showString(Dataset.scala:254)\n\tat sun.reflect.NativeMethodAccessorImpl.invoke0(Native Method)\n\tat sun.reflect.NativeMethodAccessorImpl.invoke(NativeMethodAccessorImpl.java:62)\n\tat sun.reflect.DelegatingMethodAccessorImpl.invoke(DelegatingMethodAccessorImpl.java:43)\n\tat java.lang.reflect.Method.invoke(Method.java:483)\n\tat py4j.reflection.MethodInvoker.invoke(MethodInvoker.java:244)\n\tat py4j.reflection.ReflectionEngine.invoke(ReflectionEngine.java:357)\n\tat py4j.Gateway.invoke(Gateway.java:282)\n\tat py4j.commands.AbstractCommand.invokeMethod(AbstractCommand.java:132)\n\tat py4j.commands.CallCommand.execute(CallCommand.java:79)\n\tat py4j.GatewayConnection.run(GatewayConnection.java:238)\n\tat java.lang.Thread.run(Thread.java:745)\nCaused by: java.io.FileNotFoundException: /tmp/blockmgr-4f110870-4434-4254-8501-8a0337545080/25/temp_shuffle_9499dd16-daab-4bc7-bb4f-1bdf4808272f (Too many open files)\n\tat java.io.FileOutputStream.open(Native Method)\n\tat java.io.FileOutputStream.<init>(FileOutputStream.java:213)\n\tat org.apache.spark.storage.DiskBlockObjectWriter.initialize(DiskBlockObjectWriter.scala:103)\n\tat org.apache.spark.storage.DiskBlockObjectWriter.open(DiskBlockObjectWriter.scala:116)\n\tat org.apache.spark.storage.DiskBlockObjectWriter.write(DiskBlockObjectWriter.scala:237)\n\tat org.apache.spark.shuffle.sort.BypassMergeSortShuffleWriter.write(BypassMergeSortShuffleWriter.java:151)\n\tat org.apache.spark.scheduler.ShuffleMapTask.runTask(ShuffleMapTask.scala:96)\n\tat org.apache.spark.scheduler.ShuffleMapTask.runTask(ShuffleMapTask.scala:53)\n\tat org.apache.spark.scheduler.Task.run(Task.scala:109)\n\tat org.apache.spark.executor.Executor$TaskRunner.run(Executor.scala:345)\n\tat java.util.concurrent.ThreadPoolExecutor.runWorker(ThreadPoolExecutor.java:1142)\n\tat java.util.concurrent.ThreadPoolExecutor$Worker.run(ThreadPoolExecutor.java:617)\n\t... 1 more\n",
     "output_type": "error",
     "traceback": [
      "\u001b[0;31m---------------------------------------------------------------------------\u001b[0m",
      "\u001b[0;31mPy4JJavaError\u001b[0m                             Traceback (most recent call last)",
      "\u001b[0;32m<ipython-input-23-5059bde289df>\u001b[0m in \u001b[0;36m<module>\u001b[0;34m()\u001b[0m\n\u001b[0;32m----> 1\u001b[0;31m \u001b[0mmaster_event\u001b[0m\u001b[0;34m.\u001b[0m\u001b[0mshow\u001b[0m\u001b[0;34m(\u001b[0m\u001b[0;34m)\u001b[0m\u001b[0;34m\u001b[0m\u001b[0m\n\u001b[0m",
      "\u001b[0;32m~/.local/lib/python3.6/site-packages/pyspark/sql/dataframe.py\u001b[0m in \u001b[0;36mshow\u001b[0;34m(self, n, truncate, vertical)\u001b[0m\n\u001b[1;32m    348\u001b[0m         \"\"\"\n\u001b[1;32m    349\u001b[0m         \u001b[0;32mif\u001b[0m \u001b[0misinstance\u001b[0m\u001b[0;34m(\u001b[0m\u001b[0mtruncate\u001b[0m\u001b[0;34m,\u001b[0m \u001b[0mbool\u001b[0m\u001b[0;34m)\u001b[0m \u001b[0;32mand\u001b[0m \u001b[0mtruncate\u001b[0m\u001b[0;34m:\u001b[0m\u001b[0;34m\u001b[0m\u001b[0m\n\u001b[0;32m--> 350\u001b[0;31m             \u001b[0mprint\u001b[0m\u001b[0;34m(\u001b[0m\u001b[0mself\u001b[0m\u001b[0;34m.\u001b[0m\u001b[0m_jdf\u001b[0m\u001b[0;34m.\u001b[0m\u001b[0mshowString\u001b[0m\u001b[0;34m(\u001b[0m\u001b[0mn\u001b[0m\u001b[0;34m,\u001b[0m \u001b[0;36m20\u001b[0m\u001b[0;34m,\u001b[0m \u001b[0mvertical\u001b[0m\u001b[0;34m)\u001b[0m\u001b[0;34m)\u001b[0m\u001b[0;34m\u001b[0m\u001b[0m\n\u001b[0m\u001b[1;32m    351\u001b[0m         \u001b[0;32melse\u001b[0m\u001b[0;34m:\u001b[0m\u001b[0;34m\u001b[0m\u001b[0m\n\u001b[1;32m    352\u001b[0m             \u001b[0mprint\u001b[0m\u001b[0;34m(\u001b[0m\u001b[0mself\u001b[0m\u001b[0;34m.\u001b[0m\u001b[0m_jdf\u001b[0m\u001b[0;34m.\u001b[0m\u001b[0mshowString\u001b[0m\u001b[0;34m(\u001b[0m\u001b[0mn\u001b[0m\u001b[0;34m,\u001b[0m \u001b[0mint\u001b[0m\u001b[0;34m(\u001b[0m\u001b[0mtruncate\u001b[0m\u001b[0;34m)\u001b[0m\u001b[0;34m,\u001b[0m \u001b[0mvertical\u001b[0m\u001b[0;34m)\u001b[0m\u001b[0;34m)\u001b[0m\u001b[0;34m\u001b[0m\u001b[0m\n",
      "\u001b[0;32m~/.local/lib/python3.6/site-packages/py4j/java_gateway.py\u001b[0m in \u001b[0;36m__call__\u001b[0;34m(self, *args)\u001b[0m\n\u001b[1;32m   1255\u001b[0m         \u001b[0manswer\u001b[0m \u001b[0;34m=\u001b[0m \u001b[0mself\u001b[0m\u001b[0;34m.\u001b[0m\u001b[0mgateway_client\u001b[0m\u001b[0;34m.\u001b[0m\u001b[0msend_command\u001b[0m\u001b[0;34m(\u001b[0m\u001b[0mcommand\u001b[0m\u001b[0;34m)\u001b[0m\u001b[0;34m\u001b[0m\u001b[0m\n\u001b[1;32m   1256\u001b[0m         return_value = get_return_value(\n\u001b[0;32m-> 1257\u001b[0;31m             answer, self.gateway_client, self.target_id, self.name)\n\u001b[0m\u001b[1;32m   1258\u001b[0m \u001b[0;34m\u001b[0m\u001b[0m\n\u001b[1;32m   1259\u001b[0m         \u001b[0;32mfor\u001b[0m \u001b[0mtemp_arg\u001b[0m \u001b[0;32min\u001b[0m \u001b[0mtemp_args\u001b[0m\u001b[0;34m:\u001b[0m\u001b[0;34m\u001b[0m\u001b[0m\n",
      "\u001b[0;32m~/.local/lib/python3.6/site-packages/pyspark/sql/utils.py\u001b[0m in \u001b[0;36mdeco\u001b[0;34m(*a, **kw)\u001b[0m\n\u001b[1;32m     61\u001b[0m     \u001b[0;32mdef\u001b[0m \u001b[0mdeco\u001b[0m\u001b[0;34m(\u001b[0m\u001b[0;34m*\u001b[0m\u001b[0ma\u001b[0m\u001b[0;34m,\u001b[0m \u001b[0;34m**\u001b[0m\u001b[0mkw\u001b[0m\u001b[0;34m)\u001b[0m\u001b[0;34m:\u001b[0m\u001b[0;34m\u001b[0m\u001b[0m\n\u001b[1;32m     62\u001b[0m         \u001b[0;32mtry\u001b[0m\u001b[0;34m:\u001b[0m\u001b[0;34m\u001b[0m\u001b[0m\n\u001b[0;32m---> 63\u001b[0;31m             \u001b[0;32mreturn\u001b[0m \u001b[0mf\u001b[0m\u001b[0;34m(\u001b[0m\u001b[0;34m*\u001b[0m\u001b[0ma\u001b[0m\u001b[0;34m,\u001b[0m \u001b[0;34m**\u001b[0m\u001b[0mkw\u001b[0m\u001b[0;34m)\u001b[0m\u001b[0;34m\u001b[0m\u001b[0m\n\u001b[0m\u001b[1;32m     64\u001b[0m         \u001b[0;32mexcept\u001b[0m \u001b[0mpy4j\u001b[0m\u001b[0;34m.\u001b[0m\u001b[0mprotocol\u001b[0m\u001b[0;34m.\u001b[0m\u001b[0mPy4JJavaError\u001b[0m \u001b[0;32mas\u001b[0m \u001b[0me\u001b[0m\u001b[0;34m:\u001b[0m\u001b[0;34m\u001b[0m\u001b[0m\n\u001b[1;32m     65\u001b[0m             \u001b[0ms\u001b[0m \u001b[0;34m=\u001b[0m \u001b[0me\u001b[0m\u001b[0;34m.\u001b[0m\u001b[0mjava_exception\u001b[0m\u001b[0;34m.\u001b[0m\u001b[0mtoString\u001b[0m\u001b[0;34m(\u001b[0m\u001b[0;34m)\u001b[0m\u001b[0;34m\u001b[0m\u001b[0m\n",
      "\u001b[0;32m~/.local/lib/python3.6/site-packages/py4j/protocol.py\u001b[0m in \u001b[0;36mget_return_value\u001b[0;34m(answer, gateway_client, target_id, name)\u001b[0m\n\u001b[1;32m    326\u001b[0m                 raise Py4JJavaError(\n\u001b[1;32m    327\u001b[0m                     \u001b[0;34m\"An error occurred while calling {0}{1}{2}.\\n\"\u001b[0m\u001b[0;34m.\u001b[0m\u001b[0;34m\u001b[0m\u001b[0m\n\u001b[0;32m--> 328\u001b[0;31m                     format(target_id, \".\", name), value)\n\u001b[0m\u001b[1;32m    329\u001b[0m             \u001b[0;32melse\u001b[0m\u001b[0;34m:\u001b[0m\u001b[0;34m\u001b[0m\u001b[0m\n\u001b[1;32m    330\u001b[0m                 raise Py4JError(\n",
      "\u001b[0;31mPy4JJavaError\u001b[0m: An error occurred while calling o320.showString.\n: org.apache.spark.SparkException: Job aborted due to stage failure: Task 49 in stage 14.0 failed 1 times, most recent failure: Lost task 49.0 in stage 14.0 (TID 993, localhost, executor driver): java.io.FileNotFoundException: /tmp/blockmgr-4f110870-4434-4254-8501-8a0337545080/25/temp_shuffle_9499dd16-daab-4bc7-bb4f-1bdf4808272f (Too many open files)\n\tat java.io.FileOutputStream.open(Native Method)\n\tat java.io.FileOutputStream.<init>(FileOutputStream.java:213)\n\tat org.apache.spark.storage.DiskBlockObjectWriter.initialize(DiskBlockObjectWriter.scala:103)\n\tat org.apache.spark.storage.DiskBlockObjectWriter.open(DiskBlockObjectWriter.scala:116)\n\tat org.apache.spark.storage.DiskBlockObjectWriter.write(DiskBlockObjectWriter.scala:237)\n\tat org.apache.spark.shuffle.sort.BypassMergeSortShuffleWriter.write(BypassMergeSortShuffleWriter.java:151)\n\tat org.apache.spark.scheduler.ShuffleMapTask.runTask(ShuffleMapTask.scala:96)\n\tat org.apache.spark.scheduler.ShuffleMapTask.runTask(ShuffleMapTask.scala:53)\n\tat org.apache.spark.scheduler.Task.run(Task.scala:109)\n\tat org.apache.spark.executor.Executor$TaskRunner.run(Executor.scala:345)\n\tat java.util.concurrent.ThreadPoolExecutor.runWorker(ThreadPoolExecutor.java:1142)\n\tat java.util.concurrent.ThreadPoolExecutor$Worker.run(ThreadPoolExecutor.java:617)\n\tat java.lang.Thread.run(Thread.java:745)\n\nDriver stacktrace:\n\tat org.apache.spark.scheduler.DAGScheduler.org$apache$spark$scheduler$DAGScheduler$$failJobAndIndependentStages(DAGScheduler.scala:1651)\n\tat org.apache.spark.scheduler.DAGScheduler$$anonfun$abortStage$1.apply(DAGScheduler.scala:1639)\n\tat org.apache.spark.scheduler.DAGScheduler$$anonfun$abortStage$1.apply(DAGScheduler.scala:1638)\n\tat scala.collection.mutable.ResizableArray$class.foreach(ResizableArray.scala:59)\n\tat scala.collection.mutable.ArrayBuffer.foreach(ArrayBuffer.scala:48)\n\tat org.apache.spark.scheduler.DAGScheduler.abortStage(DAGScheduler.scala:1638)\n\tat org.apache.spark.scheduler.DAGScheduler$$anonfun$handleTaskSetFailed$1.apply(DAGScheduler.scala:831)\n\tat org.apache.spark.scheduler.DAGScheduler$$anonfun$handleTaskSetFailed$1.apply(DAGScheduler.scala:831)\n\tat scala.Option.foreach(Option.scala:257)\n\tat org.apache.spark.scheduler.DAGScheduler.handleTaskSetFailed(DAGScheduler.scala:831)\n\tat org.apache.spark.scheduler.DAGSchedulerEventProcessLoop.doOnReceive(DAGScheduler.scala:1872)\n\tat org.apache.spark.scheduler.DAGSchedulerEventProcessLoop.onReceive(DAGScheduler.scala:1821)\n\tat org.apache.spark.scheduler.DAGSchedulerEventProcessLoop.onReceive(DAGScheduler.scala:1810)\n\tat org.apache.spark.util.EventLoop$$anon$1.run(EventLoop.scala:48)\n\tat org.apache.spark.scheduler.DAGScheduler.runJob(DAGScheduler.scala:642)\n\tat org.apache.spark.SparkContext.runJob(SparkContext.scala:2034)\n\tat org.apache.spark.SparkContext.runJob(SparkContext.scala:2055)\n\tat org.apache.spark.SparkContext.runJob(SparkContext.scala:2074)\n\tat org.apache.spark.sql.execution.SparkPlan.executeTake(SparkPlan.scala:363)\n\tat org.apache.spark.sql.execution.CollectLimitExec.executeCollect(limit.scala:38)\n\tat org.apache.spark.sql.Dataset.org$apache$spark$sql$Dataset$$collectFromPlan(Dataset.scala:3278)\n\tat org.apache.spark.sql.Dataset$$anonfun$head$1.apply(Dataset.scala:2489)\n\tat org.apache.spark.sql.Dataset$$anonfun$head$1.apply(Dataset.scala:2489)\n\tat org.apache.spark.sql.Dataset$$anonfun$52.apply(Dataset.scala:3259)\n\tat org.apache.spark.sql.execution.SQLExecution$.withNewExecutionId(SQLExecution.scala:77)\n\tat org.apache.spark.sql.Dataset.withAction(Dataset.scala:3258)\n\tat org.apache.spark.sql.Dataset.head(Dataset.scala:2489)\n\tat org.apache.spark.sql.Dataset.take(Dataset.scala:2703)\n\tat org.apache.spark.sql.Dataset.showString(Dataset.scala:254)\n\tat sun.reflect.NativeMethodAccessorImpl.invoke0(Native Method)\n\tat sun.reflect.NativeMethodAccessorImpl.invoke(NativeMethodAccessorImpl.java:62)\n\tat sun.reflect.DelegatingMethodAccessorImpl.invoke(DelegatingMethodAccessorImpl.java:43)\n\tat java.lang.reflect.Method.invoke(Method.java:483)\n\tat py4j.reflection.MethodInvoker.invoke(MethodInvoker.java:244)\n\tat py4j.reflection.ReflectionEngine.invoke(ReflectionEngine.java:357)\n\tat py4j.Gateway.invoke(Gateway.java:282)\n\tat py4j.commands.AbstractCommand.invokeMethod(AbstractCommand.java:132)\n\tat py4j.commands.CallCommand.execute(CallCommand.java:79)\n\tat py4j.GatewayConnection.run(GatewayConnection.java:238)\n\tat java.lang.Thread.run(Thread.java:745)\nCaused by: java.io.FileNotFoundException: /tmp/blockmgr-4f110870-4434-4254-8501-8a0337545080/25/temp_shuffle_9499dd16-daab-4bc7-bb4f-1bdf4808272f (Too many open files)\n\tat java.io.FileOutputStream.open(Native Method)\n\tat java.io.FileOutputStream.<init>(FileOutputStream.java:213)\n\tat org.apache.spark.storage.DiskBlockObjectWriter.initialize(DiskBlockObjectWriter.scala:103)\n\tat org.apache.spark.storage.DiskBlockObjectWriter.open(DiskBlockObjectWriter.scala:116)\n\tat org.apache.spark.storage.DiskBlockObjectWriter.write(DiskBlockObjectWriter.scala:237)\n\tat org.apache.spark.shuffle.sort.BypassMergeSortShuffleWriter.write(BypassMergeSortShuffleWriter.java:151)\n\tat org.apache.spark.scheduler.ShuffleMapTask.runTask(ShuffleMapTask.scala:96)\n\tat org.apache.spark.scheduler.ShuffleMapTask.runTask(ShuffleMapTask.scala:53)\n\tat org.apache.spark.scheduler.Task.run(Task.scala:109)\n\tat org.apache.spark.executor.Executor$TaskRunner.run(Executor.scala:345)\n\tat java.util.concurrent.ThreadPoolExecutor.runWorker(ThreadPoolExecutor.java:1142)\n\tat java.util.concurrent.ThreadPoolExecutor$Worker.run(ThreadPoolExecutor.java:617)\n\t... 1 more\n"
     ]
    }
   ],
   "source": [
    "master_event.show()"
   ]
  },
  {
   "cell_type": "code",
   "execution_count": null,
   "metadata": {},
   "outputs": [],
   "source": [
    "master_event.show()"
   ]
  },
  {
   "cell_type": "code",
   "execution_count": 126,
   "metadata": {},
   "outputs": [
    {
     "name": "stdout",
     "output_type": "stream",
     "text": [
      "+----+-----+\n",
      "|time|count|\n",
      "+----+-----+\n",
      "|   1|   25|\n",
      "|   2|    7|\n",
      "|   3|    6|\n",
      "|   4|    3|\n",
      "|   6|    7|\n",
      "|   7|    3|\n",
      "|   8|    4|\n",
      "|  10|    5|\n",
      "|  11|    2|\n",
      "|  12|    3|\n",
      "|  13|    5|\n",
      "|  14|    2|\n",
      "|  15|    4|\n",
      "|  16|    9|\n",
      "|  17|    2|\n",
      "|  18|    4|\n",
      "|  19|    2|\n",
      "|  20|    5|\n",
      "|  21|    1|\n",
      "|  22|    3|\n",
      "+----+-----+\n",
      "only showing top 20 rows\n",
      "\n"
     ]
    }
   ],
   "source": [
    "tgt_type.show()"
   ]
  },
  {
   "cell_type": "code",
   "execution_count": 167,
   "metadata": {},
   "outputs": [
    {
     "name": "stdout",
     "output_type": "stream",
     "text": [
      "+----+-----+\n",
      "|time|count|\n",
      "+----+-----+\n",
      "|   1|  422|\n",
      "|   2| 1451|\n",
      "|   3| 1555|\n",
      "|   4|  723|\n",
      "|   5|  121|\n",
      "|   6|   62|\n",
      "|   7|   45|\n",
      "|   8|   36|\n",
      "|   9|   46|\n",
      "|  10|   30|\n",
      "|  11|   19|\n",
      "|  12|   37|\n",
      "|  13|   29|\n",
      "|  14|   33|\n",
      "|  15|   20|\n",
      "|  16|   31|\n",
      "|  17|   28|\n",
      "|  18|   42|\n",
      "|  19|   19|\n",
      "|  20|   26|\n",
      "+----+-----+\n",
      "only showing top 20 rows\n",
      "\n"
     ]
    }
   ],
   "source": [
    "process_start.show()"
   ]
  },
  {
   "cell_type": "code",
   "execution_count": 11,
   "metadata": {},
   "outputs": [
    {
     "name": "stdout",
     "output_type": "stream",
     "text": [
      "+----+-----+\n",
      "|time|count|\n",
      "+----+-----+\n",
      "|   1|    8|\n",
      "|   2|    2|\n",
      "|   3|    2|\n",
      "|   4|    2|\n",
      "|   5|    1|\n",
      "|   6|    1|\n",
      "|   7|    1|\n",
      "|   8|    1|\n",
      "|  11|    1|\n",
      "|  12|    1|\n",
      "|  13|    1|\n",
      "|  14|    1|\n",
      "|  15|    1|\n",
      "|  16|    1|\n",
      "|  23|    1|\n",
      "|  25|    3|\n",
      "|  26|    2|\n",
      "|  29|    1|\n",
      "|  30|    2|\n",
      "|  31|    2|\n",
      "+----+-----+\n",
      "only showing top 20 rows\n",
      "\n"
     ]
    }
   ],
   "source": [
    "failed_logon.show()"
   ]
  },
  {
   "cell_type": "markdown",
   "metadata": {},
   "source": [
    "## Data Analysis"
   ]
  },
  {
   "cell_type": "code",
   "execution_count": 5,
   "metadata": {},
   "outputs": [],
   "source": [
    "# proc_domains = proc.select('domain').distinct()\n",
    "# proc_users = proc.select('user').distinct()"
   ]
  },
  {
   "cell_type": "code",
   "execution_count": 13,
   "metadata": {},
   "outputs": [],
   "source": [
    "# proc_domains.coalesce(1).write.csv('domains.csv')\n",
    "# proc_users.coalesce(1).write.csv('users.csv')"
   ]
  },
  {
   "cell_type": "code",
   "execution_count": 60,
   "metadata": {},
   "outputs": [
    {
     "name": "stdout",
     "output_type": "stream",
     "text": [
      "+----+-----------+---------+-----+\n",
      "|time|user@domain|proc_name|start|\n",
      "+----+-----------+---------+-----+\n",
      "|   0|          0|        0|    0|\n",
      "+----+-----------+---------+-----+\n",
      "\n"
     ]
    }
   ],
   "source": [
    "# proc.select(*(sum(col(c).isNull().cast(\"int\")).alias(c) for c in proc.columns)).show()"
   ]
  },
  {
   "cell_type": "code",
   "execution_count": 17,
   "metadata": {},
   "outputs": [
    {
     "name": "stdout",
     "output_type": "stream",
     "text": [
      "+----+--------+---------+---------+----------+-----------+-------+--------+-------+---------+--------+----+\n",
      "|time|src_comp|dest_comp|auth_type|logon_type|auth_orient|success|src_user|src_dmn|dest_user|dest_dmn|type|\n",
      "+----+--------+---------+---------+----------+-----------+-------+--------+-------+---------+--------+----+\n",
      "|   1|       1|        1|        1|         1|          1|      1|       1|      1|        1|       1|   0|\n",
      "+----+--------+---------+---------+----------+-----------+-------+--------+-------+---------+--------+----+\n",
      "\n"
     ]
    }
   ],
   "source": [
    "auth.select(*(sum(F.col(c).isNull().cast(\"int\")).alias(c) for c in auth.columns)).show()"
   ]
  },
  {
   "cell_type": "code",
   "execution_count": 77,
   "metadata": {},
   "outputs": [
    {
     "name": "stdout",
     "output_type": "stream",
     "text": [
      "+-------+\n",
      "|success|\n",
      "+-------+\n",
      "|Success|\n",
      "|   Fail|\n",
      "+-------+\n",
      "\n"
     ]
    }
   ],
   "source": [
    "auth.select('success').distinct().show()"
   ]
  },
  {
   "cell_type": "code",
   "execution_count": 59,
   "metadata": {},
   "outputs": [
    {
     "name": "stdout",
     "output_type": "stream",
     "text": [
      "+----+---------------+----------------+--------+---------+---------+----------+----------------+-------+\n",
      "|time|src_user@domain|dest_user@domain|src_comp|dest_comp|auth_type|logon_type|auth_orientation|success|\n",
      "+----+---------------+----------------+--------+---------+---------+----------+----------------+-------+\n",
      "|   0|              0|               0|       0|        0|        0|         0|               0|      0|\n",
      "+----+---------------+----------------+--------+---------+---------+----------+----------------+-------+\n",
      "\n"
     ]
    }
   ],
   "source": [
    "auth.select(*(sum(col(c).isNull().cast(\"int\")).alias(c) for c in auth.columns)).show()"
   ]
  },
  {
   "cell_type": "code",
   "execution_count": 32,
   "metadata": {},
   "outputs": [
    {
     "name": "stdout",
     "output_type": "stream",
     "text": [
      "+-----+--------+--------+-------+---------+--------+--------+-------+-------+------------+\n",
      "| time|duration|src_comp|src_prt|dest_comp|dest_prt|protocol|pkt_cnt|byt_cnt|avg_pkt_size|\n",
      "+-----+--------+--------+-------+---------+--------+--------+-------+-------+------------+\n",
      "|41972|       0|   C1654|     80|   C13742|   N4427|       6|      2|     92|        46.0|\n",
      "|41974|      38|   C1015|   N221|    C8681|   N2153|       6|      2|     92|        46.0|\n",
      "|41972|       0|   C7632|   N294|   C20510|  N18962|       6|      1|     46|        46.0|\n",
      "|41970|       0|   C8974|  N4126|    C5787|  N30556|       6|      1|     46|        46.0|\n",
      "|41972|      38|   C1015|   N221|    C8964|   N2024|       6|      2|     92|        46.0|\n",
      "|41971|       0|  C14402|  N9113|     C585|     139|       6|      1|     46|        46.0|\n",
      "|41972|      60|  C11149|  N2801|    C2588|     N76|       6|      4|    184|        46.0|\n",
      "|41971|       0|   C3873|     80|    C3959|   N3771|       6|      2|     92|        46.0|\n",
      "|41973|       0|  C15166|  N5899|     C706|      80|       6|      1|     46|        46.0|\n",
      "|41971|       0|   C3959|  N3771|    C3873|      80|       6|      2|     92|        46.0|\n",
      "|41973|       0|  C20373|    445|   C11693|   N1037|       6|      1|     46|        46.0|\n",
      "|41971|       0|    C585|    445|     C947|   N6237|       6|      1|     46|        46.0|\n",
      "|41973|       0|   C4127| N16069|     C706|      80|       6|      1|     46|        46.0|\n",
      "|41971|      38|   C1015|   N221|     C184|   N2038|       6|      2|     92|        46.0|\n",
      "|41973|       0|   C7244| N18458|    C2008|     139|       6|      1|     46|        46.0|\n",
      "|41971|      60|   C7386|  N2843|    C2588|     N76|       6|      3|    138|        46.0|\n",
      "|41973|      60|   C2588|    N76|    C4905|    N179|       6|      3|    138|        46.0|\n",
      "|41973|      60|   C4905|   N179|    C2588|     N76|       6|      3|    138|        46.0|\n",
      "|41974|       0|   C8167|  N9273|     C585|     139|       6|      1|     46|        46.0|\n",
      "|41973|      60|   C9851|  N2783|    C2588|     N76|       6|      3|    138|        46.0|\n",
      "+-----+--------+--------+-------+---------+--------+--------+-------+-------+------------+\n",
      "only showing top 20 rows\n",
      "\n"
     ]
    }
   ],
   "source": [
    "flows.orderBy(\"avg_pkt_size\").show()"
   ]
  },
  {
   "cell_type": "code",
   "execution_count": 49,
   "metadata": {},
   "outputs": [
    {
     "name": "stdout",
     "output_type": "stream",
     "text": [
      "+----+--------+--------+-------+---------+--------+--------+-------+-------+------------+\n",
      "|time|duration|src_comp|src_prt|dest_comp|dest_prt|protocol|pkt_cnt|byt_cnt|avg_pkt_size|\n",
      "+----+--------+--------+-------+---------+--------+--------+-------+-------+------------+\n",
      "|   0|       0|       0|      0|        0|       0|       0|      0|      0|           0|\n",
      "+----+--------+--------+-------+---------+--------+--------+-------+-------+------------+\n",
      "\n"
     ]
    }
   ],
   "source": [
    "flows.select([count(when(isnan(c)|col(c).isNull(), c)).alias(c) for c in flows.columns]).show()"
   ]
  },
  {
   "cell_type": "code",
   "execution_count": 54,
   "metadata": {},
   "outputs": [
    {
     "name": "stdout",
     "output_type": "stream",
     "text": [
      "+----+--------+------------+\n",
      "|time|src_comp|cmp_resolved|\n",
      "+----+--------+------------+\n",
      "|   0|       0|           0|\n",
      "+----+--------+------------+\n",
      "\n"
     ]
    }
   ],
   "source": [
    "dns.select(*(sum(col(c).isNull().cast(\"int\")).alias(c) for c in dns.columns)).show()"
   ]
  },
  {
   "cell_type": "code",
   "execution_count": 25,
   "metadata": {},
   "outputs": [
    {
     "name": "stdout",
     "output_type": "stream",
     "text": [
      "root\n",
      " |-- time: date (nullable = true)\n",
      " |-- src_comp: string (nullable = true)\n",
      " |-- cmp_resolved: string (nullable = true)\n",
      "\n"
     ]
    }
   ],
   "source": [
    "dns.printSchema()"
   ]
  },
  {
   "cell_type": "code",
   "execution_count": 10,
   "metadata": {},
   "outputs": [
    {
     "name": "stdout",
     "output_type": "stream",
     "text": [
      "+----+-----------+-----+---------+-----+\n",
      "|time|user@domain| comp|proc_name|start|\n",
      "+----+-----------+-----+---------+-----+\n",
      "|   1|   C1$@DOM1|   C1|      P16|Start|\n",
      "|   1|C1001$@DOM1|C1001|       P4|Start|\n",
      "|   1|C1002$@DOM1|C1002|       P4|Start|\n",
      "|   1|C1004$@DOM1|C1004|       P4|Start|\n",
      "|   1|C1017$@DOM1|C1017|       P4|Start|\n",
      "|   1|C1018$@DOM1|C1018|       P4|Start|\n",
      "|   1|C1020$@DOM1|C1020|       P3|Start|\n",
      "|   1|C1020$@DOM1|C1020|       P4|Start|\n",
      "|   1|C1028$@DOM1|C1028|      P16|  End|\n",
      "|   1|C1029$@DOM1|C1029|       P4|Start|\n",
      "|   1|C1030$@DOM1|C1030|       P4|Start|\n",
      "|   1|C1032$@DOM1|C1032|       P4|Start|\n",
      "|   1|C1035$@DOM1|C1035|      P37|Start|\n",
      "|   1|C1035$@DOM1|C1035|       P5|Start|\n",
      "|   1|C1051$@DOM1|C1051|      P16|Start|\n",
      "|   1|C1069$@DOM1|C1069|       P3|Start|\n",
      "|   1|C1069$@DOM1|C1069|       P4|Start|\n",
      "|   1|C1079$@DOM1|C1079|       P4|Start|\n",
      "|   1|C1084$@DOM1|C1084|       P4|Start|\n",
      "|   1|C1088$@DOM1|C1088|       P4|Start|\n",
      "+----+-----------+-----+---------+-----+\n",
      "only showing top 20 rows\n",
      "\n"
     ]
    }
   ],
   "source": [
    "proc.show()"
   ]
  },
  {
   "cell_type": "code",
   "execution_count": 20,
   "metadata": {},
   "outputs": [
    {
     "name": "stdout",
     "output_type": "stream",
     "text": [
      "root\n",
      " |-- time: date (nullable = true)\n",
      " |-- user@domain: string (nullable = true)\n",
      " |-- src_comp: string (nullable = true)\n",
      " |-- dst_comp: string (nullable = true)\n",
      "\n"
     ]
    }
   ],
   "source": [
    "redteam.printSchema()"
   ]
  },
  {
   "cell_type": "code",
   "execution_count": 6,
   "metadata": {},
   "outputs": [],
   "source": [
    "from pyspark.sql.functions import lit, unix_timestamp\n",
    "start = datetime.date(2018,1,1)\n",
    "#datetime.timestamp(2018,1,1,12,0,0)\n",
    "\n"
   ]
  },
  {
   "cell_type": "code",
   "execution_count": 7,
   "metadata": {},
   "outputs": [
    {
     "data": {
      "text/plain": [
       "datetime.datetime(2018, 1, 3, 15, 22, 30)"
      ]
     },
     "execution_count": 7,
     "metadata": {},
     "output_type": "execute_result"
    }
   ],
   "source": [
    "datetime.datetime.fromtimestamp(time.mktime(start.timetuple()) + 228150)"
   ]
  },
  {
   "cell_type": "code",
   "execution_count": 8,
   "metadata": {},
   "outputs": [],
   "source": [
    "func = udf (lambda x: datetime.datetime.fromtimestamp(time.mktime(start.timetuple()) + x).date(),DateType() )"
   ]
  },
  {
   "cell_type": "code",
   "execution_count": 9,
   "metadata": {},
   "outputs": [
    {
     "ename": "SyntaxError",
     "evalue": "invalid syntax (<ipython-input-9-48ac7615f935>, line 1)",
     "output_type": "error",
     "traceback": [
      "\u001b[1;36m  File \u001b[1;32m\"<ipython-input-9-48ac7615f935>\"\u001b[1;36m, line \u001b[1;32m1\u001b[0m\n\u001b[1;33m    redteam1 = redteam.withColumn(\"timestam\", redteam.select(\"time\")),'yyyy-MM-dd HH:mm:ss').cast(\"timestamp\") )\u001b[0m\n\u001b[1;37m                                                                                           ^\u001b[0m\n\u001b[1;31mSyntaxError\u001b[0m\u001b[1;31m:\u001b[0m invalid syntax\n"
     ]
    }
   ],
   "source": [
    "redteam1 = redteam.withColumn(\"timestam\", redteam.select(\"time\")),'yyyy-MM-dd HH:mm:ss').cast(\"timestamp\") )"
   ]
  },
  {
   "cell_type": "code",
   "execution_count": 10,
   "metadata": {},
   "outputs": [],
   "source": [
    "import time\n",
    "\n",
    "time_update = udf(lambda x: time.strftime('%m/%d %H:%M:%S', time.gmtime(x)))\n",
    "\n",
    "#timestam = time.strftime('%m/%d %H:%M:%S', time.gmtime(redteam.select(\"time\")))"
   ]
  },
  {
   "cell_type": "code",
   "execution_count": 23,
   "metadata": {},
   "outputs": [
    {
     "name": "stdout",
     "output_type": "stream",
     "text": [
      "+------+--------------+\n",
      "|  time|      timestam|\n",
      "+------+--------------+\n",
      "|150885|01/02 17:54:45|\n",
      "|151036|01/02 17:57:16|\n",
      "|151648|01/02 18:07:28|\n",
      "|151993|01/02 18:13:13|\n",
      "|153792|01/02 18:43:12|\n",
      "|155219|01/02 19:06:59|\n",
      "|155399|01/02 19:09:59|\n",
      "|155460|01/02 19:11:00|\n",
      "|155591|01/02 19:13:11|\n",
      "|156658|01/02 19:30:58|\n",
      "|210086|01/03 10:21:26|\n",
      "|210294|01/03 10:24:54|\n",
      "|210312|01/03 10:25:12|\n",
      "|218418|01/03 12:40:18|\n",
      "|227052|01/03 15:04:12|\n",
      "|227408|01/03 15:10:08|\n",
      "|227520|01/03 15:12:00|\n",
      "|227780|01/03 15:16:20|\n",
      "|228024|01/03 15:20:24|\n",
      "|228150|01/03 15:22:30|\n",
      "+------+--------------+\n",
      "only showing top 20 rows\n",
      "\n"
     ]
    }
   ],
   "source": [
    "redteam1.show()"
   ]
  },
  {
   "cell_type": "code",
   "execution_count": null,
   "metadata": {},
   "outputs": [],
   "source": []
  }
 ],
 "metadata": {
  "kernelspec": {
   "display_name": "Python 3",
   "language": "python",
   "name": "python3"
  },
  "language_info": {
   "codemirror_mode": {
    "name": "ipython",
    "version": 3
   },
   "file_extension": ".py",
   "mimetype": "text/x-python",
   "name": "python",
   "nbconvert_exporter": "python",
   "pygments_lexer": "ipython3",
   "version": "3.6.5"
  }
 },
 "nbformat": 4,
 "nbformat_minor": 2
}
