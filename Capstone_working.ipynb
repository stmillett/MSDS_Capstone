{
 "cells": [
  {
   "cell_type": "code",
   "execution_count": 4,
   "metadata": {},
   "outputs": [],
   "source": [
    "import pyspark as spark\n",
    "import datetime, time\n",
    "import pandas as pd\n",
    "from pyspark.sql.types import (StructField, StringType,FloatType, \n",
    "                               DoubleType, IntegerType, StructType,\n",
    "                              DateType)\n",
    "from pyspark.sql.functions import (format_number, isnan, when, count, col, lit, \n",
    "                                   sum, split, udf, current_date, unix_timestamp)"
   ]
  },
  {
   "cell_type": "code",
   "execution_count": 5,
   "metadata": {},
   "outputs": [],
   "source": [
    "from pyspark.sql import SparkSession\n",
    "spark = SparkSession \\\n",
    "        .builder \\\n",
    "        .appName('Python Spark SQL basic example') \\\n",
    "        .config('spark.some.config.option','some-value') \\\n",
    "        .getOrCreate()"
   ]
  },
  {
   "cell_type": "markdown",
   "metadata": {},
   "source": [
    "## Import DATA"
   ]
  },
  {
   "cell_type": "code",
   "execution_count": 6,
   "metadata": {},
   "outputs": [],
   "source": [
    "proc_data_schema = [StructField('time',IntegerType(),True),\n",
    "                   StructField('user@domain',StringType(),True),\n",
    "                   StructField('comp',StringType(),True),\n",
    "                   StructField('proc_name',StringType(),True),\n",
    "                   StructField('start',StringType(),True)]\n",
    "proc_final_struc = StructType(fields = proc_data_schema)\n",
    "proc = spark.read.csv('E:/Data Science/Capstone/Dataset/proc.txt',schema=proc_final_struc)\n",
    "\n",
    "auth_data_schema = [StructField('time',IntegerType(),True),\n",
    "                   StructField('src_user@domain',StringType(),True),\n",
    "                   StructField('dest_user@domain',StringType(),True),\n",
    "                   StructField('src_comp',StringType(),True),\n",
    "                   StructField('dest_comp',StringType(),True),\n",
    "                   StructField('auth_type',StringType(),True),\n",
    "                   StructField('logon_type',StringType(),True),\n",
    "                   StructField('auth_orientation',StringType(),True),\n",
    "                   StructField('success',StringType(),True)]\n",
    "auth_final_struc = StructType(fields = auth_data_schema)\n",
    "auth = spark.read.csv('E:/Data Science/Capstone/Dataset/auth.txt',schema=auth_final_struc )\n",
    "\n",
    "flows_data_schema = [StructField('time',IntegerType(),False),\n",
    "                   StructField('duration',IntegerType(),False),\n",
    "                   StructField('src_comp',StringType(),False),\n",
    "                   StructField('src_prt',StringType(),False),\n",
    "                   StructField('dest_comp',StringType(),False),\n",
    "                   StructField('dest_prt',StringType(),False),\n",
    "                   StructField('protocol',StringType(),False),\n",
    "                   StructField('pkt_cnt',IntegerType(),False),\n",
    "                   StructField('byt_cnt',IntegerType(),False)]\n",
    "flows_final_struc = StructType(fields = flows_data_schema)\n",
    "flows = spark.read.csv('E:/Data Science/Capstone/Dataset/flows.txt',schema=flows_final_struc )\n",
    "\n",
    "dns_data_schema = [StructField('time',DateType(),True),\n",
    "                   StructField('src_comp',StringType(),True),\n",
    "                   StructField('cmp_resolved',StringType(),True)]\n",
    "dns_final_struc = StructType(fields = dns_data_schema)\n",
    "dns = spark.read.csv('E:/Data Science/Capstone/Dataset/dns.txt',schema=dns_final_struc)\n",
    "\n",
    "redteam_data_schema = [StructField('time',IntegerType(),True),\n",
    "                   StructField('user@domain',StringType(),True),\n",
    "                   StructField('src_comp',StringType(),True),\n",
    "                   StructField('dst_comp',StringType(),True)]\n",
    "redteam_final_struc = StructType(fields = redteam_data_schema)\n",
    "redteam = spark.read.csv('E:/Data Science/Capstone/Dataset/redteam.txt',schema=redteam_final_struc)"
   ]
  },
  {
   "cell_type": "markdown",
   "metadata": {},
   "source": [
    "## Transform Data"
   ]
  },
  {
   "cell_type": "code",
   "execution_count": 66,
   "metadata": {},
   "outputs": [],
   "source": [
    "proc_split = split(proc['user@domain'],'@')\n",
    "proc = proc.withColumn('user',proc_split.getItem(0))\n",
    "proc = proc.withColumn('domain',proc_split.getItem(1))\n",
    "proc = proc.drop('user@domain')\n",
    "\n",
    "proc = proc.withColumn('type',lit('Process'))"
   ]
  },
  {
   "cell_type": "code",
   "execution_count": 67,
   "metadata": {},
   "outputs": [],
   "source": [
    "auth_src_split = split(auth['src_user@domain'],'@')\n",
    "auth = auth.withColumn('src_user',auth_src_split.getItem(0))\n",
    "auth = auth.withColumn('src_dmn',auth_src_split.getItem(1))\n",
    "\n",
    "auth_dest_split = split(auth['dest_user@domain'],'@')\n",
    "auth = auth.withColumn('dest_user',auth_dest_split.getItem(0))\n",
    "auth = auth.withColumn('dest_dmn',auth_dest_split.getItem(1))\n",
    "\n",
    "auth = auth.drop('src_user@domain','dest_user@domain')\n",
    "\n",
    "auth = auth.withColumn('type',lit('Authorization'))"
   ]
  },
  {
   "cell_type": "code",
   "execution_count": 68,
   "metadata": {},
   "outputs": [],
   "source": [
    "redteam_split = split(redteam['user@domain'],'@')\n",
    "redteam = redteam.withColumn('src_user',redteam_split.getItem(0))\n",
    "redteam = redteam.withColumn('src_dmn',redteam_split.getItem(1))\n",
    "\n",
    "redteam = redteam.drop('user@domain')\n",
    "\n",
    "redteam = redteam.withColumn('type',lit('RedTeam'))"
   ]
  },
  {
   "cell_type": "code",
   "execution_count": 22,
   "metadata": {},
   "outputs": [],
   "source": [
    "redteam1 = redteam.rdd.map(lambda x: (x['time'], time.strftime('%m/%d %H:%M:%S', time.gmtime(x['time']) ))).toDF(['time','timestam'])"
   ]
  },
  {
   "cell_type": "code",
   "execution_count": 28,
   "metadata": {},
   "outputs": [],
   "source": [
    "\n",
    "flows = flows.withColumn('avg_pkt_size', (flows['byt_cnt']/flows['pkt_cnt']).cast(DoubleType()))\n",
    "flows = flows.na.drop(how='all')\n",
    "\n",
    "flows = flows.withColumn('type',lit('DataFlow'))\n",
    "\n",
    "#flows.select(format_number('avg_pkt_size',2).alias('avg_pkt_size'))"
   ]
  },
  {
   "cell_type": "code",
   "execution_count": null,
   "metadata": {},
   "outputs": [],
   "source": [
    "                   StructField('auth_type',StringType(),True),\n",
    "                   StructField('logon_type',StringType(),True),\n",
    "                   StructField('auth_orientation',StringType(),True),\n",
    "                   StructField('success',StringType(),True)]"
   ]
  },
  {
   "cell_type": "code",
   "execution_count": 69,
   "metadata": {},
   "outputs": [
    {
     "ename": "AnalysisException",
     "evalue": "\"Union can only be performed on tables with the same number of columns, but the first table has 12 columns and the second table has 6 columns;;\\n'Union\\n:- AnalysisBarrier\\n:     +- Project [time#1259, src_comp#1262, dest_comp#1263, auth_type#1264, logon_type#1265, auth_orientation#1266, success#1267, src_user#1338, src_dmn#1349, dest_user#1361, dest_dmn#1374, Authorization AS type#1399]\\n:        +- Project [time#1259, src_comp#1262, dest_comp#1263, auth_type#1264, logon_type#1265, auth_orientation#1266, success#1267, src_user#1338, src_dmn#1349, dest_user#1361, dest_dmn#1374]\\n:           +- Project [time#1259, src_user@domain#1260, dest_user@domain#1261, src_comp#1262, dest_comp#1263, auth_type#1264, logon_type#1265, auth_orientation#1266, success#1267, src_user#1338, src_dmn#1349, dest_user#1361, split(dest_user@domain#1261, @)[1] AS dest_dmn#1374]\\n:              +- Project [time#1259, src_user@domain#1260, dest_user@domain#1261, src_comp#1262, dest_comp#1263, auth_type#1264, logon_type#1265, auth_orientation#1266, success#1267, src_user#1338, src_dmn#1349, split(dest_user@domain#1261, @)[0] AS dest_user#1361]\\n:                 +- Project [time#1259, src_user@domain#1260, dest_user@domain#1261, src_comp#1262, dest_comp#1263, auth_type#1264, logon_type#1265, auth_orientation#1266, success#1267, src_user#1338, split(src_user@domain#1260, @)[1] AS src_dmn#1349]\\n:                    +- Project [time#1259, src_user@domain#1260, dest_user@domain#1261, src_comp#1262, dest_comp#1263, auth_type#1264, logon_type#1265, auth_orientation#1266, success#1267, split(src_user@domain#1260, @)[0] AS src_user#1338]\\n:                       +- Relation[time#1259,src_user@domain#1260,dest_user@domain#1261,src_comp#1262,dest_comp#1263,auth_type#1264,logon_type#1265,auth_orientation#1266,success#1267] csv\\n+- AnalysisBarrier\\n      +- Project [time#1301, src_comp#1303, dst_comp#1304, src_user#1412, src_dmn#1418, RedTeam AS type#1430]\\n         +- Project [time#1301, src_comp#1303, dst_comp#1304, src_user#1412, src_dmn#1418]\\n            +- Project [time#1301, user@domain#1302, src_comp#1303, dst_comp#1304, src_user#1412, split(user@domain#1302, @)[1] AS src_dmn#1418]\\n               +- Project [time#1301, user@domain#1302, src_comp#1303, dst_comp#1304, split(user@domain#1302, @)[0] AS src_user#1412]\\n                  +- Relation[time#1301,user@domain#1302,src_comp#1303,dst_comp#1304] csv\\n\"",
     "output_type": "error",
     "traceback": [
      "\u001b[1;31m---------------------------------------------------------------------------\u001b[0m",
      "\u001b[1;31mPy4JJavaError\u001b[0m                             Traceback (most recent call last)",
      "\u001b[1;32m~\\Anaconda2\\envs\\snakes\\lib\\site-packages\\pyspark\\sql\\utils.py\u001b[0m in \u001b[0;36mdeco\u001b[1;34m(*a, **kw)\u001b[0m\n\u001b[0;32m     62\u001b[0m         \u001b[1;32mtry\u001b[0m\u001b[1;33m:\u001b[0m\u001b[1;33m\u001b[0m\u001b[0m\n\u001b[1;32m---> 63\u001b[1;33m             \u001b[1;32mreturn\u001b[0m \u001b[0mf\u001b[0m\u001b[1;33m(\u001b[0m\u001b[1;33m*\u001b[0m\u001b[0ma\u001b[0m\u001b[1;33m,\u001b[0m \u001b[1;33m**\u001b[0m\u001b[0mkw\u001b[0m\u001b[1;33m)\u001b[0m\u001b[1;33m\u001b[0m\u001b[0m\n\u001b[0m\u001b[0;32m     64\u001b[0m         \u001b[1;32mexcept\u001b[0m \u001b[0mpy4j\u001b[0m\u001b[1;33m.\u001b[0m\u001b[0mprotocol\u001b[0m\u001b[1;33m.\u001b[0m\u001b[0mPy4JJavaError\u001b[0m \u001b[1;32mas\u001b[0m \u001b[0me\u001b[0m\u001b[1;33m:\u001b[0m\u001b[1;33m\u001b[0m\u001b[0m\n",
      "\u001b[1;32m~\\Anaconda2\\envs\\snakes\\lib\\site-packages\\py4j\\protocol.py\u001b[0m in \u001b[0;36mget_return_value\u001b[1;34m(answer, gateway_client, target_id, name)\u001b[0m\n\u001b[0;32m    327\u001b[0m                     \u001b[1;34m\"An error occurred while calling {0}{1}{2}.\\n\"\u001b[0m\u001b[1;33m.\u001b[0m\u001b[1;33m\u001b[0m\u001b[0m\n\u001b[1;32m--> 328\u001b[1;33m                     format(target_id, \".\", name), value)\n\u001b[0m\u001b[0;32m    329\u001b[0m             \u001b[1;32melse\u001b[0m\u001b[1;33m:\u001b[0m\u001b[1;33m\u001b[0m\u001b[0m\n",
      "\u001b[1;31mPy4JJavaError\u001b[0m: An error occurred while calling o934.union.\n: org.apache.spark.sql.AnalysisException: Union can only be performed on tables with the same number of columns, but the first table has 12 columns and the second table has 6 columns;;\n'Union\n:- AnalysisBarrier\n:     +- Project [time#1259, src_comp#1262, dest_comp#1263, auth_type#1264, logon_type#1265, auth_orientation#1266, success#1267, src_user#1338, src_dmn#1349, dest_user#1361, dest_dmn#1374, Authorization AS type#1399]\n:        +- Project [time#1259, src_comp#1262, dest_comp#1263, auth_type#1264, logon_type#1265, auth_orientation#1266, success#1267, src_user#1338, src_dmn#1349, dest_user#1361, dest_dmn#1374]\n:           +- Project [time#1259, src_user@domain#1260, dest_user@domain#1261, src_comp#1262, dest_comp#1263, auth_type#1264, logon_type#1265, auth_orientation#1266, success#1267, src_user#1338, src_dmn#1349, dest_user#1361, split(dest_user@domain#1261, @)[1] AS dest_dmn#1374]\n:              +- Project [time#1259, src_user@domain#1260, dest_user@domain#1261, src_comp#1262, dest_comp#1263, auth_type#1264, logon_type#1265, auth_orientation#1266, success#1267, src_user#1338, src_dmn#1349, split(dest_user@domain#1261, @)[0] AS dest_user#1361]\n:                 +- Project [time#1259, src_user@domain#1260, dest_user@domain#1261, src_comp#1262, dest_comp#1263, auth_type#1264, logon_type#1265, auth_orientation#1266, success#1267, src_user#1338, split(src_user@domain#1260, @)[1] AS src_dmn#1349]\n:                    +- Project [time#1259, src_user@domain#1260, dest_user@domain#1261, src_comp#1262, dest_comp#1263, auth_type#1264, logon_type#1265, auth_orientation#1266, success#1267, split(src_user@domain#1260, @)[0] AS src_user#1338]\n:                       +- Relation[time#1259,src_user@domain#1260,dest_user@domain#1261,src_comp#1262,dest_comp#1263,auth_type#1264,logon_type#1265,auth_orientation#1266,success#1267] csv\n+- AnalysisBarrier\n      +- Project [time#1301, src_comp#1303, dst_comp#1304, src_user#1412, src_dmn#1418, RedTeam AS type#1430]\n         +- Project [time#1301, src_comp#1303, dst_comp#1304, src_user#1412, src_dmn#1418]\n            +- Project [time#1301, user@domain#1302, src_comp#1303, dst_comp#1304, src_user#1412, split(user@domain#1302, @)[1] AS src_dmn#1418]\n               +- Project [time#1301, user@domain#1302, src_comp#1303, dst_comp#1304, split(user@domain#1302, @)[0] AS src_user#1412]\n                  +- Relation[time#1301,user@domain#1302,src_comp#1303,dst_comp#1304] csv\n\r\n\tat org.apache.spark.sql.catalyst.analysis.CheckAnalysis$class.failAnalysis(CheckAnalysis.scala:41)\r\n\tat org.apache.spark.sql.catalyst.analysis.Analyzer.failAnalysis(Analyzer.scala:92)\r\n\tat org.apache.spark.sql.catalyst.analysis.CheckAnalysis$$anonfun$checkAnalysis$1$$anonfun$apply$11.apply(CheckAnalysis.scala:245)\r\n\tat org.apache.spark.sql.catalyst.analysis.CheckAnalysis$$anonfun$checkAnalysis$1$$anonfun$apply$11.apply(CheckAnalysis.scala:242)\r\n\tat scala.collection.immutable.List.foreach(List.scala:381)\r\n\tat org.apache.spark.sql.catalyst.analysis.CheckAnalysis$$anonfun$checkAnalysis$1.apply(CheckAnalysis.scala:242)\r\n\tat org.apache.spark.sql.catalyst.analysis.CheckAnalysis$$anonfun$checkAnalysis$1.apply(CheckAnalysis.scala:80)\r\n\tat org.apache.spark.sql.catalyst.trees.TreeNode.foreachUp(TreeNode.scala:127)\r\n\tat org.apache.spark.sql.catalyst.analysis.CheckAnalysis$class.checkAnalysis(CheckAnalysis.scala:80)\r\n\tat org.apache.spark.sql.catalyst.analysis.Analyzer.checkAnalysis(Analyzer.scala:92)\r\n\tat org.apache.spark.sql.catalyst.analysis.Analyzer.executeAndCheck(Analyzer.scala:105)\r\n\tat org.apache.spark.sql.execution.QueryExecution.analyzed$lzycompute(QueryExecution.scala:57)\r\n\tat org.apache.spark.sql.execution.QueryExecution.analyzed(QueryExecution.scala:55)\r\n\tat org.apache.spark.sql.execution.QueryExecution.assertAnalyzed(QueryExecution.scala:47)\r\n\tat org.apache.spark.sql.Dataset$.ofRows(Dataset.scala:74)\r\n\tat org.apache.spark.sql.Dataset.withSetOperator(Dataset.scala:3308)\r\n\tat org.apache.spark.sql.Dataset.union(Dataset.scala:1829)\r\n\tat sun.reflect.NativeMethodAccessorImpl.invoke0(Native Method)\r\n\tat sun.reflect.NativeMethodAccessorImpl.invoke(Unknown Source)\r\n\tat sun.reflect.DelegatingMethodAccessorImpl.invoke(Unknown Source)\r\n\tat java.lang.reflect.Method.invoke(Unknown Source)\r\n\tat py4j.reflection.MethodInvoker.invoke(MethodInvoker.java:244)\r\n\tat py4j.reflection.ReflectionEngine.invoke(ReflectionEngine.java:357)\r\n\tat py4j.Gateway.invoke(Gateway.java:282)\r\n\tat py4j.commands.AbstractCommand.invokeMethod(AbstractCommand.java:132)\r\n\tat py4j.commands.CallCommand.execute(CallCommand.java:79)\r\n\tat py4j.GatewayConnection.run(GatewayConnection.java:238)\r\n\tat java.lang.Thread.run(Unknown Source)\r\n",
      "\nDuring handling of the above exception, another exception occurred:\n",
      "\u001b[1;31mAnalysisException\u001b[0m                         Traceback (most recent call last)",
      "\u001b[1;32m<ipython-input-69-0c3fe31a8642>\u001b[0m in \u001b[0;36m<module>\u001b[1;34m()\u001b[0m\n\u001b[1;32m----> 1\u001b[1;33m \u001b[0mmaster\u001b[0m \u001b[1;33m=\u001b[0m \u001b[0mauth\u001b[0m\u001b[1;33m.\u001b[0m\u001b[0munion\u001b[0m\u001b[1;33m(\u001b[0m\u001b[0mredteam\u001b[0m\u001b[1;33m)\u001b[0m\u001b[1;33m\u001b[0m\u001b[0m\n\u001b[0m",
      "\u001b[1;32m~\\Anaconda2\\envs\\snakes\\lib\\site-packages\\pyspark\\sql\\dataframe.py\u001b[0m in \u001b[0;36munion\u001b[1;34m(self, other)\u001b[0m\n\u001b[0;32m   1336\u001b[0m         \u001b[0mAlso\u001b[0m \u001b[1;32mas\u001b[0m \u001b[0mstandard\u001b[0m \u001b[1;32min\u001b[0m \u001b[0mSQL\u001b[0m\u001b[1;33m,\u001b[0m \u001b[0mthis\u001b[0m \u001b[0mfunction\u001b[0m \u001b[0mresolves\u001b[0m \u001b[0mcolumns\u001b[0m \u001b[0mby\u001b[0m \u001b[0mposition\u001b[0m \u001b[1;33m(\u001b[0m\u001b[1;32mnot\u001b[0m \u001b[0mby\u001b[0m \u001b[0mname\u001b[0m\u001b[1;33m)\u001b[0m\u001b[1;33m.\u001b[0m\u001b[1;33m\u001b[0m\u001b[0m\n\u001b[0;32m   1337\u001b[0m         \"\"\"\n\u001b[1;32m-> 1338\u001b[1;33m         \u001b[1;32mreturn\u001b[0m \u001b[0mDataFrame\u001b[0m\u001b[1;33m(\u001b[0m\u001b[0mself\u001b[0m\u001b[1;33m.\u001b[0m\u001b[0m_jdf\u001b[0m\u001b[1;33m.\u001b[0m\u001b[0munion\u001b[0m\u001b[1;33m(\u001b[0m\u001b[0mother\u001b[0m\u001b[1;33m.\u001b[0m\u001b[0m_jdf\u001b[0m\u001b[1;33m)\u001b[0m\u001b[1;33m,\u001b[0m \u001b[0mself\u001b[0m\u001b[1;33m.\u001b[0m\u001b[0msql_ctx\u001b[0m\u001b[1;33m)\u001b[0m\u001b[1;33m\u001b[0m\u001b[0m\n\u001b[0m\u001b[0;32m   1339\u001b[0m \u001b[1;33m\u001b[0m\u001b[0m\n\u001b[0;32m   1340\u001b[0m     \u001b[1;33m@\u001b[0m\u001b[0msince\u001b[0m\u001b[1;33m(\u001b[0m\u001b[1;36m1.3\u001b[0m\u001b[1;33m)\u001b[0m\u001b[1;33m\u001b[0m\u001b[0m\n",
      "\u001b[1;32m~\\Anaconda2\\envs\\snakes\\lib\\site-packages\\py4j\\java_gateway.py\u001b[0m in \u001b[0;36m__call__\u001b[1;34m(self, *args)\u001b[0m\n\u001b[0;32m   1255\u001b[0m         \u001b[0manswer\u001b[0m \u001b[1;33m=\u001b[0m \u001b[0mself\u001b[0m\u001b[1;33m.\u001b[0m\u001b[0mgateway_client\u001b[0m\u001b[1;33m.\u001b[0m\u001b[0msend_command\u001b[0m\u001b[1;33m(\u001b[0m\u001b[0mcommand\u001b[0m\u001b[1;33m)\u001b[0m\u001b[1;33m\u001b[0m\u001b[0m\n\u001b[0;32m   1256\u001b[0m         return_value = get_return_value(\n\u001b[1;32m-> 1257\u001b[1;33m             answer, self.gateway_client, self.target_id, self.name)\n\u001b[0m\u001b[0;32m   1258\u001b[0m \u001b[1;33m\u001b[0m\u001b[0m\n\u001b[0;32m   1259\u001b[0m         \u001b[1;32mfor\u001b[0m \u001b[0mtemp_arg\u001b[0m \u001b[1;32min\u001b[0m \u001b[0mtemp_args\u001b[0m\u001b[1;33m:\u001b[0m\u001b[1;33m\u001b[0m\u001b[0m\n",
      "\u001b[1;32m~\\Anaconda2\\envs\\snakes\\lib\\site-packages\\pyspark\\sql\\utils.py\u001b[0m in \u001b[0;36mdeco\u001b[1;34m(*a, **kw)\u001b[0m\n\u001b[0;32m     67\u001b[0m                                              e.java_exception.getStackTrace()))\n\u001b[0;32m     68\u001b[0m             \u001b[1;32mif\u001b[0m \u001b[0ms\u001b[0m\u001b[1;33m.\u001b[0m\u001b[0mstartswith\u001b[0m\u001b[1;33m(\u001b[0m\u001b[1;34m'org.apache.spark.sql.AnalysisException: '\u001b[0m\u001b[1;33m)\u001b[0m\u001b[1;33m:\u001b[0m\u001b[1;33m\u001b[0m\u001b[0m\n\u001b[1;32m---> 69\u001b[1;33m                 \u001b[1;32mraise\u001b[0m \u001b[0mAnalysisException\u001b[0m\u001b[1;33m(\u001b[0m\u001b[0ms\u001b[0m\u001b[1;33m.\u001b[0m\u001b[0msplit\u001b[0m\u001b[1;33m(\u001b[0m\u001b[1;34m': '\u001b[0m\u001b[1;33m,\u001b[0m \u001b[1;36m1\u001b[0m\u001b[1;33m)\u001b[0m\u001b[1;33m[\u001b[0m\u001b[1;36m1\u001b[0m\u001b[1;33m]\u001b[0m\u001b[1;33m,\u001b[0m \u001b[0mstackTrace\u001b[0m\u001b[1;33m)\u001b[0m\u001b[1;33m\u001b[0m\u001b[0m\n\u001b[0m\u001b[0;32m     70\u001b[0m             \u001b[1;32mif\u001b[0m \u001b[0ms\u001b[0m\u001b[1;33m.\u001b[0m\u001b[0mstartswith\u001b[0m\u001b[1;33m(\u001b[0m\u001b[1;34m'org.apache.spark.sql.catalyst.analysis'\u001b[0m\u001b[1;33m)\u001b[0m\u001b[1;33m:\u001b[0m\u001b[1;33m\u001b[0m\u001b[0m\n\u001b[0;32m     71\u001b[0m                 \u001b[1;32mraise\u001b[0m \u001b[0mAnalysisException\u001b[0m\u001b[1;33m(\u001b[0m\u001b[0ms\u001b[0m\u001b[1;33m.\u001b[0m\u001b[0msplit\u001b[0m\u001b[1;33m(\u001b[0m\u001b[1;34m': '\u001b[0m\u001b[1;33m,\u001b[0m \u001b[1;36m1\u001b[0m\u001b[1;33m)\u001b[0m\u001b[1;33m[\u001b[0m\u001b[1;36m1\u001b[0m\u001b[1;33m]\u001b[0m\u001b[1;33m,\u001b[0m \u001b[0mstackTrace\u001b[0m\u001b[1;33m)\u001b[0m\u001b[1;33m\u001b[0m\u001b[0m\n",
      "\u001b[1;31mAnalysisException\u001b[0m: \"Union can only be performed on tables with the same number of columns, but the first table has 12 columns and the second table has 6 columns;;\\n'Union\\n:- AnalysisBarrier\\n:     +- Project [time#1259, src_comp#1262, dest_comp#1263, auth_type#1264, logon_type#1265, auth_orientation#1266, success#1267, src_user#1338, src_dmn#1349, dest_user#1361, dest_dmn#1374, Authorization AS type#1399]\\n:        +- Project [time#1259, src_comp#1262, dest_comp#1263, auth_type#1264, logon_type#1265, auth_orientation#1266, success#1267, src_user#1338, src_dmn#1349, dest_user#1361, dest_dmn#1374]\\n:           +- Project [time#1259, src_user@domain#1260, dest_user@domain#1261, src_comp#1262, dest_comp#1263, auth_type#1264, logon_type#1265, auth_orientation#1266, success#1267, src_user#1338, src_dmn#1349, dest_user#1361, split(dest_user@domain#1261, @)[1] AS dest_dmn#1374]\\n:              +- Project [time#1259, src_user@domain#1260, dest_user@domain#1261, src_comp#1262, dest_comp#1263, auth_type#1264, logon_type#1265, auth_orientation#1266, success#1267, src_user#1338, src_dmn#1349, split(dest_user@domain#1261, @)[0] AS dest_user#1361]\\n:                 +- Project [time#1259, src_user@domain#1260, dest_user@domain#1261, src_comp#1262, dest_comp#1263, auth_type#1264, logon_type#1265, auth_orientation#1266, success#1267, src_user#1338, split(src_user@domain#1260, @)[1] AS src_dmn#1349]\\n:                    +- Project [time#1259, src_user@domain#1260, dest_user@domain#1261, src_comp#1262, dest_comp#1263, auth_type#1264, logon_type#1265, auth_orientation#1266, success#1267, split(src_user@domain#1260, @)[0] AS src_user#1338]\\n:                       +- Relation[time#1259,src_user@domain#1260,dest_user@domain#1261,src_comp#1262,dest_comp#1263,auth_type#1264,logon_type#1265,auth_orientation#1266,success#1267] csv\\n+- AnalysisBarrier\\n      +- Project [time#1301, src_comp#1303, dst_comp#1304, src_user#1412, src_dmn#1418, RedTeam AS type#1430]\\n         +- Project [time#1301, src_comp#1303, dst_comp#1304, src_user#1412, src_dmn#1418]\\n            +- Project [time#1301, user@domain#1302, src_comp#1303, dst_comp#1304, src_user#1412, split(user@domain#1302, @)[1] AS src_dmn#1418]\\n               +- Project [time#1301, user@domain#1302, src_comp#1303, dst_comp#1304, split(user@domain#1302, @)[0] AS src_user#1412]\\n                  +- Relation[time#1301,user@domain#1302,src_comp#1303,dst_comp#1304] csv\\n\""
     ]
    }
   ],
   "source": [
    "master = auth.union(redteam)"
   ]
  },
  {
   "cell_type": "markdown",
   "metadata": {},
   "source": [
    "## Data Show"
   ]
  },
  {
   "cell_type": "code",
   "execution_count": 7,
   "metadata": {
    "scrolled": false
   },
   "outputs": [
    {
     "name": "stdout",
     "output_type": "stream",
     "text": [
      "+----+--------------------+--------------------+--------+---------+---------+----------+----------------+-------+\n",
      "|time|     src_user@domain|    dest_user@domain|src_comp|dest_comp|auth_type|logon_type|auth_orientation|success|\n",
      "+----+--------------------+--------------------+--------+---------+---------+----------+----------------+-------+\n",
      "|   1|ANONYMOUS LOGON@C586|ANONYMOUS LOGON@C586|   C1250|     C586|     NTLM|   Network|           LogOn|Success|\n",
      "|   1|ANONYMOUS LOGON@C586|ANONYMOUS LOGON@C586|    C586|     C586|        ?|   Network|          LogOff|Success|\n",
      "|   1|          C101$@DOM1|          C101$@DOM1|    C988|     C988|        ?|   Network|          LogOff|Success|\n",
      "|   1|         C1020$@DOM1|        SYSTEM@C1020|   C1020|    C1020|Negotiate|   Service|           LogOn|Success|\n",
      "|   1|         C1021$@DOM1|         C1021$@DOM1|   C1021|     C625| Kerberos|   Network|           LogOn|Success|\n",
      "|   1|         C1035$@DOM1|         C1035$@DOM1|   C1035|     C586| Kerberos|   Network|           LogOn|Success|\n",
      "|   1|         C1035$@DOM1|         C1035$@DOM1|    C586|     C586|        ?|   Network|          LogOff|Success|\n",
      "|   1|         C1069$@DOM1|        SYSTEM@C1069|   C1069|    C1069|Negotiate|   Service|           LogOn|Success|\n",
      "|   1|         C1085$@DOM1|         C1085$@DOM1|   C1085|     C612| Kerberos|   Network|           LogOn|Success|\n",
      "|   1|         C1085$@DOM1|         C1085$@DOM1|    C612|     C612|        ?|   Network|          LogOff|Success|\n",
      "|   1|         C1151$@DOM1|        SYSTEM@C1151|   C1151|    C1151|Negotiate|   Service|           LogOn|Success|\n",
      "|   1|         C1154$@DOM1|        SYSTEM@C1154|   C1154|    C1154|Negotiate|   Service|           LogOn|Success|\n",
      "|   1|         C1164$@DOM1|         C1164$@DOM1|    C625|     C625|        ?|   Network|          LogOff|Success|\n",
      "|   1|          C119$@DOM1|          C119$@DOM1|    C119|     C528| Kerberos|   Network|           LogOn|Success|\n",
      "|   1|         C1218$@DOM1|         C1218$@DOM1|   C1218|     C529| Kerberos|   Network|           LogOn|Success|\n",
      "|   1|         C1235$@DOM1|         C1235$@DOM1|    C586|     C586|        ?|   Network|          LogOff|Success|\n",
      "|   1|         C1241$@DOM1|        SYSTEM@C1241|   C1241|    C1241|Negotiate|   Service|           LogOn|Success|\n",
      "|   1|         C1250$@DOM1|         C1250$@DOM1|   C1250|     C586| Kerberos|   Network|           LogOn|Success|\n",
      "|   1|         C1314$@DOM1|         C1314$@DOM1|   C1314|     C467| Kerberos|   Network|           LogOn|Success|\n",
      "|   1|          C144$@DOM1|         SYSTEM@C144|    C144|     C144|Negotiate|   Service|           LogOn|Success|\n",
      "+----+--------------------+--------------------+--------+---------+---------+----------+----------------+-------+\n",
      "only showing top 20 rows\n",
      "\n"
     ]
    }
   ],
   "source": [
    "auth.show()"
   ]
  },
  {
   "cell_type": "code",
   "execution_count": 8,
   "metadata": {},
   "outputs": [
    {
     "name": "stdout",
     "output_type": "stream",
     "text": [
      "+------+-----------+--------+--------+\n",
      "|  time|user@domain|src_comp|dst_comp|\n",
      "+------+-----------+--------+--------+\n",
      "|150885|  U620@DOM1|  C17693|   C1003|\n",
      "|151036|  U748@DOM1|  C17693|    C305|\n",
      "|151648|  U748@DOM1|  C17693|    C728|\n",
      "|151993| U6115@DOM1|  C17693|   C1173|\n",
      "|153792|  U636@DOM1|  C17693|    C294|\n",
      "|155219|  U748@DOM1|  C17693|   C5693|\n",
      "|155399|  U748@DOM1|  C17693|    C152|\n",
      "|155460|  U748@DOM1|  C17693|   C2341|\n",
      "|155591|  U748@DOM1|  C17693|    C332|\n",
      "|156658|  U748@DOM1|  C17693|   C4280|\n",
      "|210086|  U748@DOM1|  C18025|   C1493|\n",
      "|210294|  U748@DOM1|  C18025|   C1493|\n",
      "|210312|  U748@DOM1|  C18025|   C1493|\n",
      "|218418|  U748@DOM1|  C17693|    C504|\n",
      "|227052|  U748@DOM1|  C17693|    C148|\n",
      "|227408|  U748@DOM1|  C17693|    C148|\n",
      "|227520|  U748@DOM1|  C17693|    C148|\n",
      "|227780|  U748@DOM1|  C17693|    C148|\n",
      "|228024|  U748@DOM1|  C17693|    C148|\n",
      "|228150|  U748@DOM1|  C17693|    C148|\n",
      "+------+-----------+--------+--------+\n",
      "only showing top 20 rows\n",
      "\n"
     ]
    }
   ],
   "source": [
    "redteam.show()"
   ]
  },
  {
   "cell_type": "code",
   "execution_count": 9,
   "metadata": {
    "scrolled": false
   },
   "outputs": [
    {
     "name": "stdout",
     "output_type": "stream",
     "text": [
      "+----+--------+------------+\n",
      "|time|src_comp|cmp_resolved|\n",
      "+----+--------+------------+\n",
      "|null|    null|        null|\n",
      "|null|    null|        null|\n",
      "|null|    null|        null|\n",
      "|null|    null|        null|\n",
      "|null|    null|        null|\n",
      "|null|    null|        null|\n",
      "|null|    null|        null|\n",
      "|null|    null|        null|\n",
      "|null|    null|        null|\n",
      "|null|    null|        null|\n",
      "|null|    null|        null|\n",
      "|null|    null|        null|\n",
      "|null|    null|        null|\n",
      "|null|    null|        null|\n",
      "|null|    null|        null|\n",
      "|null|    null|        null|\n",
      "|null|    null|        null|\n",
      "|null|    null|        null|\n",
      "|null|    null|        null|\n",
      "|null|    null|        null|\n",
      "+----+--------+------------+\n",
      "only showing top 20 rows\n",
      "\n"
     ]
    }
   ],
   "source": [
    "dns.show()"
   ]
  },
  {
   "cell_type": "code",
   "execution_count": 14,
   "metadata": {
    "scrolled": false
   },
   "outputs": [
    {
     "name": "stdout",
     "output_type": "stream",
     "text": [
      "+----+--------+--------+-------+---------+--------+--------+-------+-------+------------+\n",
      "|time|duration|src_comp|src_prt|dest_comp|dest_prt|protocol|pkt_cnt|byt_cnt|avg_pkt_size|\n",
      "+----+--------+--------+-------+---------+--------+--------+-------+-------+------------+\n",
      "|   1|       0|   C1065|    389|    C3799|  N10451|       6|     10|   5323|      532.30|\n",
      "|   1|       0|   C1423|  N1136|    C1707|      N1|       6|      5|    847|      169.40|\n",
      "|   1|       0|   C1423|  N1142|    C1707|      N1|       6|      5|    847|      169.40|\n",
      "|   1|       0|  C14909|  N8191|    C5720|    2049|       6|      1|     52|       52.00|\n",
      "|   1|       0|  C14909|  N8192|    C5720|    2049|       6|      1|     52|       52.00|\n",
      "|   1|       0|  C14909|  N8193|    C5720|    2049|       6|      1|     52|       52.00|\n",
      "|   1|       0|   C1707|     N1|    C1423|   N1136|       6|      4|    414|      103.50|\n",
      "|   1|       0|   C1707|     N1|    C1423|   N1142|       6|      4|    413|      103.25|\n",
      "|   1|       0|   C1707|     N1|     C925|  N10487|       6|      4|    414|      103.50|\n",
      "|   1|       0|   C1707|     N1|     C925|  N10491|       6|      4|    413|      103.25|\n",
      "|   1|       0|   C3587|    N44|     C528|     N17|       1|      2|    120|       60.00|\n",
      "|   1|       0|   C3799| N10451|    C1065|     389|       6|     12|   3007|      250.58|\n",
      "|   1|       0|   C4879|  N2369|     C585|     139|       6|      1|     46|       46.00|\n",
      "|   1|       0|    C528|    N17|    C3587|     N17|       1|      2|    120|       60.00|\n",
      "|   1|       0|   C5720|   2049|   C14909|   N8191|       6|      1|     52|       52.00|\n",
      "|   1|       0|   C5720|   2049|   C14909|   N8192|       6|      1|     52|       52.00|\n",
      "|   1|       0|   C5720|   2049|   C14909|   N8193|       6|      1|     52|       52.00|\n",
      "|   1|       0|   C8177|  N7052|    C7632|     N77|       6|      1|     48|       48.00|\n",
      "|   1|       0|    C925| N10487|    C1707|      N1|       6|      4|    810|      202.50|\n",
      "|   1|       0|    C925| N10491|    C1707|      N1|       6|      4|    810|      202.50|\n",
      "+----+--------+--------+-------+---------+--------+--------+-------+-------+------------+\n",
      "only showing top 20 rows\n",
      "\n"
     ]
    }
   ],
   "source": [
    "flows.show()"
   ]
  },
  {
   "cell_type": "code",
   "execution_count": 64,
   "metadata": {},
   "outputs": [
    {
     "name": "stdout",
     "output_type": "stream",
     "text": [
      "+----+--------+---------+---------+----------+----------------+-------+---------------+-------+---------------+--------+-------------+\n",
      "|time|src_comp|dest_comp|auth_type|logon_type|auth_orientation|success|       src_user|src_dmn|      dest_user|dest_dmn|         type|\n",
      "+----+--------+---------+---------+----------+----------------+-------+---------------+-------+---------------+--------+-------------+\n",
      "|   1|   C1250|     C586|     NTLM|   Network|           LogOn|Success|ANONYMOUS LOGON|   C586|ANONYMOUS LOGON|    C586|Authorization|\n",
      "|   1|    C586|     C586|        ?|   Network|          LogOff|Success|ANONYMOUS LOGON|   C586|ANONYMOUS LOGON|    C586|Authorization|\n",
      "|   1|    C988|     C988|        ?|   Network|          LogOff|Success|          C101$|   DOM1|          C101$|    DOM1|Authorization|\n",
      "|   1|   C1020|    C1020|Negotiate|   Service|           LogOn|Success|         C1020$|   DOM1|         SYSTEM|   C1020|Authorization|\n",
      "|   1|   C1021|     C625| Kerberos|   Network|           LogOn|Success|         C1021$|   DOM1|         C1021$|    DOM1|Authorization|\n",
      "|   1|   C1035|     C586| Kerberos|   Network|           LogOn|Success|         C1035$|   DOM1|         C1035$|    DOM1|Authorization|\n",
      "|   1|    C586|     C586|        ?|   Network|          LogOff|Success|         C1035$|   DOM1|         C1035$|    DOM1|Authorization|\n",
      "|   1|   C1069|    C1069|Negotiate|   Service|           LogOn|Success|         C1069$|   DOM1|         SYSTEM|   C1069|Authorization|\n",
      "|   1|   C1085|     C612| Kerberos|   Network|           LogOn|Success|         C1085$|   DOM1|         C1085$|    DOM1|Authorization|\n",
      "|   1|    C612|     C612|        ?|   Network|          LogOff|Success|         C1085$|   DOM1|         C1085$|    DOM1|Authorization|\n",
      "|   1|   C1151|    C1151|Negotiate|   Service|           LogOn|Success|         C1151$|   DOM1|         SYSTEM|   C1151|Authorization|\n",
      "|   1|   C1154|    C1154|Negotiate|   Service|           LogOn|Success|         C1154$|   DOM1|         SYSTEM|   C1154|Authorization|\n",
      "|   1|    C625|     C625|        ?|   Network|          LogOff|Success|         C1164$|   DOM1|         C1164$|    DOM1|Authorization|\n",
      "|   1|    C119|     C528| Kerberos|   Network|           LogOn|Success|          C119$|   DOM1|          C119$|    DOM1|Authorization|\n",
      "|   1|   C1218|     C529| Kerberos|   Network|           LogOn|Success|         C1218$|   DOM1|         C1218$|    DOM1|Authorization|\n",
      "|   1|    C586|     C586|        ?|   Network|          LogOff|Success|         C1235$|   DOM1|         C1235$|    DOM1|Authorization|\n",
      "|   1|   C1241|    C1241|Negotiate|   Service|           LogOn|Success|         C1241$|   DOM1|         SYSTEM|   C1241|Authorization|\n",
      "|   1|   C1250|     C586| Kerberos|   Network|           LogOn|Success|         C1250$|   DOM1|         C1250$|    DOM1|Authorization|\n",
      "|   1|   C1314|     C467| Kerberos|   Network|           LogOn|Success|         C1314$|   DOM1|         C1314$|    DOM1|Authorization|\n",
      "|   1|    C144|     C144|Negotiate|   Service|           LogOn|Success|          C144$|   DOM1|         SYSTEM|    C144|Authorization|\n",
      "+----+--------+---------+---------+----------+----------------+-------+---------------+-------+---------------+--------+-------------+\n",
      "only showing top 20 rows\n",
      "\n"
     ]
    }
   ],
   "source": [
    "master.show()"
   ]
  },
  {
   "cell_type": "markdown",
   "metadata": {},
   "source": [
    "## Data Analysis"
   ]
  },
  {
   "cell_type": "code",
   "execution_count": 5,
   "metadata": {},
   "outputs": [],
   "source": [
    "# proc_domains = proc.select('domain').distinct()\n",
    "# proc_users = proc.select('user').distinct()"
   ]
  },
  {
   "cell_type": "code",
   "execution_count": 13,
   "metadata": {},
   "outputs": [],
   "source": [
    "# proc_domains.coalesce(1).write.csv('domains.csv')\n",
    "# proc_users.coalesce(1).write.csv('users.csv')"
   ]
  },
  {
   "cell_type": "code",
   "execution_count": 60,
   "metadata": {},
   "outputs": [
    {
     "name": "stdout",
     "output_type": "stream",
     "text": [
      "+----+-----------+---------+-----+\n",
      "|time|user@domain|proc_name|start|\n",
      "+----+-----------+---------+-----+\n",
      "|   0|          0|        0|    0|\n",
      "+----+-----------+---------+-----+\n",
      "\n"
     ]
    }
   ],
   "source": [
    "# proc.select(*(sum(col(c).isNull().cast(\"int\")).alias(c) for c in proc.columns)).show()"
   ]
  },
  {
   "cell_type": "code",
   "execution_count": 58,
   "metadata": {},
   "outputs": [
    {
     "name": "stdout",
     "output_type": "stream",
     "text": [
      "+----+--------+--------+-------+---------+--------+--------+-------+-------+\n",
      "|time|duration|src_comp|src_prt|dest_comp|dest_prt|protocol|pkt_cnt|byt_cnt|\n",
      "+----+--------+--------+-------+---------+--------+--------+-------+-------+\n",
      "| 530|     530|     530|    530|      530|     530|     530|    530|    530|\n",
      "+----+--------+--------+-------+---------+--------+--------+-------+-------+\n",
      "\n"
     ]
    }
   ],
   "source": [
    "# flows.select(*(sum(col(c).isNull().cast(\"int\")).alias(c) for c in flows.columns)).show()"
   ]
  },
  {
   "cell_type": "code",
   "execution_count": 77,
   "metadata": {},
   "outputs": [
    {
     "name": "stdout",
     "output_type": "stream",
     "text": [
      "+-------+\n",
      "|success|\n",
      "+-------+\n",
      "|Success|\n",
      "|   Fail|\n",
      "+-------+\n",
      "\n"
     ]
    }
   ],
   "source": [
    "auth.select('success').distinct().show()"
   ]
  },
  {
   "cell_type": "code",
   "execution_count": 59,
   "metadata": {},
   "outputs": [
    {
     "name": "stdout",
     "output_type": "stream",
     "text": [
      "+----+---------------+----------------+--------+---------+---------+----------+----------------+-------+\n",
      "|time|src_user@domain|dest_user@domain|src_comp|dest_comp|auth_type|logon_type|auth_orientation|success|\n",
      "+----+---------------+----------------+--------+---------+---------+----------+----------------+-------+\n",
      "|   0|              0|               0|       0|        0|        0|         0|               0|      0|\n",
      "+----+---------------+----------------+--------+---------+---------+----------+----------------+-------+\n",
      "\n"
     ]
    }
   ],
   "source": [
    "auth.select(*(sum(col(c).isNull().cast(\"int\")).alias(c) for c in auth.columns)).show()"
   ]
  },
  {
   "cell_type": "code",
   "execution_count": 32,
   "metadata": {},
   "outputs": [
    {
     "name": "stdout",
     "output_type": "stream",
     "text": [
      "+-----+--------+--------+-------+---------+--------+--------+-------+-------+------------+\n",
      "| time|duration|src_comp|src_prt|dest_comp|dest_prt|protocol|pkt_cnt|byt_cnt|avg_pkt_size|\n",
      "+-----+--------+--------+-------+---------+--------+--------+-------+-------+------------+\n",
      "|41972|       0|   C1654|     80|   C13742|   N4427|       6|      2|     92|        46.0|\n",
      "|41974|      38|   C1015|   N221|    C8681|   N2153|       6|      2|     92|        46.0|\n",
      "|41972|       0|   C7632|   N294|   C20510|  N18962|       6|      1|     46|        46.0|\n",
      "|41970|       0|   C8974|  N4126|    C5787|  N30556|       6|      1|     46|        46.0|\n",
      "|41972|      38|   C1015|   N221|    C8964|   N2024|       6|      2|     92|        46.0|\n",
      "|41971|       0|  C14402|  N9113|     C585|     139|       6|      1|     46|        46.0|\n",
      "|41972|      60|  C11149|  N2801|    C2588|     N76|       6|      4|    184|        46.0|\n",
      "|41971|       0|   C3873|     80|    C3959|   N3771|       6|      2|     92|        46.0|\n",
      "|41973|       0|  C15166|  N5899|     C706|      80|       6|      1|     46|        46.0|\n",
      "|41971|       0|   C3959|  N3771|    C3873|      80|       6|      2|     92|        46.0|\n",
      "|41973|       0|  C20373|    445|   C11693|   N1037|       6|      1|     46|        46.0|\n",
      "|41971|       0|    C585|    445|     C947|   N6237|       6|      1|     46|        46.0|\n",
      "|41973|       0|   C4127| N16069|     C706|      80|       6|      1|     46|        46.0|\n",
      "|41971|      38|   C1015|   N221|     C184|   N2038|       6|      2|     92|        46.0|\n",
      "|41973|       0|   C7244| N18458|    C2008|     139|       6|      1|     46|        46.0|\n",
      "|41971|      60|   C7386|  N2843|    C2588|     N76|       6|      3|    138|        46.0|\n",
      "|41973|      60|   C2588|    N76|    C4905|    N179|       6|      3|    138|        46.0|\n",
      "|41973|      60|   C4905|   N179|    C2588|     N76|       6|      3|    138|        46.0|\n",
      "|41974|       0|   C8167|  N9273|     C585|     139|       6|      1|     46|        46.0|\n",
      "|41973|      60|   C9851|  N2783|    C2588|     N76|       6|      3|    138|        46.0|\n",
      "+-----+--------+--------+-------+---------+--------+--------+-------+-------+------------+\n",
      "only showing top 20 rows\n",
      "\n"
     ]
    }
   ],
   "source": [
    "flows.orderBy(\"avg_pkt_size\").show()"
   ]
  },
  {
   "cell_type": "code",
   "execution_count": 49,
   "metadata": {},
   "outputs": [
    {
     "name": "stdout",
     "output_type": "stream",
     "text": [
      "+----+--------+--------+-------+---------+--------+--------+-------+-------+------------+\n",
      "|time|duration|src_comp|src_prt|dest_comp|dest_prt|protocol|pkt_cnt|byt_cnt|avg_pkt_size|\n",
      "+----+--------+--------+-------+---------+--------+--------+-------+-------+------------+\n",
      "|   0|       0|       0|      0|        0|       0|       0|      0|      0|           0|\n",
      "+----+--------+--------+-------+---------+--------+--------+-------+-------+------------+\n",
      "\n"
     ]
    }
   ],
   "source": [
    "flows.select([count(when(isnan(c)|col(c).isNull(), c)).alias(c) for c in flows.columns]).show()"
   ]
  },
  {
   "cell_type": "code",
   "execution_count": 54,
   "metadata": {},
   "outputs": [
    {
     "name": "stdout",
     "output_type": "stream",
     "text": [
      "+----+--------+------------+\n",
      "|time|src_comp|cmp_resolved|\n",
      "+----+--------+------------+\n",
      "|   0|       0|           0|\n",
      "+----+--------+------------+\n",
      "\n"
     ]
    }
   ],
   "source": [
    "dns.select(*(sum(col(c).isNull().cast(\"int\")).alias(c) for c in dns.columns)).show()"
   ]
  },
  {
   "cell_type": "code",
   "execution_count": 25,
   "metadata": {},
   "outputs": [
    {
     "name": "stdout",
     "output_type": "stream",
     "text": [
      "root\n",
      " |-- time: date (nullable = true)\n",
      " |-- src_comp: string (nullable = true)\n",
      " |-- cmp_resolved: string (nullable = true)\n",
      "\n"
     ]
    }
   ],
   "source": [
    "dns.printSchema()"
   ]
  },
  {
   "cell_type": "code",
   "execution_count": 10,
   "metadata": {},
   "outputs": [
    {
     "name": "stdout",
     "output_type": "stream",
     "text": [
      "+----+-----------+-----+---------+-----+\n",
      "|time|user@domain| comp|proc_name|start|\n",
      "+----+-----------+-----+---------+-----+\n",
      "|   1|   C1$@DOM1|   C1|      P16|Start|\n",
      "|   1|C1001$@DOM1|C1001|       P4|Start|\n",
      "|   1|C1002$@DOM1|C1002|       P4|Start|\n",
      "|   1|C1004$@DOM1|C1004|       P4|Start|\n",
      "|   1|C1017$@DOM1|C1017|       P4|Start|\n",
      "|   1|C1018$@DOM1|C1018|       P4|Start|\n",
      "|   1|C1020$@DOM1|C1020|       P3|Start|\n",
      "|   1|C1020$@DOM1|C1020|       P4|Start|\n",
      "|   1|C1028$@DOM1|C1028|      P16|  End|\n",
      "|   1|C1029$@DOM1|C1029|       P4|Start|\n",
      "|   1|C1030$@DOM1|C1030|       P4|Start|\n",
      "|   1|C1032$@DOM1|C1032|       P4|Start|\n",
      "|   1|C1035$@DOM1|C1035|      P37|Start|\n",
      "|   1|C1035$@DOM1|C1035|       P5|Start|\n",
      "|   1|C1051$@DOM1|C1051|      P16|Start|\n",
      "|   1|C1069$@DOM1|C1069|       P3|Start|\n",
      "|   1|C1069$@DOM1|C1069|       P4|Start|\n",
      "|   1|C1079$@DOM1|C1079|       P4|Start|\n",
      "|   1|C1084$@DOM1|C1084|       P4|Start|\n",
      "|   1|C1088$@DOM1|C1088|       P4|Start|\n",
      "+----+-----------+-----+---------+-----+\n",
      "only showing top 20 rows\n",
      "\n"
     ]
    }
   ],
   "source": [
    "proc.show()"
   ]
  },
  {
   "cell_type": "code",
   "execution_count": 20,
   "metadata": {},
   "outputs": [
    {
     "name": "stdout",
     "output_type": "stream",
     "text": [
      "root\n",
      " |-- time: date (nullable = true)\n",
      " |-- user@domain: string (nullable = true)\n",
      " |-- src_comp: string (nullable = true)\n",
      " |-- dst_comp: string (nullable = true)\n",
      "\n"
     ]
    }
   ],
   "source": [
    "redteam.printSchema()"
   ]
  },
  {
   "cell_type": "code",
   "execution_count": 6,
   "metadata": {},
   "outputs": [],
   "source": [
    "from pyspark.sql.functions import lit, unix_timestamp\n",
    "start = datetime.date(2018,1,1)\n",
    "#datetime.timestamp(2018,1,1,12,0,0)\n",
    "\n"
   ]
  },
  {
   "cell_type": "code",
   "execution_count": 7,
   "metadata": {},
   "outputs": [
    {
     "data": {
      "text/plain": [
       "datetime.datetime(2018, 1, 3, 15, 22, 30)"
      ]
     },
     "execution_count": 7,
     "metadata": {},
     "output_type": "execute_result"
    }
   ],
   "source": [
    "datetime.datetime.fromtimestamp(time.mktime(start.timetuple()) + 228150)"
   ]
  },
  {
   "cell_type": "code",
   "execution_count": 8,
   "metadata": {},
   "outputs": [],
   "source": [
    "func = udf (lambda x: datetime.datetime.fromtimestamp(time.mktime(start.timetuple()) + x).date(),DateType() )"
   ]
  },
  {
   "cell_type": "code",
   "execution_count": 9,
   "metadata": {},
   "outputs": [
    {
     "ename": "SyntaxError",
     "evalue": "invalid syntax (<ipython-input-9-48ac7615f935>, line 1)",
     "output_type": "error",
     "traceback": [
      "\u001b[1;36m  File \u001b[1;32m\"<ipython-input-9-48ac7615f935>\"\u001b[1;36m, line \u001b[1;32m1\u001b[0m\n\u001b[1;33m    redteam1 = redteam.withColumn(\"timestam\", redteam.select(\"time\")),'yyyy-MM-dd HH:mm:ss').cast(\"timestamp\") )\u001b[0m\n\u001b[1;37m                                                                                           ^\u001b[0m\n\u001b[1;31mSyntaxError\u001b[0m\u001b[1;31m:\u001b[0m invalid syntax\n"
     ]
    }
   ],
   "source": [
    "redteam1 = redteam.withColumn(\"timestam\", redteam.select(\"time\")),'yyyy-MM-dd HH:mm:ss').cast(\"timestamp\") )"
   ]
  },
  {
   "cell_type": "code",
   "execution_count": 10,
   "metadata": {},
   "outputs": [],
   "source": [
    "import time\n",
    "\n",
    "time_update = udf(lambda x: time.strftime('%m/%d %H:%M:%S', time.gmtime(x)))\n",
    "\n",
    "#timestam = time.strftime('%m/%d %H:%M:%S', time.gmtime(redteam.select(\"time\")))"
   ]
  },
  {
   "cell_type": "code",
   "execution_count": 23,
   "metadata": {},
   "outputs": [
    {
     "name": "stdout",
     "output_type": "stream",
     "text": [
      "+------+--------------+\n",
      "|  time|      timestam|\n",
      "+------+--------------+\n",
      "|150885|01/02 17:54:45|\n",
      "|151036|01/02 17:57:16|\n",
      "|151648|01/02 18:07:28|\n",
      "|151993|01/02 18:13:13|\n",
      "|153792|01/02 18:43:12|\n",
      "|155219|01/02 19:06:59|\n",
      "|155399|01/02 19:09:59|\n",
      "|155460|01/02 19:11:00|\n",
      "|155591|01/02 19:13:11|\n",
      "|156658|01/02 19:30:58|\n",
      "|210086|01/03 10:21:26|\n",
      "|210294|01/03 10:24:54|\n",
      "|210312|01/03 10:25:12|\n",
      "|218418|01/03 12:40:18|\n",
      "|227052|01/03 15:04:12|\n",
      "|227408|01/03 15:10:08|\n",
      "|227520|01/03 15:12:00|\n",
      "|227780|01/03 15:16:20|\n",
      "|228024|01/03 15:20:24|\n",
      "|228150|01/03 15:22:30|\n",
      "+------+--------------+\n",
      "only showing top 20 rows\n",
      "\n"
     ]
    }
   ],
   "source": [
    "redteam1.show()"
   ]
  },
  {
   "cell_type": "code",
   "execution_count": null,
   "metadata": {},
   "outputs": [],
   "source": []
  }
 ],
 "metadata": {
  "kernelspec": {
   "display_name": "Python 3",
   "language": "python",
   "name": "python3"
  },
  "language_info": {
   "codemirror_mode": {
    "name": "ipython",
    "version": 3
   },
   "file_extension": ".py",
   "mimetype": "text/x-python",
   "name": "python",
   "nbconvert_exporter": "python",
   "pygments_lexer": "ipython3",
   "version": "3.6.6"
  }
 },
 "nbformat": 4,
 "nbformat_minor": 2
}
